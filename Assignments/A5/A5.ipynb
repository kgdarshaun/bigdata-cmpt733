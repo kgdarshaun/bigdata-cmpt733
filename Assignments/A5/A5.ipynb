{
    "cells": [
     {
      "cell_type": "markdown",
      "metadata": {},
      "source": [
       "# Assignment 5: Anomaly Detection"
      ]
     },
     {
      "cell_type": "markdown",
      "metadata": {},
      "source": [
       "## Objective"
      ]
     },
     {
      "cell_type": "markdown",
      "metadata": {},
      "source": [
       "In this assignment, you will be instructed to apply **unsupervised** learning to address a practical problem. For simplicity, we will use intrusion detection as an example. But the principle can be used in many other fields, such as fraud detection and medical care. After completing this assignment, you should be able to answer the following questions:\n",
       "\n",
       "1. How to standardize numerical features?\n",
       "2. How to transform categorical features into numerical features?\n",
       "3. How to derive anomalies from clustering results?\n",
       "4. How to tune parameters for unsupervised learning?"
      ]
     },
     {
      "attachments": {},
      "cell_type": "markdown",
      "metadata": {},
      "source": [
       "The data can be downloaded from [A5-data.zip](https://1sfu.sharepoint.com/:u:/r/teams/CMPT733-BigData2023-SFUTeams2/Shared%20Documents/Assignment%205/A5-data.zip?csf=1&web=1&e=disSct)."
      ]
     },
     {
      "cell_type": "markdown",
      "metadata": {},
      "source": [
       "### Overview"
      ]
     },
     {
      "cell_type": "markdown",
      "metadata": {},
      "source": [
       "In practice, when you are facing an ML problem, the process of solving it basically consists of two phases: _model development_ and _model serving_. \n",
       "\n",
       "* In model development, your job is to figure out what's the best algorithms, features, and parameters should be chosen based on historical data. This is often an iterative and off-line process. \n",
       "\n",
       "* Once you develop a satisfactory model, you will need to use the model to serve new requests and make predictions. This is often an on-line process, so you have to think about how to make the predictions as fast as possible and how to efficiently update the model when new data arrive. "
      ]
     },
     {
      "cell_type": "markdown",
      "metadata": {},
      "source": [
       "In this assignment, you are going to focus on the model development stage. Model serving is also a very important topic. I hope you can learn it by yourself or through your final project. Below are a few good references: \n",
       "* [Deploy a Model in Amazon SageMaker](https://docs.aws.amazon.com/sagemaker/latest/dg/how-it-works-deployment.html)\n",
       "* [TensorFlow Serving](https://www.tensorflow.org/tfx/guide/serving)\n",
       "* [Deploy models with Azure Machine Learning](https://docs.microsoft.com/en-us/azure/machine-learning/how-to-deploy-and-where)\n",
       "* [Serving of ML models in Kubeflow](https://www.kubeflow.org/docs/external-add-ons/serving/)\n",
       "* [MLflow Model Serving on Databricks](https://docs.databricks.com/applications/mlflow/model-serving.html)"
      ]
     },
     {
      "cell_type": "markdown",
      "metadata": {},
      "source": [
       "### Model Development"
      ]
     },
     {
      "cell_type": "markdown",
      "metadata": {},
      "source": [
       "Suppose you want to develop a model that can detect anomalous connections to your company's server. The server log contains all the information of historical connections; your nice colleague has already helped you to transform the raw log into a collection of feature vectors, where each feature vector characterizes a connection in 40 dimensions, e.g., number of failed login attempts, length (number of seconds) of the connection. Here is one example feature vector:\n",
       "```\n",
       "[udp,SF,0,105,146,0,0,0,0,0,0,0,0,0,0,0,0,0,0,0,0,1,1,0.00,0.00,0.00,0.00,1.00,0.00,0.00,255,240,0.94,0.01,0.00,0.00,0.00,0.00,0.00,0.00]\n",
       "```"
      ]
     },
     {
      "cell_type": "markdown",
      "metadata": {},
      "source": [
       "Your task is to take these feature vectors as input and develop an unsupervised-learning model to detect anomalous connections. In the lecture, we have gone through this process. In the assignment, you are going to implement three functions: `cat2Num`, `scaleNum`, and `detect`, by doing Tasks A-C, respectively.\n",
       "\n",
       "``` python\n",
       "# anomaly_detection.py\n",
       "import pandas as pd\n",
       "\n",
       "\n",
       "class AnomalyDetection():\n",
       "    \n",
       "    def scaleNum(self, df, indices):\n",
       "        \"\"\"\n",
       "            Write your code!\n",
       "        \"\"\"\n",
       "    \n",
       "    \n",
       "    def cat2Num(self, df, indices):\n",
       "        \"\"\"\n",
       "            Write your code!\n",
       "        \"\"\"\n",
       "            \n",
       "\n",
       "    def detect(self, df, k, t):\n",
       "        \"\"\"\n",
       "            Write your code!\n",
       "        \"\"\"\n",
       "        \n",
       "    \n",
       " \n",
       "if __name__ == \"__main__\":\n",
       "    df = pd.read_csv('logs-features-sample.csv').set_index('id')\n",
       "    ad = AnomalyDetection()\n",
       "    \n",
       "    df1 = ad.cat2Num(df, [0,1])\n",
       "    print(df1)\n",
       "\n",
       "    df2 = ad.scaleNum(df1, [6])\n",
       "    print(df2)\n",
       "\n",
       "    df3 = ad.detect(df2, 8, 0.97)\n",
       "    print(df3)\n",
       "```"
      ]
     },
     {
      "cell_type": "markdown",
      "metadata": {},
      "source": [
       "### A toy dataset for testing"
      ]
     },
     {
      "cell_type": "markdown",
      "metadata": {},
      "source": [
       "To test your program, you can read a toy dataset:\n",
       "\n",
       "```python\n",
       "    data = [(0, [\"http\", \"udt\", 4]), \\\n",
       "            (1, [\"http\", \"udf\", 5]), \\\n",
       "            (2, [\"http\", \"tcp\", 5]), \\\n",
       "            (3, [\"ftp\", \"icmp\", 1]), \\\n",
       "            (4, [\"http\", \"tcp\", 4])]\n",
       "\n",
       "    df = pd.DataFrame(data=data, columns = [\"id\", \"features\"])\n",
       "        \n",
       "```"
      ]
     },
     {
      "cell_type": "markdown",
      "metadata": {},
      "source": [
       "After running the script, your program should output the followings:\n",
       "\n",
       "**df1 = ad.cat2Num(df, [0,1])**\n",
       "\n",
       "```\n",
       "+---+---------------------+\n",
       "|id |features             |\n",
       "+---+---------------------+\n",
       "|0  |[1, 0, 1, 0, 0, 0, 4]|\n",
       "|1  |[1, 0, 0, 1, 0, 0, 5]|\n",
       "|2  |[1, 0, 0, 0, 1, 0, 5]|\n",
       "|3  |[0, 1, 0, 0, 0, 1, 1]|\n",
       "|4  |[1, 0, 0, 0, 1, 0, 4]|\n",
       "+---+---------------------+\n",
       "```"
      ]
     },
     {
      "cell_type": "markdown",
      "metadata": {},
      "source": [
       "**df2 = ad.scaleNum(df1, [6]):**\n",
       "\n",
       "```\n",
       "+---+---------------------------------------+\n",
       "|id |features                               |\n",
       "+---+---------------------------------------+\n",
       "|0  |[1, 0, 1, 0, 0, 0, 0.12171612389003701]|\n",
       "|1  |[1, 0, 0, 1, 0, 0, 0.7302967433402214] |\n",
       "|2  |[1, 0, 0, 0, 1, 0, 0.7302967433402214] |\n",
       "|3  |[0, 1, 0, 0, 0, 1, -1.704025734460517] |\n",
       "|4  |[1, 0, 0, 0, 1, 0, 0.12171612389003701]|\n",
       "+---+---------------------------------------+\n",
       "```"
      ]
     },
     {
      "cell_type": "markdown",
      "metadata": {},
      "source": [
       "**df3 = ad.detect(df2, 2, 0.9)**\n",
       "\n",
       "```\n",
       "+---+---------------------------------------+-----+\n",
       "|id |features                               |score|\n",
       "+---+---------------------------------------+-----+\n",
       "|3  |[0, 1, 0, 0, 0, 1, -1.704025734460517] |1.0  |\n",
       "+---+----------------+----------------------+-----+\n",
       "```"
      ]
     },
     {
      "cell_type": "code",
      "execution_count": 276,
      "metadata": {},
      "outputs": [],
      "source": [
       "import pandas as pd\n",
       "import numpy as np\n",
       "from sklearn.cluster import KMeans"
      ]
     },
     {
      "cell_type": "code",
      "execution_count": null,
      "metadata": {},
      "outputs": [],
      "source": [
       "[\"http\", \"udt\", 4]\n",
       "[\"http\", \"udf\", 5]\n",
       "[\"http\", \"tcp\", 5]\n",
       "[\"ftp\", \"icmp\", 1]\n",
       "[\"http\", \"tcp\", 4]"
      ]
     },
     {
      "cell_type": "code",
      "execution_count": 84,
      "metadata": {},
      "outputs": [
       {
        "data": {
         "text/html": [
          "<div>\n",
          "<style scoped>\n",
          "    .dataframe tbody tr th:only-of-type {\n",
          "        vertical-align: middle;\n",
          "    }\n",
          "\n",
          "    .dataframe tbody tr th {\n",
          "        vertical-align: top;\n",
          "    }\n",
          "\n",
          "    .dataframe thead th {\n",
          "        text-align: right;\n",
          "    }\n",
          "</style>\n",
          "<table border=\"1\" class=\"dataframe\">\n",
          "  <thead>\n",
          "    <tr style=\"text-align: right;\">\n",
          "      <th></th>\n",
          "      <th>features</th>\n",
          "    </tr>\n",
          "    <tr>\n",
          "      <th>id</th>\n",
          "      <th></th>\n",
          "    </tr>\n",
          "  </thead>\n",
          "  <tbody>\n",
          "    <tr>\n",
          "      <th>0</th>\n",
          "      <td>[http, udt, 4]</td>\n",
          "    </tr>\n",
          "    <tr>\n",
          "      <th>1</th>\n",
          "      <td>[http, udf, 5]</td>\n",
          "    </tr>\n",
          "    <tr>\n",
          "      <th>2</th>\n",
          "      <td>[http, tcp, 5]</td>\n",
          "    </tr>\n",
          "    <tr>\n",
          "      <th>3</th>\n",
          "      <td>[ftp, icmp, 1]</td>\n",
          "    </tr>\n",
          "    <tr>\n",
          "      <th>4</th>\n",
          "      <td>[http, tcp, 4]</td>\n",
          "    </tr>\n",
          "  </tbody>\n",
          "</table>\n",
          "</div>"
         ],
         "text/plain": [
          "          features\n",
          "id                \n",
          "0   [http, udt, 4]\n",
          "1   [http, udf, 5]\n",
          "2   [http, tcp, 5]\n",
          "3   [ftp, icmp, 1]\n",
          "4   [http, tcp, 4]"
         ]
        },
        "execution_count": 84,
        "metadata": {},
        "output_type": "execute_result"
       }
      ],
      "source": [
       "# df = pd.read_csv('logs-features-sample.csv').set_index('id')\n",
       "\n",
       "data = [(0, [\"http\", \"udt\", 4]), \\\n",
       "            (1, [\"http\", \"udf\", 5]), \\\n",
       "            (2, [\"http\", \"tcp\", 5]), \\\n",
       "            (3, [\"ftp\", \"icmp\", 1]), \\\n",
       "            (4, [\"http\", \"tcp\", 4])]\n",
       "\n",
       "df = pd.DataFrame(data=data, columns = [\"id\", \"features\"]).set_index('id')\n",
       "\n",
       "df"
      ]
     },
     {
      "cell_type": "markdown",
      "metadata": {},
      "source": [
       "### Task A. Categorical Features --> Numerical Features"
      ]
     },
     {
      "cell_type": "markdown",
      "metadata": {},
      "source": [
       "As you can see from the above feature vector, the first two dimensions in each feature vector are categorical features. For example, the first dimension can be one of the following cases: “http” or “ftp”. You can represent these categorical features using one-hot encoding, e.g., [1,0] for “http” and [0,1] for “ftp”. \n",
       "\n",
       "In Task A, your job is to implement the `cat2Num` function.\n",
       "\n",
       "```python\n",
       "    def cat2Num(self, df, indices):\n",
       "        \"\"\" \n",
       "            Input: $df represents a DataFrame with two columns: \"id\" and \"features\"\n",
       "                   $indices represents which dimensions in $features are categorical features, \n",
       "                    e.g., indices = [0, 1] denotes that the first two dimensions are categorical features.\n",
       "                    \n",
       "            Output: Return a new DataFrame that updates the \"features\" column with one-hot encoding. \n",
       "            \n",
       "        \"\"\"\n",
       "    \n",
       "```"
      ]
     },
     {
      "cell_type": "code",
      "execution_count": 9,
      "metadata": {},
      "outputs": [],
      "source": [
       "indices = [0,1]"
      ]
     },
     {
      "cell_type": "code",
      "execution_count": null,
      "metadata": {},
      "outputs": [],
      "source": [
       "def get_fill_values(length, position) -> str:\n",
       "\tarray = [0] * length\n",
       "\tarray[position] = 1\n",
       "\treturn ','.join([str(i) for i in array])"
      ]
     },
     {
      "cell_type": "code",
      "execution_count": 338,
      "metadata": {},
      "outputs": [
       {
        "name": "stdout",
        "output_type": "stream",
        "text": [
         "[['http', 'udt', 4], ['http', 'udf', 5], ['http', 'tcp', 5], ['ftp', 'icmp', 1], ['http', 'tcp', 4]] 3\n"
        ]
       },
       {
        "data": {
         "text/html": [
          "<div>\n",
          "<style scoped>\n",
          "    .dataframe tbody tr th:only-of-type {\n",
          "        vertical-align: middle;\n",
          "    }\n",
          "\n",
          "    .dataframe tbody tr th {\n",
          "        vertical-align: top;\n",
          "    }\n",
          "\n",
          "    .dataframe thead th {\n",
          "        text-align: right;\n",
          "    }\n",
          "</style>\n",
          "<table border=\"1\" class=\"dataframe\">\n",
          "  <thead>\n",
          "    <tr style=\"text-align: right;\">\n",
          "      <th></th>\n",
          "      <th>features</th>\n",
          "    </tr>\n",
          "  </thead>\n",
          "  <tbody>\n",
          "    <tr>\n",
          "      <th>0</th>\n",
          "      <td>[http, udt, 4]</td>\n",
          "    </tr>\n",
          "    <tr>\n",
          "      <th>1</th>\n",
          "      <td>[http, udf, 5]</td>\n",
          "    </tr>\n",
          "    <tr>\n",
          "      <th>2</th>\n",
          "      <td>[http, tcp, 5]</td>\n",
          "    </tr>\n",
          "    <tr>\n",
          "      <th>3</th>\n",
          "      <td>[ftp, icmp, 1]</td>\n",
          "    </tr>\n",
          "    <tr>\n",
          "      <th>4</th>\n",
          "      <td>[http, tcp, 4]</td>\n",
          "    </tr>\n",
          "  </tbody>\n",
          "</table>\n",
          "</div>"
         ],
         "text/plain": [
          "         features\n",
          "0  [http, udt, 4]\n",
          "1  [http, udf, 5]\n",
          "2  [http, tcp, 5]\n",
          "3  [ftp, icmp, 1]\n",
          "4  [http, tcp, 4]"
         ]
        },
        "execution_count": 338,
        "metadata": {},
        "output_type": "execute_result"
       }
      ],
      "source": [
       "print(df['features'].to_list(), len(df['features'].iloc[0]))\n",
       "new_df = pd.DataFrame(df['features'].to_list(), columns=np.arange(len(df['features'].iloc[0])))\n",
       "\n",
       "new_df['features'] = np.empty(len(new_df), str)\n",
       "\n",
       "for ind in range(len(df['features'].iloc[0])):\n",
       "\tif ind in indices:\n",
       "\t\tlabels = new_df[ind].unique().tolist()\n",
       "\t\tnew_df['features'] = new_df['features'] + ',' + new_df[ind].apply(lambda x: get_fill_values(len(labels), labels.index(x)))\n",
       "\telse:\n",
       "\t\tnew_df['features'] = new_df['features'] + ',' + new_df[ind].astype(str)\n",
       "\n",
       "new_df['features'] = new_df['features'].apply(lambda x: list(filter(None, x.split(','))))\n",
       "new_df = new_df[['features']]\n",
       "\n",
       "new_df"
      ]
     },
     {
      "cell_type": "markdown",
      "metadata": {},
      "source": [
       "**Note**: You have to implement one-hot encoding by yourself rather than use an existing implmentation in a libary. \n"
      ]
     },
     {
      "cell_type": "markdown",
      "metadata": {},
      "source": [
       "### Task B. Standardize Numerical Features "
      ]
     },
     {
      "cell_type": "markdown",
      "metadata": {},
      "source": [
       "K-Means utilizes the distance between every two points to do clustering. We don't want the distance to be dominated by some features. To avoid this, we standardize those features that are on a larger scale. \n",
       "\n",
       "In Task B, your job is to implement the `scaleNum` function, which standardizes specified features by removing the mean and scaling to unit variance.\n",
       "\n",
       "\n",
       "```python\n",
       "    def scaleNum(self, df, indices):\n",
       "        \"\"\" \n",
       "            Input: $df represents a DataFrame with two columns: \"id\" and \"features\"\n",
       "                   $indices represents which dimensions in $features that need to be standardized\n",
       "                    \n",
       "            Output: Return a new DataFrame that updates \"features\" column with specified features standarized.\n",
       "            \n",
       "        \"\"\"\n",
       "    \n",
       "```\n",
       "\n",
       "**Note:** You have to implement StandardScaler by yourself rather than use an existing implmentation in a libary"
      ]
     },
     {
      "cell_type": "code",
      "execution_count": 272,
      "metadata": {},
      "outputs": [],
      "source": [
       "indices = [6]"
      ]
     },
     {
      "cell_type": "code",
      "execution_count": 315,
      "metadata": {},
      "outputs": [
       {
        "data": {
         "text/html": [
          "<div>\n",
          "<style scoped>\n",
          "    .dataframe tbody tr th:only-of-type {\n",
          "        vertical-align: middle;\n",
          "    }\n",
          "\n",
          "    .dataframe tbody tr th {\n",
          "        vertical-align: top;\n",
          "    }\n",
          "\n",
          "    .dataframe thead th {\n",
          "        text-align: right;\n",
          "    }\n",
          "</style>\n",
          "<table border=\"1\" class=\"dataframe\">\n",
          "  <thead>\n",
          "    <tr style=\"text-align: right;\">\n",
          "      <th></th>\n",
          "      <th>features</th>\n",
          "    </tr>\n",
          "  </thead>\n",
          "  <tbody>\n",
          "    <tr>\n",
          "      <th>0</th>\n",
          "      <td>[1, 0, 1, 0, 0, 0, 0.12171612389003701]</td>\n",
          "    </tr>\n",
          "    <tr>\n",
          "      <th>1</th>\n",
          "      <td>[1, 0, 0, 1, 0, 0, 0.7302967433402215]</td>\n",
          "    </tr>\n",
          "    <tr>\n",
          "      <th>2</th>\n",
          "      <td>[1, 0, 0, 0, 1, 0, 0.7302967433402215]</td>\n",
          "    </tr>\n",
          "    <tr>\n",
          "      <th>3</th>\n",
          "      <td>[0, 1, 0, 0, 0, 1, -1.7040257344605165]</td>\n",
          "    </tr>\n",
          "    <tr>\n",
          "      <th>4</th>\n",
          "      <td>[1, 0, 0, 0, 1, 0, 0.12171612389003701]</td>\n",
          "    </tr>\n",
          "  </tbody>\n",
          "</table>\n",
          "</div>"
         ],
         "text/plain": [
          "                                  features\n",
          "0  [1, 0, 1, 0, 0, 0, 0.12171612389003701]\n",
          "1   [1, 0, 0, 1, 0, 0, 0.7302967433402215]\n",
          "2   [1, 0, 0, 0, 1, 0, 0.7302967433402215]\n",
          "3  [0, 1, 0, 0, 0, 1, -1.7040257344605165]\n",
          "4  [1, 0, 0, 0, 1, 0, 0.12171612389003701]"
         ]
        },
        "execution_count": 315,
        "metadata": {},
        "output_type": "execute_result"
       }
      ],
      "source": [
       "new_df2 = pd.DataFrame(new_df['features'].to_list(), columns=np.arange(len(new_df['features'].iloc[0])))\n",
       "\n",
       "new_df2['features'] = np.empty(len(new_df2), str)\n",
       "\n",
       "for ind in range(len(new_df['features'].iloc[0])):\n",
       "\tif ind in indices:\n",
       "\t\tmean = new_df2[ind].astype(float).mean()\n",
       "\t\tstd = new_df2[ind].astype(float).std()\n",
       "\t\tnew_df2['features'] = new_df2['features'] + ',' + new_df2[ind].apply(lambda x : str((float(x)-mean)/std))\n",
       "\telse:\n",
       "\t\tnew_df2['features'] = new_df2['features'] + ',' + new_df2[ind].astype(str)\n",
       "\n",
       "new_df2['features'] = new_df2['features'].apply(lambda x: list(filter(None, x.split(','))))\n",
       "new_df2 = new_df2[['features']]\n",
       "\n",
       "new_df2"
      ]
     },
     {
      "cell_type": "markdown",
      "metadata": {},
      "source": [
       "### Task C. Detect Anomalies"
      ]
     },
     {
      "cell_type": "markdown",
      "metadata": {},
      "source": [
       "As you may remember, the intuition of our anomaly detection approach was that clusters with a small number of data points will correspond to attacks or anomalies. We use this intuition to generate a confidence score from the clustering model’s output. The confidence score reflects how much the clustering model believes a data point is an attack or not. Let us assume $x$ is a data point describing a network connection. We can use:\n",
       "\n",
       "$$score(x) = \\frac{N_{max}-N_{x}}{N_{max}-N_{min}}$$\n",
       "\n",
       "to score $x$ as being an anomaly. Note that in this equation, $N_{max}$ and $N_{min}$ reflect the size of the largest and smallest clusters, respectively. $N_{x}$ represents the size of the cluster assigned to $x$. If you check the equation carefully, you will notice that $score(x) = 1$ when $x$ is assigned to the smallest cluster and $score(x)$ = 0 when $x$ is assigned to a large cluster.\n"
      ]
     },
     {
      "cell_type": "markdown",
      "metadata": {},
      "source": [
       "In Task C, your job is to implement the `detect` function. "
      ]
     },
     {
      "cell_type": "markdown",
      "metadata": {},
      "source": [
       "```python\n",
       "def detect(self, df, k, t):\n",
       "    \"\"\" \n",
       "        Input: $df represents a DataFrame with two columns: \"id\" and \"features\"\n",
       "               $k is the number of clusters for K-Means\n",
       "               $t is the score threshold\n",
       "        \n",
       "        Output: Return a new DataFrame that adds the \"score\" column into the input $df and then\n",
       "                removes the rows whose scores are smaller than $t.  \n",
       "    \"\"\"\n",
       "```"
      ]
     },
     {
      "cell_type": "code",
      "execution_count": 275,
      "metadata": {},
      "outputs": [],
      "source": [
       "clusters = 2\n",
       "threshold = 0.9"
      ]
     },
     {
      "cell_type": "code",
      "execution_count": 332,
      "metadata": {},
      "outputs": [
       {
        "name": "stderr",
        "output_type": "stream",
        "text": [
         "/opt/homebrew/lib/python3.10/site-packages/sklearn/cluster/_kmeans.py:870: FutureWarning: The default value of `n_init` will change from 10 to 'auto' in 1.4. Set the value of `n_init` explicitly to suppress the warning\n",
         "  warnings.warn(\n"
        ]
       },
       {
        "data": {
         "text/html": [
          "<div>\n",
          "<style scoped>\n",
          "    .dataframe tbody tr th:only-of-type {\n",
          "        vertical-align: middle;\n",
          "    }\n",
          "\n",
          "    .dataframe tbody tr th {\n",
          "        vertical-align: top;\n",
          "    }\n",
          "\n",
          "    .dataframe thead th {\n",
          "        text-align: right;\n",
          "    }\n",
          "</style>\n",
          "<table border=\"1\" class=\"dataframe\">\n",
          "  <thead>\n",
          "    <tr style=\"text-align: right;\">\n",
          "      <th></th>\n",
          "      <th>0</th>\n",
          "      <th>1</th>\n",
          "      <th>2</th>\n",
          "      <th>3</th>\n",
          "      <th>4</th>\n",
          "      <th>5</th>\n",
          "      <th>6</th>\n",
          "      <th>features</th>\n",
          "      <th>cluster</th>\n",
          "    </tr>\n",
          "  </thead>\n",
          "  <tbody>\n",
          "    <tr>\n",
          "      <th>0</th>\n",
          "      <td>1</td>\n",
          "      <td>0</td>\n",
          "      <td>1</td>\n",
          "      <td>0</td>\n",
          "      <td>0</td>\n",
          "      <td>0</td>\n",
          "      <td>0.12171612389003701</td>\n",
          "      <td>[1, 0, 1, 0, 0, 0, 0.12171612389003701]</td>\n",
          "      <td>1</td>\n",
          "    </tr>\n",
          "    <tr>\n",
          "      <th>1</th>\n",
          "      <td>1</td>\n",
          "      <td>0</td>\n",
          "      <td>0</td>\n",
          "      <td>1</td>\n",
          "      <td>0</td>\n",
          "      <td>0</td>\n",
          "      <td>0.7302967433402215</td>\n",
          "      <td>[1, 0, 0, 1, 0, 0, 0.7302967433402215]</td>\n",
          "      <td>1</td>\n",
          "    </tr>\n",
          "    <tr>\n",
          "      <th>2</th>\n",
          "      <td>1</td>\n",
          "      <td>0</td>\n",
          "      <td>0</td>\n",
          "      <td>0</td>\n",
          "      <td>1</td>\n",
          "      <td>0</td>\n",
          "      <td>0.7302967433402215</td>\n",
          "      <td>[1, 0, 0, 0, 1, 0, 0.7302967433402215]</td>\n",
          "      <td>1</td>\n",
          "    </tr>\n",
          "    <tr>\n",
          "      <th>3</th>\n",
          "      <td>0</td>\n",
          "      <td>1</td>\n",
          "      <td>0</td>\n",
          "      <td>0</td>\n",
          "      <td>0</td>\n",
          "      <td>1</td>\n",
          "      <td>-1.7040257344605165</td>\n",
          "      <td>[0, 1, 0, 0, 0, 1, -1.7040257344605165]</td>\n",
          "      <td>0</td>\n",
          "    </tr>\n",
          "    <tr>\n",
          "      <th>4</th>\n",
          "      <td>1</td>\n",
          "      <td>0</td>\n",
          "      <td>0</td>\n",
          "      <td>0</td>\n",
          "      <td>1</td>\n",
          "      <td>0</td>\n",
          "      <td>0.12171612389003701</td>\n",
          "      <td>[1, 0, 0, 0, 1, 0, 0.12171612389003701]</td>\n",
          "      <td>1</td>\n",
          "    </tr>\n",
          "  </tbody>\n",
          "</table>\n",
          "</div>"
         ],
         "text/plain": [
          "   0  1  2  3  4  5                    6  \\\n",
          "0  1  0  1  0  0  0  0.12171612389003701   \n",
          "1  1  0  0  1  0  0   0.7302967433402215   \n",
          "2  1  0  0  0  1  0   0.7302967433402215   \n",
          "3  0  1  0  0  0  1  -1.7040257344605165   \n",
          "4  1  0  0  0  1  0  0.12171612389003701   \n",
          "\n",
          "                                  features  cluster  \n",
          "0  [1, 0, 1, 0, 0, 0, 0.12171612389003701]        1  \n",
          "1   [1, 0, 0, 1, 0, 0, 0.7302967433402215]        1  \n",
          "2   [1, 0, 0, 0, 1, 0, 0.7302967433402215]        1  \n",
          "3  [0, 1, 0, 0, 0, 1, -1.7040257344605165]        0  \n",
          "4  [1, 0, 0, 0, 1, 0, 0.12171612389003701]        1  "
         ]
        },
        "execution_count": 332,
        "metadata": {},
        "output_type": "execute_result"
       }
      ],
      "source": [
       "new_df3 = pd.concat(\n",
       "\t[pd.DataFrame(new_df2['features'].to_list(), columns=np.arange(len(new_df2['features'].iloc[0]))),\n",
       "\tnew_df2],\n",
       "\taxis=1\n",
       ")\n",
       "kmeans = KMeans(n_clusters=clusters, n_init='auto').fit(new_df3.drop(columns='features'))\n",
       "new_df3['cluster'] = kmeans.predict(new_df3.drop(columns='features'))\n",
       "new_df3"
      ]
     },
     {
      "cell_type": "code",
      "execution_count": 333,
      "metadata": {},
      "outputs": [],
      "source": [
       "cluster_summary = new_df3.groupby(by='cluster').size().reset_index(name='count').sort_values(by='count', ascending=False)\n",
       "n_max = cluster_summary['count'].iloc[0]\n",
       "n_min = cluster_summary['count'].iloc[-1]\n",
       "denominator = n_max - n_min\n",
       "\n",
       "cluster_dict = cluster_summary.set_index('cluster').to_dict()['count']\n"
      ]
     },
     {
      "cell_type": "code",
      "execution_count": 335,
      "metadata": {},
      "outputs": [
       {
        "name": "stderr",
        "output_type": "stream",
        "text": [
         "/var/folders/fy/2lk8vgcn66v3jnyppg9c75xc0000gn/T/ipykernel_92952/4088541713.py:1: SettingWithCopyWarning: \n",
         "A value is trying to be set on a copy of a slice from a DataFrame.\n",
         "Try using .loc[row_indexer,col_indexer] = value instead\n",
         "\n",
         "See the caveats in the documentation: https://pandas.pydata.org/pandas-docs/stable/user_guide/indexing.html#returning-a-view-versus-a-copy\n",
         "  new_df3['score'] = new_df3['cluster'].apply(lambda x: (n_max - cluster_dict[x])/denominator)\n"
        ]
       },
       {
        "data": {
         "text/html": [
          "<div>\n",
          "<style scoped>\n",
          "    .dataframe tbody tr th:only-of-type {\n",
          "        vertical-align: middle;\n",
          "    }\n",
          "\n",
          "    .dataframe tbody tr th {\n",
          "        vertical-align: top;\n",
          "    }\n",
          "\n",
          "    .dataframe thead th {\n",
          "        text-align: right;\n",
          "    }\n",
          "</style>\n",
          "<table border=\"1\" class=\"dataframe\">\n",
          "  <thead>\n",
          "    <tr style=\"text-align: right;\">\n",
          "      <th></th>\n",
          "      <th>features</th>\n",
          "      <th>score</th>\n",
          "    </tr>\n",
          "  </thead>\n",
          "  <tbody>\n",
          "    <tr>\n",
          "      <th>3</th>\n",
          "      <td>[0, 1, 0, 0, 0, 1, -1.7040257344605165]</td>\n",
          "      <td>1.0</td>\n",
          "    </tr>\n",
          "  </tbody>\n",
          "</table>\n",
          "</div>"
         ],
         "text/plain": [
          "                                  features  score\n",
          "3  [0, 1, 0, 0, 0, 1, -1.7040257344605165]    1.0"
         ]
        },
        "execution_count": 335,
        "metadata": {},
        "output_type": "execute_result"
       }
      ],
      "source": [
       "new_df3['score'] = new_df3['cluster'].apply(lambda x: (n_max - cluster_dict[x])/denominator)\n",
       "new_df3 = new_df3[new_df3['score'] > threshold][['features', 'score']]\n",
       "new_df3"
      ]
     },
     {
      "cell_type": "code",
      "execution_count": 313,
      "metadata": {},
      "outputs": [
       {
        "data": {
         "text/html": [
          "<div>\n",
          "<style scoped>\n",
          "    .dataframe tbody tr th:only-of-type {\n",
          "        vertical-align: middle;\n",
          "    }\n",
          "\n",
          "    .dataframe tbody tr th {\n",
          "        vertical-align: top;\n",
          "    }\n",
          "\n",
          "    .dataframe thead th {\n",
          "        text-align: right;\n",
          "    }\n",
          "</style>\n",
          "<table border=\"1\" class=\"dataframe\">\n",
          "  <thead>\n",
          "    <tr style=\"text-align: right;\">\n",
          "      <th></th>\n",
          "      <th>a</th>\n",
          "      <th>b</th>\n",
          "    </tr>\n",
          "  </thead>\n",
          "  <tbody>\n",
          "    <tr>\n",
          "      <th>0</th>\n",
          "      <td>1</td>\n",
          "      <td>11</td>\n",
          "    </tr>\n",
          "    <tr>\n",
          "      <th>1</th>\n",
          "      <td>2</td>\n",
          "      <td>22</td>\n",
          "    </tr>\n",
          "  </tbody>\n",
          "</table>\n",
          "</div>"
         ],
         "text/plain": [
          "   a   b\n",
          "0  1  11\n",
          "1  2  22"
         ]
        },
        "metadata": {},
        "output_type": "display_data"
       },
       {
        "name": "stdout",
        "output_type": "stream",
        "text": [
         "None\n"
        ]
       },
       {
        "data": {
         "text/html": [
          "<div>\n",
          "<style scoped>\n",
          "    .dataframe tbody tr th:only-of-type {\n",
          "        vertical-align: middle;\n",
          "    }\n",
          "\n",
          "    .dataframe tbody tr th {\n",
          "        vertical-align: top;\n",
          "    }\n",
          "\n",
          "    .dataframe thead th {\n",
          "        text-align: right;\n",
          "    }\n",
          "</style>\n",
          "<table border=\"1\" class=\"dataframe\">\n",
          "  <thead>\n",
          "    <tr style=\"text-align: right;\">\n",
          "      <th></th>\n",
          "      <th>a</th>\n",
          "      <th>b</th>\n",
          "    </tr>\n",
          "  </thead>\n",
          "  <tbody>\n",
          "    <tr>\n",
          "      <th>0</th>\n",
          "      <td>1</td>\n",
          "      <td>11</td>\n",
          "    </tr>\n",
          "    <tr>\n",
          "      <th>1</th>\n",
          "      <td>2</td>\n",
          "      <td>22</td>\n",
          "    </tr>\n",
          "  </tbody>\n",
          "</table>\n",
          "</div>"
         ],
         "text/plain": [
          "   a   b\n",
          "0  1  11\n",
          "1  2  22"
         ]
        },
        "execution_count": 313,
        "metadata": {},
        "output_type": "execute_result"
       }
      ],
      "source": [
       "a = pd.DataFrame([[1, 11], [2, 22]], columns=['a', 'b'])\n",
       "print(display(a))\n",
       "a.drop(columns='a')\n",
       "a"
      ]
     },
     {
      "cell_type": "markdown",
      "metadata": {},
      "source": [
       "### Task D. Hyperparameter Tuning"
      ]
     },
     {
      "cell_type": "markdown",
      "metadata": {},
      "source": [
       "Hyperparameter tuning plays an essential role in improving model quality. In this assignment, your task is to figure out how to tune hyperparameters for **unsupervised learning**. There are two parameters that need to be tuned: \n",
       "\n",
       "* $k$: the number of clusters\n",
       "* $t$: the score threshold \n",
       "\n",
       "They are set to k = 8 and t = 0.97 in the above program. In fact, if you changed them to different values, the result could be quite different. Thus, it is important to know how to tune $k$ and $t$ in practice.  \n",
       "\n",
       "In Task D, imagine you are a data science manager. Please write an email (< 500 words) to tell a junior data scientist (named Nick) how to use [Bayesian Optimization](http://krasserm.github.io/2018/03/21/bayesian-optimization/) to tune the parameters. Your email needs to explain to Nick i) how bayesian optimization works in an intuitive way, and ii) why bayesian optimization could perform better than grid search and random search.\n"
      ]
     },
     {
      "cell_type": "code",
      "execution_count": null,
      "metadata": {},
      "outputs": [],
      "source": []
     },
     {
      "cell_type": "markdown",
      "metadata": {},
      "source": [
       "## Submission"
      ]
     },
     {
      "cell_type": "markdown",
      "metadata": {},
      "source": [
       "Implement `cat2Num`, `scaleNum`, and `detect` functions in `anomaly_detection.py`. Submit your code file (`anomaly_detection.py`), and your email content (`email.pdf`) to CourSys."
      ]
     }
    ],
    "metadata": {
     "kernelspec": {
      "display_name": "Python 3.10.8 64-bit",
      "language": "python",
      "name": "python3"
     },
     "language_info": {
      "codemirror_mode": {
       "name": "ipython",
       "version": 3
      },
      "file_extension": ".py",
      "mimetype": "text/x-python",
      "name": "python",
      "nbconvert_exporter": "python",
      "pygments_lexer": "ipython3",
      "version": "3.10.8"
     },
     "vscode": {
      "interpreter": {
       "hash": "b0fa6594d8f4cbf19f97940f81e996739fb7646882a419484c72d19e05852a7e"
      }
     }
    },
    "nbformat": 4,
    "nbformat_minor": 1
   }
   