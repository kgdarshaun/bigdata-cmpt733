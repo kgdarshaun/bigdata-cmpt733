{
  "cells": [
    {
      "cell_type": "markdown",
      "metadata": {
        "id": "5d3Ei9rwxz3K"
      },
      "source": [
        "# Assignment 10 - NLP using Deep Learning"
      ]
    },
    {
      "cell_type": "markdown",
      "metadata": {
        "id": "OfN36KJsxz3M"
      },
      "source": [
        "## Goals"
      ]
    },
    {
      "cell_type": "markdown",
      "metadata": {
        "id": "QinuznERxz3N"
      },
      "source": [
        "In this assignment you will get to work with recurrent network architectures with application to language processing tasks and observe behaviour of the learning using tensorboard visualization.\n",
        "\n",
        "You'll learn to use\n",
        "\n",
        " * word embeddings\n",
        " * LSTMs\n",
        " * performance monitoring via tensorboard + lightning\n",
        " * state-of-the-art cross-language transformers\n",
        "\n",
        "While the notebook contains a lot of code, the actual **TODO**s for you are lightweight and easy to find. Use Google colab or the lab machines and provided environment to get started and finish quickly.\n",
        "\n",
        "The goal of this exercise is to provide you with entry points to approach common NLP tasks with simple and elaborate methods."
      ]
    },
    {
      "cell_type": "markdown",
      "metadata": {
        "id": "RmfTfo9oxz3Q"
      },
      "source": [
        "### Deep learning environment in the lab"
      ]
    },
    {
      "cell_type": "markdown",
      "metadata": {
        "id": "9Gd4ekuXxz3S"
      },
      "source": [
        "With the same kind of preparation as in [Assignment 6](../A6/A6.ipynb) we are going to use **[pytorch](http://pytorch.org)** for the deep learning aspects of the assignment.\n",
        "\n",
        "There is a pytorch setup in the big data under the globally available anaconda installation.\n",
        "However, it is recommended that you use the custom **gt** conda environment that contains all python package dependencies that are relevant for this assignment (and also tensorflow, etc.)."
      ]
    },
    {
      "cell_type": "markdown",
      "metadata": {
        "id": "CM27gT2Mxz3S"
      },
      "source": [
        "You could load it directly\n",
        "```\n",
        "source activate /usr/shared/CMPT/big-data/condaenv/gt\n",
        "```\n",
        "Once activated, you couls also add it as a user kernel to your jupyter installation\n",
        "```\n",
        "python -m ipykernel install --user --name=\"py-gt\"\n",
        "```\n",
        "and then choose it as kernel when running this notebook.\n",
        "To reproduce this environment on your own system, you could use `conda env export > environment.yml` and then use `mamba env update --prefix wherever_you_want_to_create_yours -f environment.yml` to make your own instance of this environment."
      ]
    },
    {
      "cell_type": "markdown",
      "metadata": {
        "id": "DPvzUIoG9MTc"
      },
      "source": [
        "### Google colab VM setup"
      ]
    },
    {
      "cell_type": "code",
      "execution_count": 1,
      "metadata": {
        "colab": {
          "base_uri": "https://localhost:8080/",
          "height": 1000
        },
        "id": "4DvJcayEhMoV",
        "outputId": "9b07e778-3d59-409d-962e-d3a0fb134501"
      },
      "outputs": [
        {
          "name": "stdout",
          "output_type": "stream",
          "text": [
            "Looking in indexes: https://pypi.org/simple, https://us-python.pkg.dev/colab-wheels/public/simple/\n",
            "Collecting portalocker\n",
            "  Downloading portalocker-2.7.0-py2.py3-none-any.whl (15 kB)\n",
            "Installing collected packages: portalocker\n",
            "Successfully installed portalocker-2.7.0\n",
            "Found CUDA version 11.8\n",
            "Looking in indexes: https://download.pytorch.org/whl/cu118, https://us-python.pkg.dev/colab-wheels/public/simple/\n",
            "Requirement already satisfied: torch in /usr/local/lib/python3.9/dist-packages (2.0.0+cu118)\n",
            "Requirement already satisfied: torchvision in /usr/local/lib/python3.9/dist-packages (0.15.1+cu118)\n",
            "Requirement already satisfied: torchaudio in /usr/local/lib/python3.9/dist-packages (2.0.1+cu118)\n",
            "Requirement already satisfied: torchtext>=0.15 in /usr/local/lib/python3.9/dist-packages (0.15.1)\n",
            "Collecting torchtext>=0.15\n",
            "  Downloading https://download.pytorch.org/whl/torchtext-0.15.1%2Bcpu-cp39-cp39-linux_x86_64.whl (2.0 MB)\n",
            "\u001b[2K     \u001b[90m━━━━━━━━━━━━━━━━━━━━━━━━━━━━━━━━━━━━━━━━\u001b[0m \u001b[32m2.0/2.0 MB\u001b[0m \u001b[31m17.4 MB/s\u001b[0m eta \u001b[36m0:00:00\u001b[0m\n",
            "\u001b[?25hRequirement already satisfied: filelock in /usr/local/lib/python3.9/dist-packages (from torch) (3.10.7)\n",
            "Requirement already satisfied: triton==2.0.0 in /usr/local/lib/python3.9/dist-packages (from torch) (2.0.0)\n",
            "Requirement already satisfied: jinja2 in /usr/local/lib/python3.9/dist-packages (from torch) (3.1.2)\n",
            "Requirement already satisfied: sympy in /usr/local/lib/python3.9/dist-packages (from torch) (1.11.1)\n",
            "Requirement already satisfied: networkx in /usr/local/lib/python3.9/dist-packages (from torch) (3.0)\n",
            "Requirement already satisfied: typing-extensions in /usr/local/lib/python3.9/dist-packages (from torch) (4.5.0)\n",
            "Requirement already satisfied: lit in /usr/local/lib/python3.9/dist-packages (from triton==2.0.0->torch) (16.0.0)\n",
            "Requirement already satisfied: cmake in /usr/local/lib/python3.9/dist-packages (from triton==2.0.0->torch) (3.25.2)\n",
            "Requirement already satisfied: requests in /usr/local/lib/python3.9/dist-packages (from torchvision) (2.27.1)\n",
            "Requirement already satisfied: numpy in /usr/local/lib/python3.9/dist-packages (from torchvision) (1.22.4)\n",
            "Requirement already satisfied: pillow!=8.3.*,>=5.3.0 in /usr/local/lib/python3.9/dist-packages (from torchvision) (8.4.0)\n",
            "Requirement already satisfied: torchdata==0.6.0 in /usr/local/lib/python3.9/dist-packages (from torchtext>=0.15) (0.6.0)\n",
            "Requirement already satisfied: tqdm in /usr/local/lib/python3.9/dist-packages (from torchtext>=0.15) (4.65.0)\n",
            "Requirement already satisfied: urllib3>=1.25 in /usr/local/lib/python3.9/dist-packages (from torchdata==0.6.0->torchtext>=0.15) (1.26.15)\n",
            "Requirement already satisfied: MarkupSafe>=2.0 in /usr/local/lib/python3.9/dist-packages (from jinja2->torch) (2.1.2)\n",
            "Requirement already satisfied: certifi>=2017.4.17 in /usr/local/lib/python3.9/dist-packages (from requests->torchvision) (2022.12.7)\n",
            "Requirement already satisfied: charset-normalizer~=2.0.0 in /usr/local/lib/python3.9/dist-packages (from requests->torchvision) (2.0.12)\n",
            "Requirement already satisfied: idna<4,>=2.5 in /usr/local/lib/python3.9/dist-packages (from requests->torchvision) (3.4)\n",
            "Requirement already satisfied: mpmath>=0.19 in /usr/local/lib/python3.9/dist-packages (from sympy->torch) (1.3.0)\n",
            "Installing collected packages: torchtext\n",
            "  Attempting uninstall: torchtext\n",
            "    Found existing installation: torchtext 0.15.1\n",
            "    Uninstalling torchtext-0.15.1:\n",
            "      Successfully uninstalled torchtext-0.15.1\n",
            "Successfully installed torchtext-0.15.1+cpu\n"
          ]
        },
        {
          "data": {
            "application/vnd.colab-display-data+json": {
              "pip_warning": {
                "packages": [
                  "torchtext"
                ]
              }
            }
          },
          "metadata": {},
          "output_type": "display_data"
        },
        {
          "name": "stdout",
          "output_type": "stream",
          "text": [
            "Looking in indexes: https://pypi.org/simple, https://us-python.pkg.dev/colab-wheels/public/simple/\n",
            "Collecting tensorboardX\n",
            "  Downloading tensorboardX-2.6-py2.py3-none-any.whl (114 kB)\n",
            "\u001b[2K     \u001b[90m━━━━━━━━━━━━━━━━━━━━━━━━━━━━━━━━━━━━━━━\u001b[0m \u001b[32m114.5/114.5 KB\u001b[0m \u001b[31m6.6 MB/s\u001b[0m eta \u001b[36m0:00:00\u001b[0m\n",
            "\u001b[?25hCollecting lightning\n",
            "  Downloading lightning-2.0.1-py3-none-any.whl (1.8 MB)\n",
            "\u001b[2K     \u001b[90m━━━━━━━━━━━━━━━━━━━━━━━━━━━━━━━━━━━━━━━━\u001b[0m \u001b[32m1.8/1.8 MB\u001b[0m \u001b[31m51.3 MB/s\u001b[0m eta \u001b[36m0:00:00\u001b[0m\n",
            "\u001b[?25hRequirement already satisfied: packaging in /usr/local/lib/python3.9/dist-packages (from tensorboardX) (23.0)\n",
            "Requirement already satisfied: numpy in /usr/local/lib/python3.9/dist-packages (from tensorboardX) (1.22.4)\n",
            "Requirement already satisfied: protobuf<4,>=3.8.0 in /usr/local/lib/python3.9/dist-packages (from tensorboardX) (3.20.3)\n",
            "Collecting croniter<1.4.0,>=1.3.0\n",
            "  Downloading croniter-1.3.8-py2.py3-none-any.whl (18 kB)\n",
            "Requirement already satisfied: websocket-client<3.0 in /usr/local/lib/python3.9/dist-packages (from lightning) (1.5.1)\n",
            "Requirement already satisfied: fsspec[http]<2025.0,>2021.06.0 in /usr/local/lib/python3.9/dist-packages (from lightning) (2023.3.0)\n",
            "Collecting lightning-utilities<2.0,>=0.7.0\n",
            "  Downloading lightning_utilities-0.8.0-py3-none-any.whl (20 kB)\n",
            "Requirement already satisfied: pydantic<3.0 in /usr/local/lib/python3.9/dist-packages (from lightning) (1.10.7)\n",
            "Requirement already satisfied: requests<4.0 in /usr/local/lib/python3.9/dist-packages (from lightning) (2.27.1)\n",
            "Collecting starlette<2.0\n",
            "  Downloading starlette-0.26.1-py3-none-any.whl (66 kB)\n",
            "\u001b[2K     \u001b[90m━━━━━━━━━━━━━━━━━━━━━━━━━━━━━━━━━━━━━━━━\u001b[0m \u001b[32m66.9/66.9 KB\u001b[0m \u001b[31m5.1 MB/s\u001b[0m eta \u001b[36m0:00:00\u001b[0m\n",
            "\u001b[?25hRequirement already satisfied: Jinja2<5.0 in /usr/local/lib/python3.9/dist-packages (from lightning) (3.1.2)\n",
            "Collecting lightning-cloud>=0.5.31\n",
            "  Downloading lightning_cloud-0.5.32-py3-none-any.whl (545 kB)\n",
            "\u001b[2K     \u001b[90m━━━━━━━━━━━━━━━━━━━━━━━━━━━━━━━━━━━━━━\u001b[0m \u001b[32m546.0/546.0 KB\u001b[0m \u001b[31m43.8 MB/s\u001b[0m eta \u001b[36m0:00:00\u001b[0m\n",
            "\u001b[?25hCollecting torchmetrics<2.0,>=0.7.0\n",
            "  Downloading torchmetrics-0.11.4-py3-none-any.whl (519 kB)\n",
            "\u001b[2K     \u001b[90m━━━━━━━━━━━━━━━━━━━━━━━━━━━━━━━━━━━━━━\u001b[0m \u001b[32m519.2/519.2 KB\u001b[0m \u001b[31m48.7 MB/s\u001b[0m eta \u001b[36m0:00:00\u001b[0m\n",
            "\u001b[?25hRequirement already satisfied: click<10.0 in /usr/local/lib/python3.9/dist-packages (from lightning) (8.1.3)\n",
            "Collecting deepdiff<8.0,>=5.7.0\n",
            "  Downloading deepdiff-6.3.0-py3-none-any.whl (69 kB)\n",
            "\u001b[2K     \u001b[90m━━━━━━━━━━━━━━━━━━━━━━━━━━━━━━━━━━━━━━━━\u001b[0m \u001b[32m69.7/69.7 KB\u001b[0m \u001b[31m10.3 MB/s\u001b[0m eta \u001b[36m0:00:00\u001b[0m\n",
            "\u001b[?25hCollecting uvicorn<2.0\n",
            "  Downloading uvicorn-0.21.1-py3-none-any.whl (57 kB)\n",
            "\u001b[2K     \u001b[90m━━━━━━━━━━━━━━━━━━━━━━━━━━━━━━━━━━━━━━━━\u001b[0m \u001b[32m57.8/57.8 KB\u001b[0m \u001b[31m8.1 MB/s\u001b[0m eta \u001b[36m0:00:00\u001b[0m\n",
            "\u001b[?25hCollecting pytorch-lightning\n",
            "  Downloading pytorch_lightning-2.0.1-py3-none-any.whl (716 kB)\n",
            "\u001b[2K     \u001b[90m━━━━━━━━━━━━━━━━━━━━━━━━━━━━━━━━━━━━━━\u001b[0m \u001b[32m716.4/716.4 KB\u001b[0m \u001b[31m57.1 MB/s\u001b[0m eta \u001b[36m0:00:00\u001b[0m\n",
            "\u001b[?25hCollecting arrow<3.0,>=1.2.0\n",
            "  Downloading arrow-1.2.3-py3-none-any.whl (66 kB)\n",
            "\u001b[2K     \u001b[90m━━━━━━━━━━━━━━━━━━━━━━━━━━━━━━━━━━━━━━━━\u001b[0m \u001b[32m66.4/66.4 KB\u001b[0m \u001b[31m9.4 MB/s\u001b[0m eta \u001b[36m0:00:00\u001b[0m\n",
            "\u001b[?25hRequirement already satisfied: tqdm<6.0,>=4.57.0 in /usr/local/lib/python3.9/dist-packages (from lightning) (4.65.0)\n",
            "Requirement already satisfied: psutil<7.0 in /usr/local/lib/python3.9/dist-packages (from lightning) (5.9.4)\n",
            "Collecting fastapi<0.89.0\n",
            "  Downloading fastapi-0.88.0-py3-none-any.whl (55 kB)\n",
            "\u001b[2K     \u001b[90m━━━━━━━━━━━━━━━━━━━━━━━━━━━━━━━━━━━━━━━━\u001b[0m \u001b[32m55.5/55.5 KB\u001b[0m \u001b[31m8.1 MB/s\u001b[0m eta \u001b[36m0:00:00\u001b[0m\n",
            "\u001b[?25hCollecting inquirer<5.0,>=2.10.0\n",
            "  Downloading inquirer-3.1.3-py3-none-any.whl (18 kB)\n",
            "Requirement already satisfied: typing-extensions<6.0,>=4.0.0 in /usr/local/lib/python3.9/dist-packages (from lightning) (4.5.0)\n",
            "Collecting starsessions<2.0,>=1.2.1\n",
            "  Downloading starsessions-1.3.0-py3-none-any.whl (10 kB)\n",
            "Requirement already satisfied: beautifulsoup4<6.0,>=4.8.0 in /usr/local/lib/python3.9/dist-packages (from lightning) (4.11.2)\n",
            "Requirement already satisfied: torch<4.0,>=1.11.0 in /usr/local/lib/python3.9/dist-packages (from lightning) (2.0.0+cu118)\n",
            "Requirement already satisfied: traitlets<7.0,>=5.3.0 in /usr/local/lib/python3.9/dist-packages (from lightning) (5.7.1)\n",
            "Requirement already satisfied: rich<15.0,>=12.3.0 in /usr/local/lib/python3.9/dist-packages (from lightning) (13.3.3)\n",
            "Requirement already satisfied: PyYAML<8.0,>=5.4 in /usr/local/lib/python3.9/dist-packages (from lightning) (6.0)\n",
            "Collecting dateutils<2.0\n",
            "  Downloading dateutils-0.6.12-py2.py3-none-any.whl (5.7 kB)\n",
            "Collecting websockets<12.0\n",
            "  Downloading websockets-11.0-cp39-cp39-manylinux_2_5_x86_64.manylinux1_x86_64.manylinux_2_17_x86_64.manylinux2014_x86_64.whl (129 kB)\n",
            "\u001b[2K     \u001b[90m━━━━━━━━━━━━━━━━━━━━━━━━━━━━━━━━━━━━━━\u001b[0m \u001b[32m129.5/129.5 KB\u001b[0m \u001b[31m16.1 MB/s\u001b[0m eta \u001b[36m0:00:00\u001b[0m\n",
            "\u001b[?25hRequirement already satisfied: urllib3<3.0 in /usr/local/lib/python3.9/dist-packages (from lightning) (1.26.15)\n",
            "Requirement already satisfied: python-dateutil>=2.7.0 in /usr/local/lib/python3.9/dist-packages (from arrow<3.0,>=1.2.0->lightning) (2.8.2)\n",
            "Requirement already satisfied: soupsieve>1.2 in /usr/local/lib/python3.9/dist-packages (from beautifulsoup4<6.0,>=4.8.0->lightning) (2.4)\n",
            "Requirement already satisfied: pytz in /usr/local/lib/python3.9/dist-packages (from dateutils<2.0->lightning) (2022.7.1)\n",
            "Collecting ordered-set<4.2.0,>=4.0.2\n",
            "  Downloading ordered_set-4.1.0-py3-none-any.whl (7.6 kB)\n",
            "Collecting starlette<2.0\n",
            "  Downloading starlette-0.22.0-py3-none-any.whl (64 kB)\n",
            "\u001b[2K     \u001b[90m━━━━━━━━━━━━━━━━━━━━━━━━━━━━━━━━━━━━━━━━\u001b[0m \u001b[32m64.3/64.3 KB\u001b[0m \u001b[31m7.9 MB/s\u001b[0m eta \u001b[36m0:00:00\u001b[0m\n",
            "\u001b[?25hRequirement already satisfied: anyio<5,>=3.4.0 in /usr/local/lib/python3.9/dist-packages (from starlette<2.0->lightning) (3.6.2)\n",
            "Collecting aiohttp!=4.0.0a0,!=4.0.0a1\n",
            "  Downloading aiohttp-3.8.4-cp39-cp39-manylinux_2_17_x86_64.manylinux2014_x86_64.whl (1.0 MB)\n",
            "\u001b[2K     \u001b[90m━━━━━━━━━━━━━━━━━━━━━━━━━━━━━━━━━━━━━━━━\u001b[0m \u001b[32m1.0/1.0 MB\u001b[0m \u001b[31m72.4 MB/s\u001b[0m eta \u001b[36m0:00:00\u001b[0m\n",
            "\u001b[?25hCollecting readchar>=3.0.6\n",
            "  Downloading readchar-4.0.5-py3-none-any.whl (8.5 kB)\n",
            "Collecting python-editor>=1.0.4\n",
            "  Downloading python_editor-1.0.4-py3-none-any.whl (4.9 kB)\n",
            "Collecting blessed>=1.19.0\n",
            "  Downloading blessed-1.20.0-py2.py3-none-any.whl (58 kB)\n",
            "\u001b[2K     \u001b[90m━━━━━━━━━━━━━━━━━━━━━━━━━━━━━━━━━━━━━━━━\u001b[0m \u001b[32m58.4/58.4 KB\u001b[0m \u001b[31m7.7 MB/s\u001b[0m eta \u001b[36m0:00:00\u001b[0m\n",
            "\u001b[?25hRequirement already satisfied: MarkupSafe>=2.0 in /usr/local/lib/python3.9/dist-packages (from Jinja2<5.0->lightning) (2.1.2)\n",
            "Requirement already satisfied: six in /usr/local/lib/python3.9/dist-packages (from lightning-cloud>=0.5.31->lightning) (1.16.0)\n",
            "Collecting pyjwt\n",
            "  Downloading PyJWT-2.6.0-py3-none-any.whl (20 kB)\n",
            "Collecting fastapi[all]\n",
            "  Downloading fastapi-0.95.0-py3-none-any.whl (57 kB)\n",
            "\u001b[2K     \u001b[90m━━━━━━━━━━━━━━━━━━━━━━━━━━━━━━━━━━━━━━━━\u001b[0m \u001b[32m57.1/57.1 KB\u001b[0m \u001b[31m8.8 MB/s\u001b[0m eta \u001b[36m0:00:00\u001b[0m\n",
            "\u001b[?25hRequirement already satisfied: idna<4,>=2.5 in /usr/local/lib/python3.9/dist-packages (from requests<4.0->lightning) (3.4)\n",
            "Requirement already satisfied: charset-normalizer~=2.0.0 in /usr/local/lib/python3.9/dist-packages (from requests<4.0->lightning) (2.0.12)\n",
            "Requirement already satisfied: certifi>=2017.4.17 in /usr/local/lib/python3.9/dist-packages (from requests<4.0->lightning) (2022.12.7)\n",
            "Requirement already satisfied: markdown-it-py<3.0.0,>=2.2.0 in /usr/local/lib/python3.9/dist-packages (from rich<15.0,>=12.3.0->lightning) (2.2.0)\n",
            "Requirement already satisfied: pygments<3.0.0,>=2.13.0 in /usr/local/lib/python3.9/dist-packages (from rich<15.0,>=12.3.0->lightning) (2.14.0)\n",
            "Requirement already satisfied: itsdangerous<3.0.0,>=2.0.1 in /usr/local/lib/python3.9/dist-packages (from starsessions<2.0,>=1.2.1->lightning) (2.1.2)\n",
            "Requirement already satisfied: networkx in /usr/local/lib/python3.9/dist-packages (from torch<4.0,>=1.11.0->lightning) (3.0)\n",
            "Requirement already satisfied: triton==2.0.0 in /usr/local/lib/python3.9/dist-packages (from torch<4.0,>=1.11.0->lightning) (2.0.0)\n",
            "Requirement already satisfied: sympy in /usr/local/lib/python3.9/dist-packages (from torch<4.0,>=1.11.0->lightning) (1.11.1)\n",
            "Requirement already satisfied: filelock in /usr/local/lib/python3.9/dist-packages (from torch<4.0,>=1.11.0->lightning) (3.10.7)\n",
            "Requirement already satisfied: cmake in /usr/local/lib/python3.9/dist-packages (from triton==2.0.0->torch<4.0,>=1.11.0->lightning) (3.25.2)\n",
            "Requirement already satisfied: lit in /usr/local/lib/python3.9/dist-packages (from triton==2.0.0->torch<4.0,>=1.11.0->lightning) (16.0.0)\n",
            "Collecting h11>=0.8\n",
            "  Downloading h11-0.14.0-py3-none-any.whl (58 kB)\n",
            "\u001b[2K     \u001b[90m━━━━━━━━━━━━━━━━━━━━━━━━━━━━━━━━━━━━━━━━\u001b[0m \u001b[32m58.3/58.3 KB\u001b[0m \u001b[31m9.0 MB/s\u001b[0m eta \u001b[36m0:00:00\u001b[0m\n",
            "\u001b[?25hCollecting async-timeout<5.0,>=4.0.0a3\n",
            "  Downloading async_timeout-4.0.2-py3-none-any.whl (5.8 kB)\n",
            "Collecting aiosignal>=1.1.2\n",
            "  Downloading aiosignal-1.3.1-py3-none-any.whl (7.6 kB)\n",
            "Collecting frozenlist>=1.1.1\n",
            "  Downloading frozenlist-1.3.3-cp39-cp39-manylinux_2_5_x86_64.manylinux1_x86_64.manylinux_2_17_x86_64.manylinux2014_x86_64.whl (158 kB)\n",
            "\u001b[2K     \u001b[90m━━━━━━━━━━━━━━━━━━━━━━━━━━━━━━━━━━━━━━\u001b[0m \u001b[32m158.8/158.8 KB\u001b[0m \u001b[31m22.4 MB/s\u001b[0m eta \u001b[36m0:00:00\u001b[0m\n",
            "\u001b[?25hCollecting multidict<7.0,>=4.5\n",
            "  Downloading multidict-6.0.4-cp39-cp39-manylinux_2_17_x86_64.manylinux2014_x86_64.whl (114 kB)\n",
            "\u001b[2K     \u001b[90m━━━━━━━━━━━━━━━━━━━━━━━━━━━━━━━━━━━━━━\u001b[0m \u001b[32m114.2/114.2 KB\u001b[0m \u001b[31m16.4 MB/s\u001b[0m eta \u001b[36m0:00:00\u001b[0m\n",
            "\u001b[?25hCollecting yarl<2.0,>=1.0\n",
            "  Downloading yarl-1.8.2-cp39-cp39-manylinux_2_17_x86_64.manylinux2014_x86_64.whl (264 kB)\n",
            "\u001b[2K     \u001b[90m━━━━━━━━━━━━━━━━━━━━━━━━━━━━━━━━━━━━━━\u001b[0m \u001b[32m264.6/264.6 KB\u001b[0m \u001b[31m25.8 MB/s\u001b[0m eta \u001b[36m0:00:00\u001b[0m\n",
            "\u001b[?25hRequirement already satisfied: attrs>=17.3.0 in /usr/local/lib/python3.9/dist-packages (from aiohttp!=4.0.0a0,!=4.0.0a1->fsspec[http]<2025.0,>2021.06.0->lightning) (22.2.0)\n",
            "Requirement already satisfied: sniffio>=1.1 in /usr/local/lib/python3.9/dist-packages (from anyio<5,>=3.4.0->starlette<2.0->lightning) (1.3.0)\n",
            "Requirement already satisfied: wcwidth>=0.1.4 in /usr/local/lib/python3.9/dist-packages (from blessed>=1.19.0->inquirer<5.0,>=2.10.0->lightning) (0.2.6)\n",
            "Requirement already satisfied: mdurl~=0.1 in /usr/local/lib/python3.9/dist-packages (from markdown-it-py<3.0.0,>=2.2.0->rich<15.0,>=12.3.0->lightning) (0.1.2)\n",
            "Requirement already satisfied: setuptools>=41.0 in /usr/local/lib/python3.9/dist-packages (from readchar>=3.0.6->inquirer<5.0,>=2.10.0->lightning) (67.6.1)\n",
            "Collecting fastapi[all]\n",
            "  Downloading fastapi-0.94.1-py3-none-any.whl (56 kB)\n",
            "\u001b[2K     \u001b[90m━━━━━━━━━━━━━━━━━━━━━━━━━━━━━━━━━━━━━━━━\u001b[0m \u001b[32m56.4/56.4 KB\u001b[0m \u001b[31m7.4 MB/s\u001b[0m eta \u001b[36m0:00:00\u001b[0m\n",
            "\u001b[?25h  Downloading fastapi-0.94.0-py3-none-any.whl (56 kB)\n",
            "\u001b[2K     \u001b[90m━━━━━━━━━━━━━━━━━━━━━━━━━━━━━━━━━━━━━━━━\u001b[0m \u001b[32m56.3/56.3 KB\u001b[0m \u001b[31m6.1 MB/s\u001b[0m eta \u001b[36m0:00:00\u001b[0m\n",
            "\u001b[?25h  Downloading fastapi-0.93.0-py3-none-any.whl (56 kB)\n",
            "\u001b[2K     \u001b[90m━━━━━━━━━━━━━━━━━━━━━━━━━━━━━━━━━━━━━━━━\u001b[0m \u001b[32m56.3/56.3 KB\u001b[0m \u001b[31m7.2 MB/s\u001b[0m eta \u001b[36m0:00:00\u001b[0m\n",
            "\u001b[?25h  Downloading fastapi-0.92.0-py3-none-any.whl (56 kB)\n",
            "\u001b[2K     \u001b[90m━━━━━━━━━━━━━━━━━━━━━━━━━━━━━━━━━━━━━━━━\u001b[0m \u001b[32m56.2/56.2 KB\u001b[0m \u001b[31m7.5 MB/s\u001b[0m eta \u001b[36m0:00:00\u001b[0m\n",
            "\u001b[?25h  Downloading fastapi-0.91.0-py3-none-any.whl (56 kB)\n",
            "\u001b[2K     \u001b[90m━━━━━━━━━━━━━━━━━━━━━━━━━━━━━━━━━━━━━━━━\u001b[0m \u001b[32m56.2/56.2 KB\u001b[0m \u001b[31m7.5 MB/s\u001b[0m eta \u001b[36m0:00:00\u001b[0m\n",
            "\u001b[?25h  Downloading fastapi-0.90.1-py3-none-any.whl (56 kB)\n",
            "\u001b[2K     \u001b[90m━━━━━━━━━━━━━━━━━━━━━━━━━━━━━━━━━━━━━━━━\u001b[0m \u001b[32m56.2/56.2 KB\u001b[0m \u001b[31m8.2 MB/s\u001b[0m eta \u001b[36m0:00:00\u001b[0m\n",
            "\u001b[?25h  Downloading fastapi-0.90.0-py3-none-any.whl (56 kB)\n",
            "\u001b[2K     \u001b[90m━━━━━━━━━━━━━━━━━━━━━━━━━━━━━━━━━━━━━━━━\u001b[0m \u001b[32m56.0/56.0 KB\u001b[0m \u001b[31m7.5 MB/s\u001b[0m eta \u001b[36m0:00:00\u001b[0m\n",
            "\u001b[?25h  Downloading fastapi-0.89.1-py3-none-any.whl (55 kB)\n",
            "\u001b[2K     \u001b[90m━━━━━━━━━━━━━━━━━━━━━━━━━━━━━━━━━━━━━━━━\u001b[0m \u001b[32m55.8/55.8 KB\u001b[0m \u001b[31m8.0 MB/s\u001b[0m eta \u001b[36m0:00:00\u001b[0m\n",
            "\u001b[?25h  Downloading fastapi-0.89.0-py3-none-any.whl (55 kB)\n",
            "\u001b[2K     \u001b[90m━━━━━━━━━━━━━━━━━━━━━━━━━━━━━━━━━━━━━━━━\u001b[0m \u001b[32m55.6/55.6 KB\u001b[0m \u001b[31m8.0 MB/s\u001b[0m eta \u001b[36m0:00:00\u001b[0m\n",
            "\u001b[?25hCollecting python-multipart>=0.0.5\n",
            "  Downloading python_multipart-0.0.6-py3-none-any.whl (45 kB)\n",
            "\u001b[2K     \u001b[90m━━━━━━━━━━━━━━━━━━━━━━━━━━━━━━━━━━━━━━━━\u001b[0m \u001b[32m45.7/45.7 KB\u001b[0m \u001b[31m5.9 MB/s\u001b[0m eta \u001b[36m0:00:00\u001b[0m\n",
            "\u001b[?25hCollecting email-validator>=1.1.1\n",
            "  Downloading email_validator-1.3.1-py2.py3-none-any.whl (22 kB)\n",
            "Collecting ujson!=4.0.2,!=4.1.0,!=4.2.0,!=4.3.0,!=5.0.0,!=5.1.0,>=4.0.1\n",
            "  Downloading ujson-5.7.0-cp39-cp39-manylinux_2_17_x86_64.manylinux2014_x86_64.whl (52 kB)\n",
            "\u001b[2K     \u001b[90m━━━━━━━━━━━━━━━━━━━━━━━━━━━━━━━━━━━━━━━━\u001b[0m \u001b[32m52.8/52.8 KB\u001b[0m \u001b[31m6.2 MB/s\u001b[0m eta \u001b[36m0:00:00\u001b[0m\n",
            "\u001b[?25hCollecting httpx>=0.23.0\n",
            "  Downloading httpx-0.23.3-py3-none-any.whl (71 kB)\n",
            "\u001b[2K     \u001b[90m━━━━━━━━━━━━━━━━━━━━━━━━━━━━━━━━━━━━━━━━\u001b[0m \u001b[32m71.5/71.5 KB\u001b[0m \u001b[31m9.6 MB/s\u001b[0m eta \u001b[36m0:00:00\u001b[0m\n",
            "\u001b[?25hCollecting orjson>=3.2.1\n",
            "  Downloading orjson-3.8.9-cp39-cp39-manylinux_2_28_x86_64.whl (144 kB)\n",
            "\u001b[2K     \u001b[90m━━━━━━━━━━━━━━━━━━━━━━━━━━━━━━━━━━━━━━\u001b[0m \u001b[32m144.1/144.1 KB\u001b[0m \u001b[31m18.4 MB/s\u001b[0m eta \u001b[36m0:00:00\u001b[0m\n",
            "\u001b[?25hRequirement already satisfied: mpmath>=0.19 in /usr/local/lib/python3.9/dist-packages (from sympy->torch<4.0,>=1.11.0->lightning) (1.3.0)\n",
            "Collecting dnspython>=1.15.0\n",
            "  Downloading dnspython-2.3.0-py3-none-any.whl (283 kB)\n",
            "\u001b[2K     \u001b[90m━━━━━━━━━━━━━━━━━━━━━━━━━━━━━━━━━━━━━━\u001b[0m \u001b[32m283.7/283.7 KB\u001b[0m \u001b[31m31.9 MB/s\u001b[0m eta \u001b[36m0:00:00\u001b[0m\n",
            "\u001b[?25hCollecting httpcore<0.17.0,>=0.15.0\n",
            "  Downloading httpcore-0.16.3-py3-none-any.whl (69 kB)\n",
            "\u001b[2K     \u001b[90m━━━━━━━━━━━━━━━━━━━━━━━━━━━━━━━━━━━━━━━━\u001b[0m \u001b[32m69.6/69.6 KB\u001b[0m \u001b[31m8.7 MB/s\u001b[0m eta \u001b[36m0:00:00\u001b[0m\n",
            "\u001b[?25hCollecting rfc3986[idna2008]<2,>=1.3\n",
            "  Downloading rfc3986-1.5.0-py2.py3-none-any.whl (31 kB)\n",
            "Collecting httptools>=0.5.0\n",
            "  Downloading httptools-0.5.0-cp39-cp39-manylinux_2_5_x86_64.manylinux1_x86_64.manylinux_2_17_x86_64.manylinux2014_x86_64.whl (417 kB)\n",
            "\u001b[2K     \u001b[90m━━━━━━━━━━━━━━━━━━━━━━━━━━━━━━━━━━━━━━\u001b[0m \u001b[32m417.9/417.9 KB\u001b[0m \u001b[31m42.7 MB/s\u001b[0m eta \u001b[36m0:00:00\u001b[0m\n",
            "\u001b[?25hCollecting uvloop!=0.15.0,!=0.15.1,>=0.14.0\n",
            "  Downloading uvloop-0.17.0-cp39-cp39-manylinux_2_17_x86_64.manylinux2014_x86_64.whl (4.2 MB)\n",
            "\u001b[2K     \u001b[90m━━━━━━━━━━━━━━━━━━━━━━━━━━━━━━━━━━━━━━━━\u001b[0m \u001b[32m4.2/4.2 MB\u001b[0m \u001b[31m89.8 MB/s\u001b[0m eta \u001b[36m0:00:00\u001b[0m\n",
            "\u001b[?25hCollecting python-dotenv>=0.13\n",
            "  Downloading python_dotenv-1.0.0-py3-none-any.whl (19 kB)\n",
            "Collecting watchfiles>=0.13\n",
            "  Downloading watchfiles-0.19.0-cp37-abi3-manylinux_2_17_x86_64.manylinux2014_x86_64.whl (1.3 MB)\n",
            "\u001b[2K     \u001b[90m━━━━━━━━━━━━━━━━━━━━━━━━━━━━━━━━━━━━━━━━\u001b[0m \u001b[32m1.3/1.3 MB\u001b[0m \u001b[31m72.6 MB/s\u001b[0m eta \u001b[36m0:00:00\u001b[0m\n",
            "\u001b[?25hInstalling collected packages: rfc3986, python-editor, websockets, uvloop, ujson, tensorboardX, readchar, python-multipart, python-dotenv, pyjwt, orjson, ordered-set, multidict, lightning-utilities, httptools, h11, frozenlist, dnspython, blessed, async-timeout, yarl, watchfiles, uvicorn, starlette, inquirer, httpcore, email-validator, deepdiff, dateutils, croniter, arrow, aiosignal, starsessions, httpx, fastapi, aiohttp, lightning-cloud, torchmetrics, pytorch-lightning, lightning\n",
            "Successfully installed aiohttp-3.8.4 aiosignal-1.3.1 arrow-1.2.3 async-timeout-4.0.2 blessed-1.20.0 croniter-1.3.8 dateutils-0.6.12 deepdiff-6.3.0 dnspython-2.3.0 email-validator-1.3.1 fastapi-0.88.0 frozenlist-1.3.3 h11-0.14.0 httpcore-0.16.3 httptools-0.5.0 httpx-0.23.3 inquirer-3.1.3 lightning-2.0.1 lightning-cloud-0.5.32 lightning-utilities-0.8.0 multidict-6.0.4 ordered-set-4.1.0 orjson-3.8.9 pyjwt-2.6.0 python-dotenv-1.0.0 python-editor-1.0.4 python-multipart-0.0.6 pytorch-lightning-2.0.1 readchar-4.0.5 rfc3986-1.5.0 starlette-0.22.0 starsessions-1.3.0 tensorboardX-2.6 torchmetrics-0.11.4 ujson-5.7.0 uvicorn-0.21.1 uvloop-0.17.0 watchfiles-0.19.0 websockets-11.0 yarl-1.8.2\n"
          ]
        }
      ],
      "source": [
        "try:\n",
        "  import portalocker\n",
        "except ModuleNotFoundError:\n",
        "  !pip install portalocker\n",
        "  import portalocker\n",
        "update_torchtext = False\n",
        "try:\n",
        "  import torchtext\n",
        "  update_torchtext = torchtext.__version__ < \"0.15\"\n",
        "except ModuleNotFoundError:\n",
        "  update_torchtext = True\n",
        "if update_torchtext:\n",
        "  !pip uninstall --yes fastai\n",
        "\n",
        "import re\n",
        "cudaver = !nvcc --version | grep release\n",
        "cudaver = re.search(r\".*release (.*),.*\", cudaver[0]).group(1)\n",
        "print(f\"Found CUDA version {cudaver}\")\n",
        "cudaver_nodot = cudaver.replace(\".\",\"\")\n",
        "!pip install -U torch torchvision torchaudio \"torchtext>=0.15\" --index-url https://download.pytorch.org/whl/cu{cudaver_nodot}\n",
        "!pip install tensorboardX lightning"
      ]
    },
    {
      "cell_type": "code",
      "execution_count": 2,
      "metadata": {
        "id": "C8rZWAaXxz3T"
      },
      "outputs": [],
      "source": [
        "import torch\n",
        "import torch.nn as nn\n",
        "import numpy as np\n",
        "import torchtext.functional as F\n",
        "\n",
        "from IPython.display import Markdown\n",
        "import pandas as pd\n",
        "\n",
        "DEVICE = torch.device(\"cuda\") if torch.cuda.is_available() else torch.device(\"cpu\")\n"
      ]
    },
    {
      "cell_type": "code",
      "execution_count": null,
      "metadata": {
        "id": "J7UlGxAxx3DU"
      },
      "outputs": [],
      "source": [
        "# location of \"GoogleNews-vectors-negative300.bin.gz\", only required if word2vec embedding is chosen\n",
        "from pathlib import Path\n",
        "bdenv_loc = Path('/usr/shared/CMPT/big-data')\n",
        "bdata = bdenv_loc / 'data'"
      ]
    },
    {
      "cell_type": "code",
      "execution_count": 3,
      "metadata": {
        "colab": {
          "base_uri": "https://localhost:8080/"
        },
        "id": "PrFTYOvqjLyE",
        "outputId": "c5e3bfe7-ae3c-442e-b9c3-4fd667be9049"
      },
      "outputs": [
        {
          "name": "stdout",
          "output_type": "stream",
          "text": [
            "Wed Apr  5 01:31:34 2023       \n",
            "+-----------------------------------------------------------------------------+\n",
            "| NVIDIA-SMI 525.85.12    Driver Version: 525.85.12    CUDA Version: 12.0     |\n",
            "|-------------------------------+----------------------+----------------------+\n",
            "| GPU  Name        Persistence-M| Bus-Id        Disp.A | Volatile Uncorr. ECC |\n",
            "| Fan  Temp  Perf  Pwr:Usage/Cap|         Memory-Usage | GPU-Util  Compute M. |\n",
            "|                               |                      |               MIG M. |\n",
            "|===============================+======================+======================|\n",
            "|   0  Tesla T4            Off  | 00000000:00:04.0 Off |                    0 |\n",
            "| N/A   53C    P8    11W /  70W |      3MiB / 15360MiB |      0%      Default |\n",
            "|                               |                      |                  N/A |\n",
            "+-------------------------------+----------------------+----------------------+\n",
            "                                                                               \n",
            "+-----------------------------------------------------------------------------+\n",
            "| Processes:                                                                  |\n",
            "|  GPU   GI   CI        PID   Type   Process name                  GPU Memory |\n",
            "|        ID   ID                                                   Usage      |\n",
            "|=============================================================================|\n",
            "|  No running processes found                                                 |\n",
            "+-----------------------------------------------------------------------------+\n"
          ]
        }
      ],
      "source": [
        "!nvidia-smi"
      ]
    },
    {
      "cell_type": "code",
      "execution_count": 4,
      "metadata": {
        "colab": {
          "base_uri": "https://localhost:8080/"
        },
        "id": "JLXGrSCYx_gB",
        "outputId": "fc4efbc3-d692-4d35-b9b3-f22486939232"
      },
      "outputs": [
        {
          "data": {
            "text/plain": [
              "('2.0.0+cu118', device(type='cuda'))"
            ]
          },
          "execution_count": 4,
          "metadata": {},
          "output_type": "execute_result"
        }
      ],
      "source": [
        "torch.__version__, DEVICE"
      ]
    },
    {
      "cell_type": "markdown",
      "metadata": {
        "id": "81w01bGqxz3V"
      },
      "source": [
        "# Task 1: Explore Word Embeddings"
      ]
    },
    {
      "cell_type": "markdown",
      "metadata": {
        "id": "fNGhZ6YTxz3W"
      },
      "source": [
        "Word embeddings are mappings between words and multi-dimensional vectors, where the difference between two word vectors has some relationship with the meaning of the corresponding words, i.e. words that are similar in meaning are mapped closely together (ideally). This part of the assignment should enable you to\n",
        "\n",
        "* Load a pretrained word embedding\n",
        "* Perform basic operations, such as distance queries and evaluate simple analogies"
      ]
    },
    {
      "cell_type": "code",
      "execution_count": null,
      "metadata": {
        "id": "cKpqMsEsxz3Y"
      },
      "outputs": [],
      "source": [
        "# Load pre-trained GloVe model, trained on news articles"
      ]
    },
    {
      "cell_type": "code",
      "execution_count": null,
      "metadata": {
        "id": "wSkjLELD_tL3"
      },
      "outputs": [],
      "source": [
        "from torchtext.vocab import GloVe\n",
        "glove_vectors = GloVe(name=\"6B\")\n",
        "EMBEDDING_DIM = glove_vectors.vectors.shape[1]"
      ]
    },
    {
      "cell_type": "code",
      "execution_count": null,
      "metadata": {
        "id": "YEJe6F-M_6sY"
      },
      "outputs": [],
      "source": [
        "# from google.colab import drive\n",
        "# drive.mount('/content/drive')"
      ]
    },
    {
      "cell_type": "code",
      "execution_count": null,
      "metadata": {
        "colab": {
          "base_uri": "https://localhost:8080/",
          "height": 448
        },
        "id": "8nUEgKYBxz3a",
        "outputId": "9afaea49-d5f1-4da5-c3f4-1a68b97cb02c"
      },
      "outputs": [
        {
          "data": {
            "text/plain": [
              "<matplotlib.legend.Legend at 0x7f8d0b5412b0>"
            ]
          },
          "execution_count": 4,
          "metadata": {},
          "output_type": "execute_result"
        },
        {
          "data": {
            "image/png": "[encoded data removed]",
            "text/plain": [
              "<Figure size 640x480 with 1 Axes>"
            ]
          },
          "metadata": {},
          "output_type": "display_data"
        }
      ],
      "source": [
        "# read up about the vocab\n",
        "# obtain vector representations for two or more words of your choice\n",
        "\n",
        "# TODO ...\n",
        "import matplotlib.pyplot as plt\n",
        "\n",
        "CAT = 'cat'\n",
        "DOG = 'dog'\n",
        "\n",
        "word_1_vector = glove_vectors.vectors[glove_vectors.stoi[CAT]]\n",
        "word_2_vector = glove_vectors.vectors[glove_vectors.stoi[DOG]]\n",
        "\n",
        "# to confirm that this worked, print out the number of elements of the vector\n",
        "# and make a line plot that shows each vector as a line graph\n",
        "plt.plot(word_1_vector.numpy(), label=CAT)\n",
        "plt.plot(word_2_vector.numpy(), label=DOG)\n",
        "plt.legend()"
      ]
    },
    {
      "cell_type": "code",
      "execution_count": null,
      "metadata": {
        "colab": {
          "base_uri": "https://localhost:8080/"
        },
        "id": "c8Qx8LqExz3c",
        "outputId": "86b0e896-79f6-457c-ff42-7d7ee0d75780"
      },
      "outputs": [
        {
          "name": "stdout",
          "output_type": "stream",
          "text": [
            "cat  -  [('cat', tensor(0.)), ('cats', tensor(5.0537)), ('dog', tensor(5.1959)), ('pet', tensor(5.8613)), ('feline', tensor(6.0994)), ('dogs', tensor(6.2737)), ('__________________________________', tensor(6.2739)), ('piyanart', tensor(6.3224)), ('srivalo', tensor(6.3224)), ('k978-1', tensor(6.3238))]\n",
            "dog  -  [('dog', tensor(0.)), ('dogs', tensor(4.3599)), ('cat', tensor(5.1959)), ('pet', tensor(5.7008)), ('puppy', tensor(5.8576)), ('hound', tensor(6.2202)), ('pets', tensor(6.3971)), ('animal', tensor(6.4064)), ('__________________________________', tensor(6.4334)), ('canine', tensor(6.4496))]\n",
            "euphoria -  [('euphoria', tensor(0.)), ('euphoric', tensor(4.8463)), ('elation', tensor(5.4829)), ('excitement', tensor(5.4925)), ('giddiness', tensor(5.5258)), ('giddy', tensor(5.5953)), ('exhilaration', tensor(5.7383)), ('hysteria', tensor(5.8111)), ('optimism', tensor(5.8499)), ('nervousness', tensor(5.8545))]\n"
          ]
        }
      ],
      "source": [
        "# determine the 10 words that are closest in the embedding to the first word vector your produced above\n",
        "\n",
        "# TODO ...\n",
        "def get_10_close_words(word_vector):\n",
        "\n",
        "\tdistances = []\n",
        "\n",
        "\tfor i in glove_vectors.itos:\n",
        "\t\tdistances.append((\n",
        "\t\t\t\ti, \n",
        "\t\t\t\ttorch.dist(\n",
        "\t\t\t\t\t\tword_vector, \n",
        "\t\t\t\t\t\tglove_vectors.vectors[glove_vectors.stoi[i]]\n",
        "\t\t\t\t)\n",
        "\t\t))\n",
        "\n",
        "\tsorted_distances = sorted(distances, key=lambda pair: pair[1])\n",
        "\n",
        "\treturn sorted_distances[:10]\n",
        "\n",
        "print(CAT, ' - ', get_10_close_words(word_1_vector))\n",
        "\n",
        "# are the nearest neighbours similar in meaning?\n",
        "# try different seed words, until you find one whose neighbourhood looks OK\n",
        "print(DOG, ' - ', get_10_close_words(word_2_vector))\n",
        "print(\"euphoria - \", get_10_close_words(glove_vectors.vectors[glove_vectors.stoi['euphoria']]))"
      ]
    },
    {
      "cell_type": "code",
      "execution_count": null,
      "metadata": {
        "colab": {
          "base_uri": "https://localhost:8080/",
          "height": 35
        },
        "id": "oWGjY1snxz3c",
        "outputId": "3c4f084b-a6c0-4c11-fcc7-14f056e07537"
      },
      "outputs": [
        {
          "data": {
            "application/vnd.google.colaboratory.intrinsic+json": {
              "type": "string"
            },
            "text/plain": [
              "'queen'"
            ]
          },
          "execution_count": 6,
          "metadata": {},
          "output_type": "execute_result"
        }
      ],
      "source": [
        "# using a combination of positive and negative words, find out which word is most\n",
        "# similar to woman + king - man\n",
        "\n",
        "# TODO ...\n",
        "def get_similar_word(word_1, word_2, word_3):\n",
        "\tword_vector = glove_vectors.vectors[glove_vectors.stoi[word_3]] \\\n",
        "\t\t\t\t\t\t\t\t+ glove_vectors.vectors[glove_vectors.stoi[word_1]] \\\n",
        "\t\t\t\t\t\t\t\t- glove_vectors.vectors[glove_vectors.stoi[word_2]]\n",
        "\n",
        "\tsorted_similar_distances = get_10_close_words(word_vector)\n",
        "\n",
        "\tfor (similar_word, dist) in sorted_similar_distances:\n",
        "\t\tif similar_word not in [word_1, word_2, word_3]:\n",
        "\t\t\treturn similar_word\n",
        "\t\t\tbreak\n",
        "\n",
        "get_similar_word('king', 'man', 'woman')\n"
      ]
    },
    {
      "cell_type": "code",
      "execution_count": null,
      "metadata": {
        "colab": {
          "base_uri": "https://localhost:8080/"
        },
        "id": "0ZzxYWLuxz3d",
        "outputId": "f42a3a5a-cd63-4764-b183-5490316cddd5"
      },
      "outputs": [
        {
          "name": "stdout",
          "output_type": "stream",
          "text": [
            "('girl', 'actress', 'actor') boy\n",
            "('sister', 'daughter', 'son') brother\n"
          ]
        }
      ],
      "source": [
        "# You may find that the results of most word analogy combinations don't work well sometimes, but not in all cases.\n",
        "# However, explore a bit and find two more cases where the output of your word vector algebra makes sense.\n",
        "\n",
        "# TODO ...\n",
        "print(\"('girl', 'actress', 'actor')\", get_similar_word('girl', 'actress', 'actor'))\n",
        "print(\"('sister', 'daughter', 'son')\", get_similar_word('sister', 'daughter', 'son'))"
      ]
    },
    {
      "cell_type": "markdown",
      "metadata": {
        "id": "xGuycMsFxz3e"
      },
      "source": [
        "# Task 2: Sequence modeling with RNNs or transformers"
      ]
    },
    {
      "cell_type": "markdown",
      "metadata": {
        "id": "wNHXspW1xz3e"
      },
      "source": [
        "In this task you will get to use a learning and a rule-based model of text sentiment analysis. To keep things simple, you will receive almost all the code and are just left with the task to tune the given algorithms, see the part about instrumentation below.\n",
        "Look for *TODO* to find places where your input is required."
      ]
    },
    {
      "cell_type": "markdown",
      "metadata": {
        "id": "KMzlMDtkxz3f"
      },
      "source": [
        "## SST-2 Binary text classification with XLM-RoBERTa model and LSTMs\n",
        "\n",
        "The XLM-RoBERTa related portions of this notebook are from [a tutorial](https://pytorch.org/text/main/tutorials/sst2_classification_non_distributed.html) authored by `Parmeet Bhatia <parmeetbhatia@fb.com>`\n",
        "\n",
        "Adaptation of the modern torchtext pipeline to also allow switching to recurrent model with different pre-trained word embeddings by `Steven Bergner <sbergner@sfu.ca>`"
      ]
    },
    {
      "cell_type": "markdown",
      "metadata": {
        "id": "uDNjT94Cxz3f"
      },
      "source": [
        "The steps below demonstrate how to train a text classifier on SST-2 binary dataset using a pre-trained XLM-RoBERTa (XLM-R) model. Customizations to switch parts of the pipeline to different models are also enabled.\n",
        "\n",
        "We will show how to use torchtext library to:\n",
        "\n",
        "1. build text pre-processing pipeline for XLM-R model\n",
        "2. read SST-2 dataset and transform it using text and label transformation\n",
        "3. instantiate a classification model using pre-trained XLM-R encoder\n",
        "4. change pipeline components to swap out any part of the data and model pipeline\n"
      ]
    },
    {
      "cell_type": "markdown",
      "metadata": {
        "id": "GKYp60QBxz3g"
      },
      "source": [
        "## Data Transformation\n",
        "\n",
        "Models like XLM-R cannot work directly with raw text. The first step in training\n",
        "these models is to transform input text into tensor (numerical) form such that it\n",
        "can then be processed by models to make predictions. A standard way to process text is:\n",
        "\n",
        "1. Tokenize text\n",
        "2. Convert tokens into (integer) IDs\n",
        "3. Add any special tokens IDs\n",
        "\n",
        "XLM-R uses sentencepiece model for text tokenization. Below, we use pre-trained sentence piece\n",
        "model along with corresponding vocabulary to build text pre-processing pipeline using torchtext's transforms.\n",
        "The transforms are pipelined using :py:func:`torchtext.transforms.Sequential` which is similar to :py:func:`torch.nn.Sequential`\n",
        "but is torchscriptable. Note that the transforms support both batched and non-batched text inputs i.e, one\n",
        "can either pass a single sentence or list of sentences.\n",
        "\n",
        "\n"
      ]
    },
    {
      "cell_type": "markdown",
      "metadata": {
        "id": "H4xQySubxz3g"
      },
      "source": [
        "Caution: If you want to learn more about torchtext, be careful to **not** read the docs at:\n",
        "https://torchtext.readthedocs.io/en/latest/\n",
        "They claim to be \"latest\", but are of version 0.4.0\n",
        "\n",
        "Instead, find **current docs** here: https://pytorch.org/text/stable/index.html\n",
        "or simply keep reading, as this tutorial shows how to use the recent version."
      ]
    },
    {
      "cell_type": "code",
      "execution_count": 5,
      "metadata": {
        "colab": {
          "base_uri": "https://localhost:8080/"
        },
        "id": "yiVXWjvbxz3g",
        "outputId": "4516f9fc-caa8-4cba-fa6f-61b25ed27a95"
      },
      "outputs": [
        {
          "name": "stderr",
          "output_type": "stream",
          "text": [
            "100%|██████████| 5.07M/5.07M [00:00<00:00, 25.7MB/s]\n",
            "Downloading: \"https://download.pytorch.org/models/text/xlmr.vocab.pt\" to /root/.cache/torch/hub/checkpoints/xlmr.vocab.pt\n",
            "100%|██████████| 4.85M/4.85M [00:00<00:00, 91.4MB/s]\n"
          ]
        }
      ],
      "source": [
        "import torchtext.transforms as T\n",
        "from torch.hub import load_state_dict_from_url\n",
        "from torch.utils.data import DataLoader\n",
        "\n",
        "padding_idx = 1\n",
        "bos_idx = 0\n",
        "eos_idx = 2\n",
        "max_seq_len = 256\n",
        "xlmr_vocab_path = r\"https://download.pytorch.org/models/text/xlmr.vocab.pt\"\n",
        "xlmr_spm_model_path = r\"https://download.pytorch.org/models/text/xlmr.sentencepiece.bpe.model\"\n",
        "\n",
        "text_transform = T.Sequential(\n",
        "    T.SentencePieceTokenizer(xlmr_spm_model_path),\n",
        "    T.VocabTransform(load_state_dict_from_url(xlmr_vocab_path)),\n",
        "    T.Truncate(max_seq_len - 2),\n",
        "    T.AddToken(token=bos_idx, begin=True),\n",
        "    T.AddToken(token=eos_idx, begin=False),\n",
        ")"
      ]
    },
    {
      "cell_type": "markdown",
      "metadata": {
        "id": "bHwGKnxOxz3l"
      },
      "source": [
        "Alternately, we could also use transform shipped with pre-trained model that does all of the above out-of-the-box\n",
        "```\n",
        "  text_transform = XLMR_BASE_ENCODER.transform()\n",
        "```"
      ]
    },
    {
      "cell_type": "code",
      "execution_count": 6,
      "metadata": {
        "id": "dvPY3Lq2xz3i"
      },
      "outputs": [],
      "source": [
        "# obtain the vocabulary of the data pipeline, so that we can convert word <--> word_index\n",
        "# allowing us to plug in different word embeddings\n",
        "vocab = text_transform[1].vocab.vocab\n",
        "word_to_idx = vocab.get_stoi()"
      ]
    },
    {
      "cell_type": "markdown",
      "metadata": {
        "id": "cd_eLUY7xz3i"
      },
      "source": [
        "## Model and training parameters\n",
        "\n",
        "In addition to the transformer model, we also create an LSTM based model for text classification.\n",
        "\n",
        "Change the parameters below to switch between models and make adjustments to the training."
      ]
    },
    {
      "cell_type": "code",
      "execution_count": 7,
      "metadata": {
        "id": "dTLMJf7Kxz3i"
      },
      "outputs": [],
      "source": [
        "import time\n",
        "\n",
        "# TODO make adjustments here to achieve acceptable training performance with LSTMs\n",
        "# Also, try out the Roberta model for comparison\n",
        "\n",
        "EPOCHS = 8\n",
        "USE_GPU = torch.cuda.is_available()\n",
        "DROPOUT = .1\n",
        "timestamp = str(int(time.time()))\n",
        "best_dev_acc = 0.0\n",
        "\n",
        "do_use_roberta_model = True\n",
        "if do_use_roberta_model:\n",
        "    LEARNING_RATE = 1e-5\n",
        "    EPOCHS = 1\n",
        "    BATCH_SIZE = 128\n",
        "    EMBEDDING_TYPE = 'built-in'\n",
        "else:\n",
        "    #EMBEDDING_TYPE = 'word2vec'\n",
        "    EMBEDDING_TYPE = 'glove'\n",
        "    #EMBEDDING_TYPE = 'glovefull'\n",
        "    EMBEDDING_DIM = 500\n",
        "    HIDDEN_DIM = 100\n",
        "    BATCH_SIZE = 128\n",
        "    USE_BILSTM = True\n",
        "    LEARNING_RATE = 0.01\n",
        "    do_freeze_embedding = False\n",
        "    do_use_roberta_classifier = False\n"
      ]
    },
    {
      "cell_type": "code",
      "execution_count": 8,
      "metadata": {
        "id": "6Uv243-6xz3i"
      },
      "outputs": [],
      "source": [
        "def maybe_gpu(v):\n",
        "    return v.cuda() if USE_GPU else v"
      ]
    },
    {
      "cell_type": "code",
      "execution_count": 9,
      "metadata": {
        "id": "O1EPpIjoxz3i"
      },
      "outputs": [],
      "source": [
        "from torch.autograd import Variable\n",
        "import torch.nn.functional as nnF\n",
        "\n",
        "class LSTMSentiment(nn.Module):\n",
        "\n",
        "    def __init__(self, embedding_dim, hidden_dim, vocab_size, label_size,\n",
        "                 use_gpu, batch_size, dropout=0.5, bidirectional=False, classifier_head=None):\n",
        "        \"\"\"Prepare individual layers\"\"\"\n",
        "        super(LSTMSentiment, self).__init__()\n",
        "        self.hidden_dim = hidden_dim\n",
        "        self.use_gpu = use_gpu\n",
        "        self.batch_size = batch_size\n",
        "        self.dropout = dropout\n",
        "        self.num_directions = 2 if bidirectional else 1\n",
        "        self.embeddings = nn.Embedding(vocab_size, embedding_dim)\n",
        "        self.lstm = nn.LSTM(input_size=embedding_dim, hidden_size=hidden_dim, bidirectional=bidirectional)\n",
        "        self.hidden2label = nn.Linear(hidden_dim*self.num_directions, label_size)\n",
        "        self.hidden = self.init_hidden()\n",
        "        self.classifier_head = classifier_head\n",
        "\n",
        "    def init_hidden(self, batch_size=None):\n",
        "        \"\"\"Choose appropriate size and type of hidden layer\"\"\"\n",
        "        if not batch_size:\n",
        "            batch_size = self.batch_size\n",
        "        #what = torch.randn\n",
        "        what = torch.zeros\n",
        "        # first is the hidden h\n",
        "        # second is the cell c\n",
        "        return (maybe_gpu(Variable(what(self.num_directions, batch_size, self.hidden_dim))),\n",
        "                maybe_gpu(Variable(what(self.num_directions, batch_size, self.hidden_dim))))\n",
        "\n",
        "    def classify(self, features):\n",
        "        y = self.hidden2label(features)\n",
        "        log_probs = nnF.log_softmax(y, dim=1)\n",
        "        return log_probs\n",
        "\n",
        "    def forward(self, sentence):\n",
        "        \"\"\"Use the layers of this model to propagate input and return class log probabilities\"\"\"\n",
        "        if self.use_gpu:\n",
        "            sentence = sentence.cuda()\n",
        "        x = self.embeddings(sentence).permute(1,0,2)\n",
        "        batch_size = x.shape[1]\n",
        "        self.hidden = self.init_hidden(batch_size=batch_size)\n",
        "        lstm_out, self.hidden = self.lstm(x, self.hidden)\n",
        "        features = lstm_out[-1]\n",
        "        if self.classifier_head:\n",
        "            #unsqueeze: introduce dummy second dimension, so that classifier_head can drop it\n",
        "            return self.classifier_head(torch.unsqueeze(features, 1))\n",
        "        else:\n",
        "            return self.classify(features)"
      ]
    },
    {
      "cell_type": "markdown",
      "metadata": {
        "id": "NMq5cABlxz3k"
      },
      "source": [
        "Choose and load a word embedding that provides the feature input to the RNN/LSTM."
      ]
    },
    {
      "cell_type": "code",
      "execution_count": 10,
      "metadata": {
        "id": "Ua1m0a8ixz3k"
      },
      "outputs": [],
      "source": [
        "if 'glove' == EMBEDDING_TYPE:\n",
        "    from torchtext.vocab import GloVe\n",
        "    glove_vectors = GloVe(name=\"6B\")\n",
        "    EMBEDDING_DIM = glove_vectors.vectors.shape[1]\n",
        "    use_embedding_directly = False\n",
        "    if use_embedding_directly:\n",
        "        pretrained_embeddings = maybe_gpu(glove_vectors.vectors)\n",
        "    else:\n",
        "        # prepare random embedding, then fill in glove vectors\n",
        "        pretrained_embeddings = np.random.uniform(-0.25, 0.25, (len(vocab), EMBEDDING_DIM)).astype('f')\n",
        "        pretrained_embeddings[0] = 0\n",
        "        for word, wi in glove_vectors.stoi.items():\n",
        "            try:\n",
        "                pretrained_embeddings[word_to_idx[word]-1] = glove_vectors.__getitem__(word)\n",
        "            except KeyError:\n",
        "                pass\n",
        "        pretrained_embeddings = maybe_gpu(torch.from_numpy(pretrained_embeddings))\n",
        "elif 'glovefull' == EMBEDDING_TYPE:\n",
        "    from torchtext.vocab import GloVe\n",
        "    glove_vectors = GloVe(cache=\"/usr/shared/CMPT/big-data/dot_torch_shared/.vector_cache/\")\n",
        "    # set freeze to false if you want them to be trainable\n",
        "    pretrained_embeddings = maybe_gpu(glove_vectors.vectors)\n",
        "    #my_embeddings = nn.Embedding.from_pretrained(pretrained_embeddings, freeze=True)\n",
        "elif 'word2vec' == EMBEDDING_TYPE:\n",
        "    pretrained_embeddings = np.random.uniform(-0.25, 0.25, (len(vocab), EMBEDDING_DIM)).astype('f')\n",
        "    pretrained_embeddings[0] = 0\n",
        "    try:\n",
        "        word2vec\n",
        "    except:\n",
        "        print('Load word embeddings...')\n",
        "        import gensim\n",
        "        word2vec = gensim.models.KeyedVectors.load_word2vec_format(\n",
        "                         bdata / 'GoogleNews-vectors-negative300.bin.gz', binary=True)\n",
        "        EMBEDDING_DIM = 300\n",
        "    for word, wi in word2vec.key_to_index.items():\n",
        "        try:\n",
        "            pretrained_embeddings[word_to_idx[word]-1] = word2vec.vectors[wi]\n",
        "        except KeyError:\n",
        "            pass\n",
        "    # text_field.vocab.load_vectors(wv_type='', wv_dim=300)\n",
        "    pretrained_embeddings = maybe_gpu(torch.from_numpy(pretrained_embeddings))\n",
        "else:\n",
        "    if not do_use_roberta_model:\n",
        "        print('Unknown embedding type {}'.format(EMBEDDING_TYPE))"
      ]
    },
    {
      "cell_type": "markdown",
      "metadata": {
        "id": "Ef-M5nGoxz3k"
      },
      "source": [
        "## Model preparation LSTM\n",
        "Initialize the RNN model, if the above configuration is set to use it."
      ]
    },
    {
      "cell_type": "code",
      "execution_count": 11,
      "metadata": {
        "id": "o4K_XRWTxz3k"
      },
      "outputs": [],
      "source": [
        "num_classes = 2\n",
        "\n",
        "if not do_use_roberta_model:\n",
        "    lstm_model = LSTMSentiment(embedding_dim=EMBEDDING_DIM, hidden_dim=HIDDEN_DIM,\n",
        "                                vocab_size=len(vocab), label_size=num_classes,\\\n",
        "                                use_gpu=USE_GPU, batch_size=BATCH_SIZE, dropout=DROPOUT, bidirectional=USE_BILSTM)\n",
        "    lstm_model.embeddings = nn.Embedding.from_pretrained(pretrained_embeddings, freeze=do_freeze_embedding)\n",
        "    model = lstm_model"
      ]
    },
    {
      "cell_type": "markdown",
      "metadata": {
        "id": "U7b98n5Sxz3l"
      },
      "source": [
        "## Dataset\n",
        "torchtext provides several standard NLP datasets. For complete list, refer to documentation\n",
        "at https://pytorch.org/text/stable/datasets.html. These datasets are build using composable torchdata\n",
        "datapipes and hence support standard flow-control and mapping/transformation using user defined functions\n",
        "and transforms. Below, we demonstrate how to use text and label processing transforms to pre-process the\n",
        "SST-2 dataset.\n",
        "\n",
        "\n",
        "\n"
      ]
    },
    {
      "cell_type": "code",
      "execution_count": 12,
      "metadata": {
        "colab": {
          "base_uri": "https://localhost:8080/"
        },
        "id": "ktywr1Auxz3l",
        "outputId": "eaaf7c43-4575-4d72-daef-48a3d5eec908"
      },
      "outputs": [
        {
          "name": "stderr",
          "output_type": "stream",
          "text": [
            "/usr/local/lib/python3.9/dist-packages/torch/utils/data/datapipes/utils/common.py:145: UserWarning: Lambda function is not supported by pickle, please use regular python function or functools.partial instead.\n",
            "  warnings.warn(\n"
          ]
        }
      ],
      "source": [
        "from torchtext.datasets import SST2\n",
        "from torch.utils.data import DataLoader\n",
        "\n",
        "batch_size = BATCH_SIZE\n",
        "\n",
        "train_datapipe = SST2(split=\"train\")\n",
        "dev_datapipe = SST2(split=\"dev\")\n",
        "\n",
        "def ttf_first(x):\n",
        "  #return (F.to_tensor(text_transform(x[0]), padding_value=padding_idx), x[1])\n",
        "  return (text_transform(x[0]), x[1])\n",
        "\n",
        "# Transform the raw dataset using non-batched API (i.e apply transformation line by line)\n",
        "#train_datapipe = train_datapipe.map(ttf_first)\n",
        "train_datapipe = train_datapipe.map(lambda x: (text_transform(x[0]), x[1]))\n",
        "train_datapipe = train_datapipe.batch(batch_size)\n",
        "train_datapipe = train_datapipe.set_length(len(list(train_datapipe)))\n",
        "train_datapipe = train_datapipe.rows2columnar([\"token_ids\", \"target\"])\n",
        "train_dataloader = DataLoader(train_datapipe, batch_size=None)\n",
        "\n",
        "#dev_datapipe = dev_datapipe.map(ttf_first)\n",
        "dev_datapipe = dev_datapipe.map(lambda x: (text_transform(x[0]), x[1]))\n",
        "dev_datapipe = dev_datapipe.batch(batch_size)\n",
        "dev_datapipe = dev_datapipe.set_length(len(list(dev_datapipe)))\n",
        "dev_datapipe = dev_datapipe.rows2columnar([\"token_ids\", \"target\"])\n",
        "dev_dataloader = DataLoader(dev_datapipe, batch_size=None)"
      ]
    },
    {
      "cell_type": "markdown",
      "metadata": {
        "id": "EXFin5khxz3m"
      },
      "source": [
        "## Model preparation - RoBERTa\n",
        "\n",
        "torchtext provides SOTA pre-trained models that can be used to fine-tune on downstream NLP tasks.\n",
        "Below we use pre-trained XLM-R encoder with standard base architecture and attach a classifier head to fine-tune it\n",
        "on SST-2 binary classification task. We shall use standard Classifier head from the library, but users can define\n",
        "their own appropriate task head and attach it to the pre-trained encoder. For additional details on available pre-trained models,\n",
        "please refer to documentation at https://pytorch.org/text/main/models.html\n",
        "\n",
        "\n",
        "\n"
      ]
    },
    {
      "cell_type": "code",
      "execution_count": 13,
      "metadata": {
        "colab": {
          "base_uri": "https://localhost:8080/"
        },
        "id": "BD3KzsY4xz3m",
        "outputId": "9991d437-f922-4fd0-f7ce-f0e08f059650"
      },
      "outputs": [
        {
          "name": "stderr",
          "output_type": "stream",
          "text": [
            "Downloading: \"https://download.pytorch.org/models/text/xlmr.base.encoder.pt\" to /root/.cache/torch/hub/checkpoints/xlmr.base.encoder.pt\n",
            "100%|██████████| 1.03G/1.03G [00:04<00:00, 265MB/s]\n"
          ]
        }
      ],
      "source": [
        "num_classes = 2\n",
        "\n",
        "from torchtext.models import RobertaClassificationHead, XLMR_BASE_ENCODER\n",
        "\n",
        "def make_roberta_classification_model(num_classes):\n",
        "    roberta_input_dim = 768\n",
        "    classifier_head = RobertaClassificationHead(num_classes=num_classes, input_dim=roberta_input_dim)\n",
        "    return XLMR_BASE_ENCODER.get_model(head=classifier_head)\n",
        "\n",
        "if do_use_roberta_model:\n",
        "    model = make_roberta_classification_model(num_classes)\n",
        "else:\n",
        "    model = lstm_model\n",
        "    if do_use_roberta_classifier:\n",
        "        feature_dim = model.hidden_dim + (USE_BILSTM * model.hidden_dim)\n",
        "        classifier_head = RobertaClassificationHead(num_classes=num_classes, input_dim=feature_dim)\n",
        "        model.classifier_head = classifier_head\n",
        "\n",
        "model.to(DEVICE);"
      ]
    },
    {
      "cell_type": "markdown",
      "metadata": {
        "id": "isOHG_2fxz3m"
      },
      "source": [
        "## Training methods\n",
        "\n",
        "Let's now define the standard optimizer and training criteria as well as some helper functions\n",
        "for training and evaluation. The methods below work for either choice of model.\n",
        "\n",
        "\n"
      ]
    },
    {
      "cell_type": "code",
      "execution_count": 14,
      "metadata": {
        "id": "lSguGR5jMUQJ"
      },
      "outputs": [],
      "source": [
        "import lightning.pytorch as pl\n",
        "import torchmetrics\n",
        "\n",
        "from torch.optim import AdamW\n",
        "\n",
        "# TODO adjust this cell for Task B1\n",
        "\n",
        "class LitModel(pl.LightningModule):\n",
        "    def __init__(self, model):\n",
        "        super().__init__()\n",
        "        self.model = model\n",
        "        self.model.train()\n",
        "        self.criteria = nn.CrossEntropyLoss()\n",
        "        self.accuracy = torchmetrics.Accuracy(task=\"multiclass\", num_classes=num_classes)\n",
        "\n",
        "    def training_step(self, batch, batch_idx):\n",
        "        input = F.to_tensor(batch[\"token_ids\"], padding_value=padding_idx).to(self.device)\n",
        "        output = self.model(input)\n",
        "        loss = self.criteria(output, F.to_tensor(batch[\"target\"]).to(self.device))\n",
        "        self.log('train_loss', loss, prog_bar=True, batch_size=batch_size)\n",
        "        \n",
        "        accuracy = self.accuracy(output.argmax(1), F.to_tensor(batch[\"target\"]).to(self.device))\n",
        "        self.log('train_accuracy', accuracy, prog_bar=True, batch_size=batch_size)\n",
        "\n",
        "        return loss\n",
        "\n",
        "    def validation_step(self, batch, batch_idx):\n",
        "        input = F.to_tensor(batch[\"token_ids\"], padding_value=padding_idx).to(self.device)\n",
        "        output = self.model(input)\n",
        "        loss = self.criteria(output, F.to_tensor(batch[\"target\"]).to(self.device))\n",
        "        self.log('val_loss', loss, prog_bar=True, batch_size=batch_size)\n",
        "        \n",
        "        accuracy = self.accuracy(output.argmax(1), F.to_tensor(batch[\"target\"]).to(self.device))\n",
        "        self.log('val_accuracy', accuracy, prog_bar=True, batch_size=batch_size)\n",
        "\n",
        "        return loss\n",
        "\n",
        "\n",
        "    def configure_optimizers(self):\n",
        "        return AdamW(self.model.parameters(), lr=LEARNING_RATE)"
      ]
    },
    {
      "cell_type": "code",
      "execution_count": null,
      "metadata": {
        "id": "Fol9Xscbxz3n"
      },
      "outputs": [],
      "source": [
        "import torchtext.functional as F\n",
        "from torch.optim import AdamW\n",
        "\n",
        "learning_rate = LEARNING_RATE\n",
        "optim = AdamW(model.parameters(), lr=learning_rate)\n",
        "criteria = nn.CrossEntropyLoss()\n",
        "\n",
        "\n",
        "def train_step(input, target):\n",
        "    model.train()\n",
        "    output = model(input)\n",
        "    loss = criteria(output, target)\n",
        "    optim.zero_grad()\n",
        "    loss.backward()\n",
        "    optim.step()\n",
        "\n",
        "\n",
        "def eval_step(input, target):\n",
        "    output = model(input)\n",
        "    loss = criteria(output, target).item()\n",
        "    return float(loss), (output.argmax(1) == target).type(torch.float).sum().item()\n",
        "\n",
        "\n",
        "def evaluate():\n",
        "    model.eval()\n",
        "    total_loss = 0\n",
        "    correct_predictions = 0\n",
        "    total_predictions = 0\n",
        "    counter = 0\n",
        "    with torch.no_grad():\n",
        "        for batch in dev_dataloader:\n",
        "            input = F.to_tensor(batch[\"token_ids\"], padding_value=padding_idx).to(DEVICE)\n",
        "            target = torch.tensor(batch[\"target\"]).to(DEVICE)\n",
        "            loss, predictions = eval_step(input, target)\n",
        "            total_loss += loss\n",
        "            correct_predictions += predictions\n",
        "            total_predictions += len(target)\n",
        "            counter += 1\n",
        "\n",
        "    return total_loss / counter, correct_predictions / total_predictions\n"
      ]
    },
    {
      "cell_type": "code",
      "execution_count": 35,
      "metadata": {
        "colab": {
          "base_uri": "https://localhost:8080/"
        },
        "id": "gQ5JljdyKh4I",
        "outputId": "f21544e6-e9bb-4ed5-a4be-1d385067ca41"
      },
      "outputs": [
        {
          "name": "stderr",
          "output_type": "stream",
          "text": [
            "INFO: GPU available: True (cuda), used: True\n",
            "INFO:lightning.pytorch.utilities.rank_zero:GPU available: True (cuda), used: True\n",
            "INFO: TPU available: False, using: 0 TPU cores\n",
            "INFO:lightning.pytorch.utilities.rank_zero:TPU available: False, using: 0 TPU cores\n",
            "INFO: IPU available: False, using: 0 IPUs\n",
            "INFO:lightning.pytorch.utilities.rank_zero:IPU available: False, using: 0 IPUs\n",
            "INFO: HPU available: False, using: 0 HPUs\n",
            "INFO:lightning.pytorch.utilities.rank_zero:HPU available: False, using: 0 HPUs\n"
          ]
        }
      ],
      "source": [
        "from lightning.pytorch import Trainer\n",
        "from lightning.pytorch.loggers import TensorBoardLogger\n",
        "\n",
        "tb_logdir = \"logs-a10\"\n",
        "\n",
        "logger = TensorBoardLogger(tb_logdir, name=\"senti_model\")\n",
        "trainer = Trainer(logger=logger, max_epochs=1)\n",
        "torch.cuda.empty_cache()"
      ]
    },
    {
      "cell_type": "code",
      "execution_count": 21,
      "metadata": {
        "id": "cNzEI1NtJT8U"
      },
      "outputs": [],
      "source": [
        "# Load the TensorBoard notebook extension\n",
        "%load_ext tensorboard"
      ]
    },
    {
      "cell_type": "code",
      "execution_count": null,
      "metadata": {
        "id": "M6BSoWbmILC4"
      },
      "outputs": [],
      "source": [
        "%tensorboard --logdir {tb_logdir}"
      ]
    },
    {
      "cell_type": "code",
      "execution_count": 36,
      "metadata": {
        "colab": {
          "base_uri": "https://localhost:8080/",
          "height": 555,
          "referenced_widgets": [
            "42239fb86d994cb98f102403dc72d13e",
            "49c6f19d236d42a29ce1bbbff9caa9ff",
            "cccf5fe243ad4281aa121a3f2dcbb826",
            "38b9c16c13aa4e808f510eef8e3f60ff",
            "0d3df9c4601c4d82bba21811e5c49791",
            "f7d1b94b7f3c449fbe7af08cd4e59cf8",
            "19f6e70b2e574ed7bf77d6a42f27c400",
            "8f24aabc513649678eeff0256313a694",
            "057c0e51c7cb49c090e4ed93fe46d0a5",
            "120a5715649942aa941d43fdefe75de7",
            "7aca13d45d1d439e9137b6b1eda0c2cc",
            "83cf2e3823a34f7eb3008b956b7dbb5d",
            "8036832a93494080864d67ba182f7177",
            "2e6b245828bc49b598afe92848ec6886",
            "8ed0e0937ebb43ccae373838c5c8f020",
            "448bebb2e123430badd13f63f6ee6ee1",
            "5af73ad8b905458e98cd18343d1188e7",
            "ddca81003cad4848b80d6ff7861482fd",
            "6e239e7782cd4aeb9d4248d93d0b26b8",
            "59e7504f36a54bd3aface1ed3375bf9a",
            "5b56f161a287420c9626b70d3f0175c2",
            "8ff43b154f824c8db2cb3d1bc199ff79",
            "0227ffdc1aad4f1ea54ae465f74ce1cf",
            "a7333777271b43968c1e487938fd56f4",
            "3c11439088224e648b28939d5892e612",
            "4e03d2ddbdd44dc5b397c5dad46b9fa5",
            "97215a48b2534725932471519539d76f",
            "277203b5b0ba43a3b5e0a3473e5f7694",
            "9c3dc39688894489955df2f18b3b3d72",
            "ed0c432a358c42c39ba0b6b4c7f327e2",
            "232494b7400a4b1fb8d3a5e1b5f33bd2",
            "2722eeeb63864061a1a78e605cf5064f",
            "20dc061506274e808fb09cb48465e07c"
          ]
        },
        "id": "WKmwrpzAJNV7",
        "outputId": "39eac3c9-5a07-466b-cf5d-19f053555279",
        "scrolled": true
      },
      "outputs": [
        {
          "name": "stderr",
          "output_type": "stream",
          "text": [
            "INFO: LOCAL_RANK: 0 - CUDA_VISIBLE_DEVICES: [0]\n",
            "INFO:lightning.pytorch.accelerators.cuda:LOCAL_RANK: 0 - CUDA_VISIBLE_DEVICES: [0]\n",
            "INFO: \n",
            "  | Name     | Type               | Params\n",
            "------------------------------------------------\n",
            "0 | model    | RobertaModel       | 278 M \n",
            "1 | criteria | CrossEntropyLoss   | 0     \n",
            "2 | accuracy | MulticlassAccuracy | 0     \n",
            "------------------------------------------------\n",
            "278 M     Trainable params\n",
            "0         Non-trainable params\n",
            "278 M     Total params\n",
            "1,112.178 Total estimated model params size (MB)\n",
            "INFO:lightning.pytorch.callbacks.model_summary:\n",
            "  | Name     | Type               | Params\n",
            "------------------------------------------------\n",
            "0 | model    | RobertaModel       | 278 M \n",
            "1 | criteria | CrossEntropyLoss   | 0     \n",
            "2 | accuracy | MulticlassAccuracy | 0     \n",
            "------------------------------------------------\n",
            "278 M     Trainable params\n",
            "0         Non-trainable params\n",
            "278 M     Total params\n",
            "1,112.178 Total estimated model params size (MB)\n"
          ]
        },
        {
          "data": {
            "application/vnd.jupyter.widget-view+json": {
              "model_id": "42239fb86d994cb98f102403dc72d13e",
              "version_major": 2,
              "version_minor": 0
            },
            "text/plain": [
              "Sanity Checking: 0it [00:00, ?it/s]"
            ]
          },
          "metadata": {},
          "output_type": "display_data"
        },
        {
          "name": "stderr",
          "output_type": "stream",
          "text": [
            "/usr/local/lib/python3.9/dist-packages/torch/utils/data/datapipes/iter/combining.py:297: UserWarning: Some child DataPipes are not exhausted when __iter__ is called. We are resetting the buffer and each child DataPipe will read from the start again.\n",
            "  warnings.warn(\"Some child DataPipes are not exhausted when __iter__ is called. We are resetting \"\n"
          ]
        },
        {
          "data": {
            "application/vnd.jupyter.widget-view+json": {
              "model_id": "83cf2e3823a34f7eb3008b956b7dbb5d",
              "version_major": 2,
              "version_minor": 0
            },
            "text/plain": [
              "Training: 0it [00:00, ?it/s]"
            ]
          },
          "metadata": {},
          "output_type": "display_data"
        },
        {
          "data": {
            "application/vnd.jupyter.widget-view+json": {
              "model_id": "0227ffdc1aad4f1ea54ae465f74ce1cf",
              "version_major": 2,
              "version_minor": 0
            },
            "text/plain": [
              "Validation: 0it [00:00, ?it/s]"
            ]
          },
          "metadata": {},
          "output_type": "display_data"
        },
        {
          "name": "stderr",
          "output_type": "stream",
          "text": [
            "INFO: `Trainer.fit` stopped: `max_epochs=1` reached.\n",
            "INFO:lightning.pytorch.utilities.rank_zero:`Trainer.fit` stopped: `max_epochs=1` reached.\n"
          ]
        }
      ],
      "source": [
        "trainer.fit(LitModel(model), train_dataloader, dev_dataloader)"
      ]
    },
    {
      "cell_type": "markdown",
      "metadata": {
        "id": "lZCyxEIqxz3n"
      },
      "source": [
        "### The actual task (B1): Tensorboard instrumentation (TODO)\n",
        "\n",
        "Tensorboard is a visualiation system for deep learning. The pytorch integration can now be done via [toch lightning](https://www.pytorchlightning.ai/index.html).\n",
        "\n",
        "1. take a look at how tensorboard works for tensorflow profiling and visualization in [tensorboard](https://www.tensorflow.org/)\n",
        "1. instead of instrumenting with tensorboard directly, adjust the LightningModel training to pass performance info to the `logger`\n",
        "1. launch tensorboard and inspect the log folder, i.e. run `!tensorboard --logdir {tb_logdir}` from the folder of this notebook"
      ]
    },
    {
      "cell_type": "markdown",
      "metadata": {
        "id": "mX_sTP5Vxz3o"
      },
      "source": [
        "## Train\n",
        "\n",
        "Now we have all the ingredients to train our classification model. Note that we are able to directly iterate\n",
        "on our dataset object without using DataLoader. Our pre-process dataset  shall yield batches of data already,\n",
        "thanks to the batching datapipe we have applied. For distributed training, we would need to use DataLoader to\n",
        "take care of data-sharding.\n",
        "\n",
        "\n"
      ]
    },
    {
      "cell_type": "code",
      "execution_count": null,
      "metadata": {
        "id": "0qTNr3qdxz3p"
      },
      "outputs": [],
      "source": [
        "# TODO Use the tensorboard + lightning setup above to log the training loss and accuracy\n",
        "\n",
        "# Produce a screenshot of the experimental performance for different training rounds of your\n",
        "# (BI-)LSTM model\n"
      ]
    },
    {
      "cell_type": "markdown",
      "metadata": {
        "id": "A3YN6PERxz3p"
      },
      "source": [
        "### Task B2: Tune the model (TODO)\n",
        "\n",
        "After connecting the output of your model train and test performance with tensorboard. Change the model and training parameters above to improve the model performance. We would like to see variable plots of how validation accuracy evolves over a number of epochs for at least two different parameter choices, you can stop exploring when you exceed a model accuracy of 76%.\n",
        "\n",
        "Show a tensorboard screenshot with performance plots that combine at least 2 different tuning attempts. Store the screenshot as `tensorboard.png`. Then keep the best performing parameters set in this notebook for submission and evaluate the comparison below with your best model. "
      ]
    },
    {
      "cell_type": "markdown",
      "metadata": {
        "id": "F7hUO8NWxz3p"
      },
      "source": [
        "## Comparison with Vader (NLTK)\n",
        "Vader is a rule-based sentiment analysis algorithm that performs quite well against more complex architectures. The test below is to see, whether LSTMs are able to beat its performance."
      ]
    },
    {
      "cell_type": "code",
      "execution_count": null,
      "metadata": {
        "id": "0Pzqx65Uxz3p"
      },
      "outputs": [],
      "source": [
        "# get text data from torchtext dataloader\n",
        "vocab_itos = vocab.get_itos()\n",
        "text_data = []\n",
        "for ba in dev_dataloader:\n",
        "    text = (\"\".join(\n",
        "            [\"\".join(\n",
        "                vocab_itos[tid]) for tokens in ba[\"token_ids\"] \n",
        "                for tid in tokens ])\n",
        "                .replace(\"▁\",\" \")\n",
        "                .replace(\"<s>\",\"\")\n",
        "                .split(\"</s>\"))\n",
        "    text_and_target = list(zip(text, ba[\"target\"]))\n",
        "    text_data.extend(text_and_target)"
      ]
    },
    {
      "cell_type": "code",
      "execution_count": null,
      "metadata": {
        "colab": {
          "base_uri": "https://localhost:8080/"
        },
        "id": "WQI0SSFfxz3q",
        "outputId": "fc9631a3-120e-4996-a6a9-b0ac29803752"
      },
      "outputs": [
        {
          "name": "stderr",
          "output_type": "stream",
          "text": [
            "[nltk_data] Downloading package vader_lexicon to /root/nltk_data...\n"
          ]
        },
        {
          "name": "stdout",
          "output_type": "stream",
          "text": [
            "vader acc: 0.6594036697247707\n"
          ]
        }
      ],
      "source": [
        "import nltk\n",
        "nltk.download('vader_lexicon')\n",
        "from nltk.sentiment.vader import SentimentIntensityAnalyzer\n",
        "sid = SentimentIntensityAnalyzer()\n",
        "\n",
        "lab_vpred = np.zeros((len(text_data), 2))\n",
        "for k, (sentence, label) in enumerate(text_data):\n",
        "    ss = sid.polarity_scores(sentence)\n",
        "    lab_vpred[k,:] = (int(ss['compound']>0), int(label))\n",
        "\n",
        "vader_acc = 1-abs(lab_vpred[:,0]-lab_vpred[:,1]).mean()\n",
        "print('vader acc: {}'.format(vader_acc))\n",
        "logger.log_metrics({'Final/VaderAcc': vader_acc})"
      ]
    },
    {
      "cell_type": "markdown",
      "metadata": {
        "id": "rdCBzypYxz3q"
      },
      "source": [
        "Perform the model tuning and training in the previous task 2.B2 until you outperform the Vader algorithm by at least 7% in accuracy using the LSTM model."
      ]
    },
    {
      "cell_type": "markdown",
      "metadata": {
        "id": "rDEPV64BLkJK"
      },
      "source": [
        "## Task 2.C Train and use the Roberta model"
      ]
    },
    {
      "cell_type": "code",
      "execution_count": 18,
      "metadata": {
        "id": "6fNDGalq29hd"
      },
      "outputs": [],
      "source": [
        "# some words from https://www.fluentu.com/blog/french/french-feelings/\n",
        "\n",
        "lines = \"\"\"This is fantastic!\n",
        " Not sure.\n",
        " Probably OK.\n",
        " Very well!\n",
        " Das ist gut!\n",
        "Ich finde das bemerkenswert.\n",
        "Klasse Vorstellung.\n",
        "Lieber nicht anschauen.\n",
        "heureux\n",
        "heureuse\n",
        "content\n",
        "pas triste\n",
        "absolument pas triste\n",
        "énervé\n",
        "pressé\n",
        "fâché\n",
        "en colère \n",
        "fatigué\n",
        "s’ennuyer\n",
        "occupé\n",
        "navré\n",
        "épuisé\n",
        "malade\n",
        "inquiet\n",
        "inquiète\n",
        "ravi\"\"\"\n",
        "\n",
        "model.eval();"
      ]
    },
    {
      "cell_type": "markdown",
      "metadata": {
        "id": "yBTBb0vLMT7k"
      },
      "source": [
        "### Your task (TODO)\n",
        "\n",
        "1. Train the Roberta model with the given setup above for 1 epoch\n",
        "1. Ensure that your model test accuracy is > 75%\n",
        "1. Save the model weights\n",
        "1. Complete the SentimentPredictor class below to:\n",
        "  1. Load the model from disk to create a new model on the CPU\n",
        "  1. Use the restored model to compute Positive sentiment probabilities for each word in a list of words\n",
        "1. Show a dataframe of the word list given above and positivity probabilities sorted in order of descending probability"
      ]
    },
    {
      "cell_type": "code",
      "execution_count": 19,
      "metadata": {
        "id": "nhFIbdPZ5_F6"
      },
      "outputs": [],
      "source": [
        "# TODO write your code below\n",
        "MODEL_PATH = \"./mode.pth\"\n",
        "torch.save(model.state_dict(), MODEL_PATH)"
      ]
    },
    {
      "cell_type": "code",
      "execution_count": 46,
      "metadata": {
        "id": "Rmt4EW5H4jR1"
      },
      "outputs": [],
      "source": [
        "class SentimentPredictor:\n",
        "  def __init__(self):\n",
        "    self.model = make_roberta_classification_model(2)\n",
        "    self.model.load_state_dict(torch.load(MODEL_PATH))\n",
        "    self.model.eval()\n",
        "    self.text_transform = XLMR_BASE_ENCODER.transform()\n",
        "\n",
        "  def __call__(self, text, prob=True):\n",
        "    if isinstance(text, str):\n",
        "      text = [text]\n",
        "      unpack = True\n",
        "    else:\n",
        "      unpack = False\n",
        "    #logit = # TODO\n",
        "    tranformed_text = F.to_tensor(text_transform(text), padding_value=padding_idx)\n",
        "    logit = self.model(tranformed_text)\n",
        "    if prob:\n",
        "      # TODO\n",
        "      probs = torch.sigmoid(logit)\n",
        "      if unpack:\n",
        "        return probs[0,1].tolist()\n",
        "      else:\n",
        "        return probs[:,1].tolist()\n",
        "    else:\n",
        "      return bool(logit.argmax())\n",
        "\n",
        "sp = SentimentPredictor()"
      ]
    },
    {
      "cell_type": "code",
      "execution_count": 47,
      "metadata": {
        "colab": {
          "base_uri": "https://localhost:8080/",
          "height": 865
        },
        "id": "vJGRvGPg3qf3",
        "outputId": "fd039452-0898-43f0-9f9b-44c5c336ae96"
      },
      "outputs": [
        {
          "data": {
            "text/html": [
              "\n",
              "  <div id=\"df-9c54b3a7-8287-4999-b8a0-1a056c42d061\">\n",
              "    <div class=\"colab-df-container\">\n",
              "      <div>\n",
              "<style scoped>\n",
              "    .dataframe tbody tr th:only-of-type {\n",
              "        vertical-align: middle;\n",
              "    }\n",
              "\n",
              "    .dataframe tbody tr th {\n",
              "        vertical-align: top;\n",
              "    }\n",
              "\n",
              "    .dataframe thead th {\n",
              "        text-align: right;\n",
              "    }\n",
              "</style>\n",
              "<table border=\"1\" class=\"dataframe\">\n",
              "  <thead>\n",
              "    <tr style=\"text-align: right;\">\n",
              "      <th></th>\n",
              "      <th>text</th>\n",
              "      <th>probability</th>\n",
              "    </tr>\n",
              "  </thead>\n",
              "  <tbody>\n",
              "    <tr>\n",
              "      <th>0</th>\n",
              "      <td>Very well!</td>\n",
              "      <td>0.964126</td>\n",
              "    </tr>\n",
              "    <tr>\n",
              "      <th>1</th>\n",
              "      <td>Klasse Vorstellung.</td>\n",
              "      <td>0.963251</td>\n",
              "    </tr>\n",
              "    <tr>\n",
              "      <th>2</th>\n",
              "      <td>This is fantastic!</td>\n",
              "      <td>0.962042</td>\n",
              "    </tr>\n",
              "    <tr>\n",
              "      <th>3</th>\n",
              "      <td>Das ist gut!</td>\n",
              "      <td>0.960946</td>\n",
              "    </tr>\n",
              "    <tr>\n",
              "      <th>4</th>\n",
              "      <td>Ich finde das bemerkenswert.</td>\n",
              "      <td>0.956535</td>\n",
              "    </tr>\n",
              "    <tr>\n",
              "      <th>5</th>\n",
              "      <td>heureux</td>\n",
              "      <td>0.954454</td>\n",
              "    </tr>\n",
              "    <tr>\n",
              "      <th>6</th>\n",
              "      <td>heureuse</td>\n",
              "      <td>0.948938</td>\n",
              "    </tr>\n",
              "    <tr>\n",
              "      <th>7</th>\n",
              "      <td>content</td>\n",
              "      <td>0.908354</td>\n",
              "    </tr>\n",
              "    <tr>\n",
              "      <th>8</th>\n",
              "      <td>ravi</td>\n",
              "      <td>0.863248</td>\n",
              "    </tr>\n",
              "    <tr>\n",
              "      <th>9</th>\n",
              "      <td>Probably OK.</td>\n",
              "      <td>0.649099</td>\n",
              "    </tr>\n",
              "    <tr>\n",
              "      <th>10</th>\n",
              "      <td>inquiet</td>\n",
              "      <td>0.642628</td>\n",
              "    </tr>\n",
              "    <tr>\n",
              "      <th>11</th>\n",
              "      <td>pas triste</td>\n",
              "      <td>0.619478</td>\n",
              "    </tr>\n",
              "    <tr>\n",
              "      <th>12</th>\n",
              "      <td>énervé</td>\n",
              "      <td>0.614390</td>\n",
              "    </tr>\n",
              "    <tr>\n",
              "      <th>13</th>\n",
              "      <td>absolument pas triste</td>\n",
              "      <td>0.605150</td>\n",
              "    </tr>\n",
              "    <tr>\n",
              "      <th>14</th>\n",
              "      <td>pressé</td>\n",
              "      <td>0.515809</td>\n",
              "    </tr>\n",
              "    <tr>\n",
              "      <th>15</th>\n",
              "      <td>s’ennuyer</td>\n",
              "      <td>0.417425</td>\n",
              "    </tr>\n",
              "    <tr>\n",
              "      <th>16</th>\n",
              "      <td>navré</td>\n",
              "      <td>0.315861</td>\n",
              "    </tr>\n",
              "    <tr>\n",
              "      <th>17</th>\n",
              "      <td>fâché</td>\n",
              "      <td>0.229811</td>\n",
              "    </tr>\n",
              "    <tr>\n",
              "      <th>18</th>\n",
              "      <td>épuisé</td>\n",
              "      <td>0.223349</td>\n",
              "    </tr>\n",
              "    <tr>\n",
              "      <th>19</th>\n",
              "      <td>Lieber nicht anschauen.</td>\n",
              "      <td>0.219806</td>\n",
              "    </tr>\n",
              "    <tr>\n",
              "      <th>20</th>\n",
              "      <td>en colère</td>\n",
              "      <td>0.218933</td>\n",
              "    </tr>\n",
              "    <tr>\n",
              "      <th>21</th>\n",
              "      <td>inquiète</td>\n",
              "      <td>0.175700</td>\n",
              "    </tr>\n",
              "    <tr>\n",
              "      <th>22</th>\n",
              "      <td>occupé</td>\n",
              "      <td>0.157309</td>\n",
              "    </tr>\n",
              "    <tr>\n",
              "      <th>23</th>\n",
              "      <td>fatigué</td>\n",
              "      <td>0.141116</td>\n",
              "    </tr>\n",
              "    <tr>\n",
              "      <th>24</th>\n",
              "      <td>malade</td>\n",
              "      <td>0.137918</td>\n",
              "    </tr>\n",
              "    <tr>\n",
              "      <th>25</th>\n",
              "      <td>Not sure.</td>\n",
              "      <td>0.111504</td>\n",
              "    </tr>\n",
              "  </tbody>\n",
              "</table>\n",
              "</div>\n",
              "      <button class=\"colab-df-convert\" onclick=\"convertToInteractive('df-9c54b3a7-8287-4999-b8a0-1a056c42d061')\"\n",
              "              title=\"Convert this dataframe to an interactive table.\"\n",
              "              style=\"display:none;\">\n",
              "        \n",
              "  <svg xmlns=\"http://www.w3.org/2000/svg\" height=\"24px\"viewBox=\"0 0 24 24\"\n",
              "       width=\"24px\">\n",
              "    <path d=\"M0 0h24v24H0V0z\" fill=\"none\"/>\n",
              "    <path d=\"M18.56 5.44l.94 2.06.94-2.06 2.06-.94-2.06-.94-.94-2.06-.94 2.06-2.06.94zm-11 1L8.5 8.5l.94-2.06 2.06-.94-2.06-.94L8.5 2.5l-.94 2.06-2.06.94zm10 10l.94 2.06.94-2.06 2.06-.94-2.06-.94-.94-2.06-.94 2.06-2.06.94z\"/><path d=\"M17.41 7.96l-1.37-1.37c-.4-.4-.92-.59-1.43-.59-.52 0-1.04.2-1.43.59L10.3 9.45l-7.72 7.72c-.78.78-.78 2.05 0 2.83L4 21.41c.39.39.9.59 1.41.59.51 0 1.02-.2 1.41-.59l7.78-7.78 2.81-2.81c.8-.78.8-2.07 0-2.86zM5.41 20L4 18.59l7.72-7.72 1.47 1.35L5.41 20z\"/>\n",
              "  </svg>\n",
              "      </button>\n",
              "      \n",
              "  <style>\n",
              "    .colab-df-container {\n",
              "      display:flex;\n",
              "      flex-wrap:wrap;\n",
              "      gap: 12px;\n",
              "    }\n",
              "\n",
              "    .colab-df-convert {\n",
              "      background-color: #E8F0FE;\n",
              "      border: none;\n",
              "      border-radius: 50%;\n",
              "      cursor: pointer;\n",
              "      display: none;\n",
              "      fill: #1967D2;\n",
              "      height: 32px;\n",
              "      padding: 0 0 0 0;\n",
              "      width: 32px;\n",
              "    }\n",
              "\n",
              "    .colab-df-convert:hover {\n",
              "      background-color: #E2EBFA;\n",
              "      box-shadow: 0px 1px 2px rgba(60, 64, 67, 0.3), 0px 1px 3px 1px rgba(60, 64, 67, 0.15);\n",
              "      fill: #174EA6;\n",
              "    }\n",
              "\n",
              "    [theme=dark] .colab-df-convert {\n",
              "      background-color: #3B4455;\n",
              "      fill: #D2E3FC;\n",
              "    }\n",
              "\n",
              "    [theme=dark] .colab-df-convert:hover {\n",
              "      background-color: #434B5C;\n",
              "      box-shadow: 0px 1px 3px 1px rgba(0, 0, 0, 0.15);\n",
              "      filter: drop-shadow(0px 1px 2px rgba(0, 0, 0, 0.3));\n",
              "      fill: #FFFFFF;\n",
              "    }\n",
              "  </style>\n",
              "\n",
              "      <script>\n",
              "        const buttonEl =\n",
              "          document.querySelector('#df-9c54b3a7-8287-4999-b8a0-1a056c42d061 button.colab-df-convert');\n",
              "        buttonEl.style.display =\n",
              "          google.colab.kernel.accessAllowed ? 'block' : 'none';\n",
              "\n",
              "        async function convertToInteractive(key) {\n",
              "          const element = document.querySelector('#df-9c54b3a7-8287-4999-b8a0-1a056c42d061');\n",
              "          const dataTable =\n",
              "            await google.colab.kernel.invokeFunction('convertToInteractive',\n",
              "                                                     [key], {});\n",
              "          if (!dataTable) return;\n",
              "\n",
              "          const docLinkHtml = 'Like what you see? Visit the ' +\n",
              "            '<a target=\"_blank\" href=https://colab.research.google.com/notebooks/data_table.ipynb>data table notebook</a>'\n",
              "            + ' to learn more about interactive tables.';\n",
              "          element.innerHTML = '';\n",
              "          dataTable['output_type'] = 'display_data';\n",
              "          await google.colab.output.renderOutput(dataTable, element);\n",
              "          const docLink = document.createElement('div');\n",
              "          docLink.innerHTML = docLinkHtml;\n",
              "          element.appendChild(docLink);\n",
              "        }\n",
              "      </script>\n",
              "    </div>\n",
              "  </div>\n",
              "  "
            ],
            "text/plain": [
              "                            text  probability\n",
              "0                     Very well!     0.964126\n",
              "1            Klasse Vorstellung.     0.963251\n",
              "2             This is fantastic!     0.962042\n",
              "3                   Das ist gut!     0.960946\n",
              "4   Ich finde das bemerkenswert.     0.956535\n",
              "5                        heureux     0.954454\n",
              "6                       heureuse     0.948938\n",
              "7                        content     0.908354\n",
              "8                           ravi     0.863248\n",
              "9                   Probably OK.     0.649099\n",
              "10                       inquiet     0.642628\n",
              "11                    pas triste     0.619478\n",
              "12                        énervé     0.614390\n",
              "13         absolument pas triste     0.605150\n",
              "14                        pressé     0.515809\n",
              "15                     s’ennuyer     0.417425\n",
              "16                         navré     0.315861\n",
              "17                         fâché     0.229811\n",
              "18                        épuisé     0.223349\n",
              "19       Lieber nicht anschauen.     0.219806\n",
              "20                    en colère      0.218933\n",
              "21                      inquiète     0.175700\n",
              "22                        occupé     0.157309\n",
              "23                       fatigué     0.141116\n",
              "24                        malade     0.137918\n",
              "25                     Not sure.     0.111504"
            ]
          },
          "execution_count": 47,
          "metadata": {},
          "output_type": "execute_result"
        }
      ],
      "source": [
        "# TODO use sp(lines.split(\"\\n\")) for the above task\n",
        "text_lines = lines.split('\\n')\n",
        "text_to_probability = pd.DataFrame(zip(text_lines, sp(text_lines)), columns=['text', 'probability']) \\\n",
        "                        .sort_values('probability', ascending=False) \\\n",
        "                        .reset_index(drop=True)\n",
        "text_to_probability"
      ]
    },
    {
      "cell_type": "markdown",
      "metadata": {
        "id": "Abvc0OLQPAk9"
      },
      "source": [
        "Note, that the model was trained for a task in English, simply based on .tsv files with phrases and a class label.\n",
        "\n",
        "In the example above, we are using this same model to perform the trained task in other languages. Please add some words from other languages you may know. Do the model predictions make sense?"
      ]
    },
    {
      "cell_type": "code",
      "execution_count": 48,
      "metadata": {
        "colab": {
          "base_uri": "https://localhost:8080/"
        },
        "id": "ZGHZvDcFD4bV",
        "outputId": "fe3681ad-6719-40ab-9193-cb9b112e01fe"
      },
      "outputs": [
        {
          "name": "stdout",
          "output_type": "stream",
          "text": [
            "\"good\" in italian -  0.9295178651809692\n",
            "\"bad\" in russian -  0.2104811817407608\n",
            "\"peace\" in japaneese -  0.5999800562858582\n"
          ]
        }
      ],
      "source": [
        "print('\"good\" in italian - ', sp('bene'))\n",
        "print('\"bad\" in russian - ', sp('plokhoy'))\n",
        "print('\"peace\" in japaneese - ', sp('Heiwa'))"
      ]
    },
    {
      "cell_type": "markdown",
      "metadata": {
        "id": "1eYXOh_-xz3r"
      },
      "source": [
        "## Submission"
      ]
    },
    {
      "cell_type": "markdown",
      "metadata": {
        "id": "yrFzT7xXxz3r"
      },
      "source": [
        "Save [this notebook](A10.ipynb) containing all cell output and upload your submission as one `A10.ipynb` file.\n",
        "Also, include the screenshot of your tensorboard debugging session as `tensorboard.png`."
      ]
    }
  ],
  "metadata": {
    "accelerator": "GPU",
    "colab": {
      "provenance": []
    },
    "gpuClass": "standard",
    "kernelspec": {
      "display_name": "gt",
      "language": "python",
      "name": "gt"
    },
    "language_info": {
      "codemirror_mode": {
        "name": "ipython",
        "version": 3
      },
      "file_extension": ".py",
      "mimetype": "text/x-python",
      "name": "python",
      "nbconvert_exporter": "python",
      "pygments_lexer": "ipython3",
      "version": "3.10.10"
    },
    "vscode": {
      "interpreter": {
        "hash": "c303ecabf8da4a709e83d9af6d759e35c0471930da3605b5eebc92eb62465d0b"
      }
    },
    "widgets": {
      "application/vnd.jupyter.widget-state+json": {
        "0227ffdc1aad4f1ea54ae465f74ce1cf": {
          "model_module": "@jupyter-widgets/controls",
          "model_module_version": "1.5.0",
          "model_name": "HBoxModel",
          "state": {
            "_dom_classes": [],
            "_model_module": "@jupyter-widgets/controls",
            "_model_module_version": "1.5.0",
            "_model_name": "HBoxModel",
            "_view_count": null,
            "_view_module": "@jupyter-widgets/controls",
            "_view_module_version": "1.5.0",
            "_view_name": "HBoxView",
            "box_style": "",
            "children": [
              "IPY_MODEL_a7333777271b43968c1e487938fd56f4",
              "IPY_MODEL_3c11439088224e648b28939d5892e612",
              "IPY_MODEL_4e03d2ddbdd44dc5b397c5dad46b9fa5"
            ],
            "layout": "IPY_MODEL_97215a48b2534725932471519539d76f"
          }
        },
        "057c0e51c7cb49c090e4ed93fe46d0a5": {
          "model_module": "@jupyter-widgets/controls",
          "model_module_version": "1.5.0",
          "model_name": "ProgressStyleModel",
          "state": {
            "_model_module": "@jupyter-widgets/controls",
            "_model_module_version": "1.5.0",
            "_model_name": "ProgressStyleModel",
            "_view_count": null,
            "_view_module": "@jupyter-widgets/base",
            "_view_module_version": "1.2.0",
            "_view_name": "StyleView",
            "bar_color": null,
            "description_width": ""
          }
        },
        "0d3df9c4601c4d82bba21811e5c49791": {
          "model_module": "@jupyter-widgets/base",
          "model_module_version": "1.2.0",
          "model_name": "LayoutModel",
          "state": {
            "_model_module": "@jupyter-widgets/base",
            "_model_module_version": "1.2.0",
            "_model_name": "LayoutModel",
            "_view_count": null,
            "_view_module": "@jupyter-widgets/base",
            "_view_module_version": "1.2.0",
            "_view_name": "LayoutView",
            "align_content": null,
            "align_items": null,
            "align_self": null,
            "border": null,
            "bottom": null,
            "display": "inline-flex",
            "flex": null,
            "flex_flow": "row wrap",
            "grid_area": null,
            "grid_auto_columns": null,
            "grid_auto_flow": null,
            "grid_auto_rows": null,
            "grid_column": null,
            "grid_gap": null,
            "grid_row": null,
            "grid_template_areas": null,
            "grid_template_columns": null,
            "grid_template_rows": null,
            "height": null,
            "justify_content": null,
            "justify_items": null,
            "left": null,
            "margin": null,
            "max_height": null,
            "max_width": null,
            "min_height": null,
            "min_width": null,
            "object_fit": null,
            "object_position": null,
            "order": null,
            "overflow": null,
            "overflow_x": null,
            "overflow_y": null,
            "padding": null,
            "right": null,
            "top": null,
            "visibility": "hidden",
            "width": "100%"
          }
        },
        "120a5715649942aa941d43fdefe75de7": {
          "model_module": "@jupyter-widgets/base",
          "model_module_version": "1.2.0",
          "model_name": "LayoutModel",
          "state": {
            "_model_module": "@jupyter-widgets/base",
            "_model_module_version": "1.2.0",
            "_model_name": "LayoutModel",
            "_view_count": null,
            "_view_module": "@jupyter-widgets/base",
            "_view_module_version": "1.2.0",
            "_view_name": "LayoutView",
            "align_content": null,
            "align_items": null,
            "align_self": null,
            "border": null,
            "bottom": null,
            "display": null,
            "flex": null,
            "flex_flow": null,
            "grid_area": null,
            "grid_auto_columns": null,
            "grid_auto_flow": null,
            "grid_auto_rows": null,
            "grid_column": null,
            "grid_gap": null,
            "grid_row": null,
            "grid_template_areas": null,
            "grid_template_columns": null,
            "grid_template_rows": null,
            "height": null,
            "justify_content": null,
            "justify_items": null,
            "left": null,
            "margin": null,
            "max_height": null,
            "max_width": null,
            "min_height": null,
            "min_width": null,
            "object_fit": null,
            "object_position": null,
            "order": null,
            "overflow": null,
            "overflow_x": null,
            "overflow_y": null,
            "padding": null,
            "right": null,
            "top": null,
            "visibility": null,
            "width": null
          }
        },
        "19f6e70b2e574ed7bf77d6a42f27c400": {
          "model_module": "@jupyter-widgets/controls",
          "model_module_version": "1.5.0",
          "model_name": "DescriptionStyleModel",
          "state": {
            "_model_module": "@jupyter-widgets/controls",
            "_model_module_version": "1.5.0",
            "_model_name": "DescriptionStyleModel",
            "_view_count": null,
            "_view_module": "@jupyter-widgets/base",
            "_view_module_version": "1.2.0",
            "_view_name": "StyleView",
            "description_width": ""
          }
        },
        "20dc061506274e808fb09cb48465e07c": {
          "model_module": "@jupyter-widgets/controls",
          "model_module_version": "1.5.0",
          "model_name": "DescriptionStyleModel",
          "state": {
            "_model_module": "@jupyter-widgets/controls",
            "_model_module_version": "1.5.0",
            "_model_name": "DescriptionStyleModel",
            "_view_count": null,
            "_view_module": "@jupyter-widgets/base",
            "_view_module_version": "1.2.0",
            "_view_name": "StyleView",
            "description_width": ""
          }
        },
        "232494b7400a4b1fb8d3a5e1b5f33bd2": {
          "model_module": "@jupyter-widgets/controls",
          "model_module_version": "1.5.0",
          "model_name": "ProgressStyleModel",
          "state": {
            "_model_module": "@jupyter-widgets/controls",
            "_model_module_version": "1.5.0",
            "_model_name": "ProgressStyleModel",
            "_view_count": null,
            "_view_module": "@jupyter-widgets/base",
            "_view_module_version": "1.2.0",
            "_view_name": "StyleView",
            "bar_color": null,
            "description_width": ""
          }
        },
        "2722eeeb63864061a1a78e605cf5064f": {
          "model_module": "@jupyter-widgets/base",
          "model_module_version": "1.2.0",
          "model_name": "LayoutModel",
          "state": {
            "_model_module": "@jupyter-widgets/base",
            "_model_module_version": "1.2.0",
            "_model_name": "LayoutModel",
            "_view_count": null,
            "_view_module": "@jupyter-widgets/base",
            "_view_module_version": "1.2.0",
            "_view_name": "LayoutView",
            "align_content": null,
            "align_items": null,
            "align_self": null,
            "border": null,
            "bottom": null,
            "display": null,
            "flex": null,
            "flex_flow": null,
            "grid_area": null,
            "grid_auto_columns": null,
            "grid_auto_flow": null,
            "grid_auto_rows": null,
            "grid_column": null,
            "grid_gap": null,
            "grid_row": null,
            "grid_template_areas": null,
            "grid_template_columns": null,
            "grid_template_rows": null,
            "height": null,
            "justify_content": null,
            "justify_items": null,
            "left": null,
            "margin": null,
            "max_height": null,
            "max_width": null,
            "min_height": null,
            "min_width": null,
            "object_fit": null,
            "object_position": null,
            "order": null,
            "overflow": null,
            "overflow_x": null,
            "overflow_y": null,
            "padding": null,
            "right": null,
            "top": null,
            "visibility": null,
            "width": null
          }
        },
        "277203b5b0ba43a3b5e0a3473e5f7694": {
          "model_module": "@jupyter-widgets/base",
          "model_module_version": "1.2.0",
          "model_name": "LayoutModel",
          "state": {
            "_model_module": "@jupyter-widgets/base",
            "_model_module_version": "1.2.0",
            "_model_name": "LayoutModel",
            "_view_count": null,
            "_view_module": "@jupyter-widgets/base",
            "_view_module_version": "1.2.0",
            "_view_name": "LayoutView",
            "align_content": null,
            "align_items": null,
            "align_self": null,
            "border": null,
            "bottom": null,
            "display": null,
            "flex": null,
            "flex_flow": null,
            "grid_area": null,
            "grid_auto_columns": null,
            "grid_auto_flow": null,
            "grid_auto_rows": null,
            "grid_column": null,
            "grid_gap": null,
            "grid_row": null,
            "grid_template_areas": null,
            "grid_template_columns": null,
            "grid_template_rows": null,
            "height": null,
            "justify_content": null,
            "justify_items": null,
            "left": null,
            "margin": null,
            "max_height": null,
            "max_width": null,
            "min_height": null,
            "min_width": null,
            "object_fit": null,
            "object_position": null,
            "order": null,
            "overflow": null,
            "overflow_x": null,
            "overflow_y": null,
            "padding": null,
            "right": null,
            "top": null,
            "visibility": null,
            "width": null
          }
        },
        "2e6b245828bc49b598afe92848ec6886": {
          "model_module": "@jupyter-widgets/controls",
          "model_module_version": "1.5.0",
          "model_name": "FloatProgressModel",
          "state": {
            "_dom_classes": [],
            "_model_module": "@jupyter-widgets/controls",
            "_model_module_version": "1.5.0",
            "_model_name": "FloatProgressModel",
            "_view_count": null,
            "_view_module": "@jupyter-widgets/controls",
            "_view_module_version": "1.5.0",
            "_view_name": "ProgressView",
            "bar_style": "success",
            "description": "",
            "description_tooltip": null,
            "layout": "IPY_MODEL_6e239e7782cd4aeb9d4248d93d0b26b8",
            "max": 527,
            "min": 0,
            "orientation": "horizontal",
            "style": "IPY_MODEL_59e7504f36a54bd3aface1ed3375bf9a",
            "value": 527
          }
        },
        "38b9c16c13aa4e808f510eef8e3f60ff": {
          "model_module": "@jupyter-widgets/controls",
          "model_module_version": "1.5.0",
          "model_name": "HTMLModel",
          "state": {
            "_dom_classes": [],
            "_model_module": "@jupyter-widgets/controls",
            "_model_module_version": "1.5.0",
            "_model_name": "HTMLModel",
            "_view_count": null,
            "_view_module": "@jupyter-widgets/controls",
            "_view_module_version": "1.5.0",
            "_view_name": "HTMLView",
            "description": "",
            "description_tooltip": null,
            "layout": "IPY_MODEL_120a5715649942aa941d43fdefe75de7",
            "placeholder": "​",
            "style": "IPY_MODEL_7aca13d45d1d439e9137b6b1eda0c2cc",
            "value": " 2/2 [00:00&lt;00:00,  3.92it/s]"
          }
        },
        "3c11439088224e648b28939d5892e612": {
          "model_module": "@jupyter-widgets/controls",
          "model_module_version": "1.5.0",
          "model_name": "FloatProgressModel",
          "state": {
            "_dom_classes": [],
            "_model_module": "@jupyter-widgets/controls",
            "_model_module_version": "1.5.0",
            "_model_name": "FloatProgressModel",
            "_view_count": null,
            "_view_module": "@jupyter-widgets/controls",
            "_view_module_version": "1.5.0",
            "_view_name": "ProgressView",
            "bar_style": "",
            "description": "",
            "description_tooltip": null,
            "layout": "IPY_MODEL_ed0c432a358c42c39ba0b6b4c7f327e2",
            "max": 7,
            "min": 0,
            "orientation": "horizontal",
            "style": "IPY_MODEL_232494b7400a4b1fb8d3a5e1b5f33bd2",
            "value": 7
          }
        },
        "42239fb86d994cb98f102403dc72d13e": {
          "model_module": "@jupyter-widgets/controls",
          "model_module_version": "1.5.0",
          "model_name": "HBoxModel",
          "state": {
            "_dom_classes": [],
            "_model_module": "@jupyter-widgets/controls",
            "_model_module_version": "1.5.0",
            "_model_name": "HBoxModel",
            "_view_count": null,
            "_view_module": "@jupyter-widgets/controls",
            "_view_module_version": "1.5.0",
            "_view_name": "HBoxView",
            "box_style": "",
            "children": [
              "IPY_MODEL_49c6f19d236d42a29ce1bbbff9caa9ff",
              "IPY_MODEL_cccf5fe243ad4281aa121a3f2dcbb826",
              "IPY_MODEL_38b9c16c13aa4e808f510eef8e3f60ff"
            ],
            "layout": "IPY_MODEL_0d3df9c4601c4d82bba21811e5c49791"
          }
        },
        "448bebb2e123430badd13f63f6ee6ee1": {
          "model_module": "@jupyter-widgets/base",
          "model_module_version": "1.2.0",
          "model_name": "LayoutModel",
          "state": {
            "_model_module": "@jupyter-widgets/base",
            "_model_module_version": "1.2.0",
            "_model_name": "LayoutModel",
            "_view_count": null,
            "_view_module": "@jupyter-widgets/base",
            "_view_module_version": "1.2.0",
            "_view_name": "LayoutView",
            "align_content": null,
            "align_items": null,
            "align_self": null,
            "border": null,
            "bottom": null,
            "display": "inline-flex",
            "flex": null,
            "flex_flow": "row wrap",
            "grid_area": null,
            "grid_auto_columns": null,
            "grid_auto_flow": null,
            "grid_auto_rows": null,
            "grid_column": null,
            "grid_gap": null,
            "grid_row": null,
            "grid_template_areas": null,
            "grid_template_columns": null,
            "grid_template_rows": null,
            "height": null,
            "justify_content": null,
            "justify_items": null,
            "left": null,
            "margin": null,
            "max_height": null,
            "max_width": null,
            "min_height": null,
            "min_width": null,
            "object_fit": null,
            "object_position": null,
            "order": null,
            "overflow": null,
            "overflow_x": null,
            "overflow_y": null,
            "padding": null,
            "right": null,
            "top": null,
            "visibility": null,
            "width": "100%"
          }
        },
        "49c6f19d236d42a29ce1bbbff9caa9ff": {
          "model_module": "@jupyter-widgets/controls",
          "model_module_version": "1.5.0",
          "model_name": "HTMLModel",
          "state": {
            "_dom_classes": [],
            "_model_module": "@jupyter-widgets/controls",
            "_model_module_version": "1.5.0",
            "_model_name": "HTMLModel",
            "_view_count": null,
            "_view_module": "@jupyter-widgets/controls",
            "_view_module_version": "1.5.0",
            "_view_name": "HTMLView",
            "description": "",
            "description_tooltip": null,
            "layout": "IPY_MODEL_f7d1b94b7f3c449fbe7af08cd4e59cf8",
            "placeholder": "​",
            "style": "IPY_MODEL_19f6e70b2e574ed7bf77d6a42f27c400",
            "value": "Sanity Checking DataLoader 0: 100%"
          }
        },
        "4e03d2ddbdd44dc5b397c5dad46b9fa5": {
          "model_module": "@jupyter-widgets/controls",
          "model_module_version": "1.5.0",
          "model_name": "HTMLModel",
          "state": {
            "_dom_classes": [],
            "_model_module": "@jupyter-widgets/controls",
            "_model_module_version": "1.5.0",
            "_model_name": "HTMLModel",
            "_view_count": null,
            "_view_module": "@jupyter-widgets/controls",
            "_view_module_version": "1.5.0",
            "_view_name": "HTMLView",
            "description": "",
            "description_tooltip": null,
            "layout": "IPY_MODEL_2722eeeb63864061a1a78e605cf5064f",
            "placeholder": "​",
            "style": "IPY_MODEL_20dc061506274e808fb09cb48465e07c",
            "value": " 7/7 [00:01&lt;00:00,  4.02it/s]"
          }
        },
        "59e7504f36a54bd3aface1ed3375bf9a": {
          "model_module": "@jupyter-widgets/controls",
          "model_module_version": "1.5.0",
          "model_name": "ProgressStyleModel",
          "state": {
            "_model_module": "@jupyter-widgets/controls",
            "_model_module_version": "1.5.0",
            "_model_name": "ProgressStyleModel",
            "_view_count": null,
            "_view_module": "@jupyter-widgets/base",
            "_view_module_version": "1.2.0",
            "_view_name": "StyleView",
            "bar_color": null,
            "description_width": ""
          }
        },
        "5af73ad8b905458e98cd18343d1188e7": {
          "model_module": "@jupyter-widgets/base",
          "model_module_version": "1.2.0",
          "model_name": "LayoutModel",
          "state": {
            "_model_module": "@jupyter-widgets/base",
            "_model_module_version": "1.2.0",
            "_model_name": "LayoutModel",
            "_view_count": null,
            "_view_module": "@jupyter-widgets/base",
            "_view_module_version": "1.2.0",
            "_view_name": "LayoutView",
            "align_content": null,
            "align_items": null,
            "align_self": null,
            "border": null,
            "bottom": null,
            "display": null,
            "flex": null,
            "flex_flow": null,
            "grid_area": null,
            "grid_auto_columns": null,
            "grid_auto_flow": null,
            "grid_auto_rows": null,
            "grid_column": null,
            "grid_gap": null,
            "grid_row": null,
            "grid_template_areas": null,
            "grid_template_columns": null,
            "grid_template_rows": null,
            "height": null,
            "justify_content": null,
            "justify_items": null,
            "left": null,
            "margin": null,
            "max_height": null,
            "max_width": null,
            "min_height": null,
            "min_width": null,
            "object_fit": null,
            "object_position": null,
            "order": null,
            "overflow": null,
            "overflow_x": null,
            "overflow_y": null,
            "padding": null,
            "right": null,
            "top": null,
            "visibility": null,
            "width": null
          }
        },
        "5b56f161a287420c9626b70d3f0175c2": {
          "model_module": "@jupyter-widgets/base",
          "model_module_version": "1.2.0",
          "model_name": "LayoutModel",
          "state": {
            "_model_module": "@jupyter-widgets/base",
            "_model_module_version": "1.2.0",
            "_model_name": "LayoutModel",
            "_view_count": null,
            "_view_module": "@jupyter-widgets/base",
            "_view_module_version": "1.2.0",
            "_view_name": "LayoutView",
            "align_content": null,
            "align_items": null,
            "align_self": null,
            "border": null,
            "bottom": null,
            "display": null,
            "flex": null,
            "flex_flow": null,
            "grid_area": null,
            "grid_auto_columns": null,
            "grid_auto_flow": null,
            "grid_auto_rows": null,
            "grid_column": null,
            "grid_gap": null,
            "grid_row": null,
            "grid_template_areas": null,
            "grid_template_columns": null,
            "grid_template_rows": null,
            "height": null,
            "justify_content": null,
            "justify_items": null,
            "left": null,
            "margin": null,
            "max_height": null,
            "max_width": null,
            "min_height": null,
            "min_width": null,
            "object_fit": null,
            "object_position": null,
            "order": null,
            "overflow": null,
            "overflow_x": null,
            "overflow_y": null,
            "padding": null,
            "right": null,
            "top": null,
            "visibility": null,
            "width": null
          }
        },
        "6e239e7782cd4aeb9d4248d93d0b26b8": {
          "model_module": "@jupyter-widgets/base",
          "model_module_version": "1.2.0",
          "model_name": "LayoutModel",
          "state": {
            "_model_module": "@jupyter-widgets/base",
            "_model_module_version": "1.2.0",
            "_model_name": "LayoutModel",
            "_view_count": null,
            "_view_module": "@jupyter-widgets/base",
            "_view_module_version": "1.2.0",
            "_view_name": "LayoutView",
            "align_content": null,
            "align_items": null,
            "align_self": null,
            "border": null,
            "bottom": null,
            "display": null,
            "flex": "2",
            "flex_flow": null,
            "grid_area": null,
            "grid_auto_columns": null,
            "grid_auto_flow": null,
            "grid_auto_rows": null,
            "grid_column": null,
            "grid_gap": null,
            "grid_row": null,
            "grid_template_areas": null,
            "grid_template_columns": null,
            "grid_template_rows": null,
            "height": null,
            "justify_content": null,
            "justify_items": null,
            "left": null,
            "margin": null,
            "max_height": null,
            "max_width": null,
            "min_height": null,
            "min_width": null,
            "object_fit": null,
            "object_position": null,
            "order": null,
            "overflow": null,
            "overflow_x": null,
            "overflow_y": null,
            "padding": null,
            "right": null,
            "top": null,
            "visibility": null,
            "width": null
          }
        },
        "7aca13d45d1d439e9137b6b1eda0c2cc": {
          "model_module": "@jupyter-widgets/controls",
          "model_module_version": "1.5.0",
          "model_name": "DescriptionStyleModel",
          "state": {
            "_model_module": "@jupyter-widgets/controls",
            "_model_module_version": "1.5.0",
            "_model_name": "DescriptionStyleModel",
            "_view_count": null,
            "_view_module": "@jupyter-widgets/base",
            "_view_module_version": "1.2.0",
            "_view_name": "StyleView",
            "description_width": ""
          }
        },
        "8036832a93494080864d67ba182f7177": {
          "model_module": "@jupyter-widgets/controls",
          "model_module_version": "1.5.0",
          "model_name": "HTMLModel",
          "state": {
            "_dom_classes": [],
            "_model_module": "@jupyter-widgets/controls",
            "_model_module_version": "1.5.0",
            "_model_name": "HTMLModel",
            "_view_count": null,
            "_view_module": "@jupyter-widgets/controls",
            "_view_module_version": "1.5.0",
            "_view_name": "HTMLView",
            "description": "",
            "description_tooltip": null,
            "layout": "IPY_MODEL_5af73ad8b905458e98cd18343d1188e7",
            "placeholder": "​",
            "style": "IPY_MODEL_ddca81003cad4848b80d6ff7861482fd",
            "value": "Epoch 0: 100%"
          }
        },
        "83cf2e3823a34f7eb3008b956b7dbb5d": {
          "model_module": "@jupyter-widgets/controls",
          "model_module_version": "1.5.0",
          "model_name": "HBoxModel",
          "state": {
            "_dom_classes": [],
            "_model_module": "@jupyter-widgets/controls",
            "_model_module_version": "1.5.0",
            "_model_name": "HBoxModel",
            "_view_count": null,
            "_view_module": "@jupyter-widgets/controls",
            "_view_module_version": "1.5.0",
            "_view_name": "HBoxView",
            "box_style": "",
            "children": [
              "IPY_MODEL_8036832a93494080864d67ba182f7177",
              "IPY_MODEL_2e6b245828bc49b598afe92848ec6886",
              "IPY_MODEL_8ed0e0937ebb43ccae373838c5c8f020"
            ],
            "layout": "IPY_MODEL_448bebb2e123430badd13f63f6ee6ee1"
          }
        },
        "8ed0e0937ebb43ccae373838c5c8f020": {
          "model_module": "@jupyter-widgets/controls",
          "model_module_version": "1.5.0",
          "model_name": "HTMLModel",
          "state": {
            "_dom_classes": [],
            "_model_module": "@jupyter-widgets/controls",
            "_model_module_version": "1.5.0",
            "_model_name": "HTMLModel",
            "_view_count": null,
            "_view_module": "@jupyter-widgets/controls",
            "_view_module_version": "1.5.0",
            "_view_name": "HTMLView",
            "description": "",
            "description_tooltip": null,
            "layout": "IPY_MODEL_5b56f161a287420c9626b70d3f0175c2",
            "placeholder": "​",
            "style": "IPY_MODEL_8ff43b154f824c8db2cb3d1bc199ff79",
            "value": " 527/527 [11:36&lt;00:00,  1.32s/it, v_num=1, train_loss=0.216, train_accuracy=0.857, val_loss=0.255, val_accuracy=0.906]"
          }
        },
        "8f24aabc513649678eeff0256313a694": {
          "model_module": "@jupyter-widgets/base",
          "model_module_version": "1.2.0",
          "model_name": "LayoutModel",
          "state": {
            "_model_module": "@jupyter-widgets/base",
            "_model_module_version": "1.2.0",
            "_model_name": "LayoutModel",
            "_view_count": null,
            "_view_module": "@jupyter-widgets/base",
            "_view_module_version": "1.2.0",
            "_view_name": "LayoutView",
            "align_content": null,
            "align_items": null,
            "align_self": null,
            "border": null,
            "bottom": null,
            "display": null,
            "flex": "2",
            "flex_flow": null,
            "grid_area": null,
            "grid_auto_columns": null,
            "grid_auto_flow": null,
            "grid_auto_rows": null,
            "grid_column": null,
            "grid_gap": null,
            "grid_row": null,
            "grid_template_areas": null,
            "grid_template_columns": null,
            "grid_template_rows": null,
            "height": null,
            "justify_content": null,
            "justify_items": null,
            "left": null,
            "margin": null,
            "max_height": null,
            "max_width": null,
            "min_height": null,
            "min_width": null,
            "object_fit": null,
            "object_position": null,
            "order": null,
            "overflow": null,
            "overflow_x": null,
            "overflow_y": null,
            "padding": null,
            "right": null,
            "top": null,
            "visibility": null,
            "width": null
          }
        },
        "8ff43b154f824c8db2cb3d1bc199ff79": {
          "model_module": "@jupyter-widgets/controls",
          "model_module_version": "1.5.0",
          "model_name": "DescriptionStyleModel",
          "state": {
            "_model_module": "@jupyter-widgets/controls",
            "_model_module_version": "1.5.0",
            "_model_name": "DescriptionStyleModel",
            "_view_count": null,
            "_view_module": "@jupyter-widgets/base",
            "_view_module_version": "1.2.0",
            "_view_name": "StyleView",
            "description_width": ""
          }
        },
        "97215a48b2534725932471519539d76f": {
          "model_module": "@jupyter-widgets/base",
          "model_module_version": "1.2.0",
          "model_name": "LayoutModel",
          "state": {
            "_model_module": "@jupyter-widgets/base",
            "_model_module_version": "1.2.0",
            "_model_name": "LayoutModel",
            "_view_count": null,
            "_view_module": "@jupyter-widgets/base",
            "_view_module_version": "1.2.0",
            "_view_name": "LayoutView",
            "align_content": null,
            "align_items": null,
            "align_self": null,
            "border": null,
            "bottom": null,
            "display": "inline-flex",
            "flex": null,
            "flex_flow": "row wrap",
            "grid_area": null,
            "grid_auto_columns": null,
            "grid_auto_flow": null,
            "grid_auto_rows": null,
            "grid_column": null,
            "grid_gap": null,
            "grid_row": null,
            "grid_template_areas": null,
            "grid_template_columns": null,
            "grid_template_rows": null,
            "height": null,
            "justify_content": null,
            "justify_items": null,
            "left": null,
            "margin": null,
            "max_height": null,
            "max_width": null,
            "min_height": null,
            "min_width": null,
            "object_fit": null,
            "object_position": null,
            "order": null,
            "overflow": null,
            "overflow_x": null,
            "overflow_y": null,
            "padding": null,
            "right": null,
            "top": null,
            "visibility": "hidden",
            "width": "100%"
          }
        },
        "9c3dc39688894489955df2f18b3b3d72": {
          "model_module": "@jupyter-widgets/controls",
          "model_module_version": "1.5.0",
          "model_name": "DescriptionStyleModel",
          "state": {
            "_model_module": "@jupyter-widgets/controls",
            "_model_module_version": "1.5.0",
            "_model_name": "DescriptionStyleModel",
            "_view_count": null,
            "_view_module": "@jupyter-widgets/base",
            "_view_module_version": "1.2.0",
            "_view_name": "StyleView",
            "description_width": ""
          }
        },
        "a7333777271b43968c1e487938fd56f4": {
          "model_module": "@jupyter-widgets/controls",
          "model_module_version": "1.5.0",
          "model_name": "HTMLModel",
          "state": {
            "_dom_classes": [],
            "_model_module": "@jupyter-widgets/controls",
            "_model_module_version": "1.5.0",
            "_model_name": "HTMLModel",
            "_view_count": null,
            "_view_module": "@jupyter-widgets/controls",
            "_view_module_version": "1.5.0",
            "_view_name": "HTMLView",
            "description": "",
            "description_tooltip": null,
            "layout": "IPY_MODEL_277203b5b0ba43a3b5e0a3473e5f7694",
            "placeholder": "​",
            "style": "IPY_MODEL_9c3dc39688894489955df2f18b3b3d72",
            "value": "Validation DataLoader 0: 100%"
          }
        },
        "cccf5fe243ad4281aa121a3f2dcbb826": {
          "model_module": "@jupyter-widgets/controls",
          "model_module_version": "1.5.0",
          "model_name": "FloatProgressModel",
          "state": {
            "_dom_classes": [],
            "_model_module": "@jupyter-widgets/controls",
            "_model_module_version": "1.5.0",
            "_model_name": "FloatProgressModel",
            "_view_count": null,
            "_view_module": "@jupyter-widgets/controls",
            "_view_module_version": "1.5.0",
            "_view_name": "ProgressView",
            "bar_style": "",
            "description": "",
            "description_tooltip": null,
            "layout": "IPY_MODEL_8f24aabc513649678eeff0256313a694",
            "max": 2,
            "min": 0,
            "orientation": "horizontal",
            "style": "IPY_MODEL_057c0e51c7cb49c090e4ed93fe46d0a5",
            "value": 2
          }
        },
        "ddca81003cad4848b80d6ff7861482fd": {
          "model_module": "@jupyter-widgets/controls",
          "model_module_version": "1.5.0",
          "model_name": "DescriptionStyleModel",
          "state": {
            "_model_module": "@jupyter-widgets/controls",
            "_model_module_version": "1.5.0",
            "_model_name": "DescriptionStyleModel",
            "_view_count": null,
            "_view_module": "@jupyter-widgets/base",
            "_view_module_version": "1.2.0",
            "_view_name": "StyleView",
            "description_width": ""
          }
        },
        "ed0c432a358c42c39ba0b6b4c7f327e2": {
          "model_module": "@jupyter-widgets/base",
          "model_module_version": "1.2.0",
          "model_name": "LayoutModel",
          "state": {
            "_model_module": "@jupyter-widgets/base",
            "_model_module_version": "1.2.0",
            "_model_name": "LayoutModel",
            "_view_count": null,
            "_view_module": "@jupyter-widgets/base",
            "_view_module_version": "1.2.0",
            "_view_name": "LayoutView",
            "align_content": null,
            "align_items": null,
            "align_self": null,
            "border": null,
            "bottom": null,
            "display": null,
            "flex": "2",
            "flex_flow": null,
            "grid_area": null,
            "grid_auto_columns": null,
            "grid_auto_flow": null,
            "grid_auto_rows": null,
            "grid_column": null,
            "grid_gap": null,
            "grid_row": null,
            "grid_template_areas": null,
            "grid_template_columns": null,
            "grid_template_rows": null,
            "height": null,
            "justify_content": null,
            "justify_items": null,
            "left": null,
            "margin": null,
            "max_height": null,
            "max_width": null,
            "min_height": null,
            "min_width": null,
            "object_fit": null,
            "object_position": null,
            "order": null,
            "overflow": null,
            "overflow_x": null,
            "overflow_y": null,
            "padding": null,
            "right": null,
            "top": null,
            "visibility": null,
            "width": null
          }
        },
        "f7d1b94b7f3c449fbe7af08cd4e59cf8": {
          "model_module": "@jupyter-widgets/base",
          "model_module_version": "1.2.0",
          "model_name": "LayoutModel",
          "state": {
            "_model_module": "@jupyter-widgets/base",
            "_model_module_version": "1.2.0",
            "_model_name": "LayoutModel",
            "_view_count": null,
            "_view_module": "@jupyter-widgets/base",
            "_view_module_version": "1.2.0",
            "_view_name": "LayoutView",
            "align_content": null,
            "align_items": null,
            "align_self": null,
            "border": null,
            "bottom": null,
            "display": null,
            "flex": null,
            "flex_flow": null,
            "grid_area": null,
            "grid_auto_columns": null,
            "grid_auto_flow": null,
            "grid_auto_rows": null,
            "grid_column": null,
            "grid_gap": null,
            "grid_row": null,
            "grid_template_areas": null,
            "grid_template_columns": null,
            "grid_template_rows": null,
            "height": null,
            "justify_content": null,
            "justify_items": null,
            "left": null,
            "margin": null,
            "max_height": null,
            "max_width": null,
            "min_height": null,
            "min_width": null,
            "object_fit": null,
            "object_position": null,
            "order": null,
            "overflow": null,
            "overflow_x": null,
            "overflow_y": null,
            "padding": null,
            "right": null,
            "top": null,
            "visibility": null,
            "width": null
          }
        }
      }
    }
  },
  "nbformat": 4,
  "nbformat_minor": 0
}
