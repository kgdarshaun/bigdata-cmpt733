{
 "cells": [
  {
   "cell_type": "markdown",
   "metadata": {},
   "source": [
    "# Assignment 4: Correlation Analysis and Bootstrapping"
   ]
  },
  {
   "cell_type": "markdown",
   "metadata": {},
   "source": [
    "## Objective"
   ]
  },
  {
   "cell_type": "markdown",
   "metadata": {},
   "source": [
    "The field of statistics is divided into two major parts: descriptive and inferential. In this assignment, we will cover two important topics in statistics: correlation analysis and bootstrapping, where the former belongs to the descriptive part and the latter belongs to the inferential part. After this assignment, you will be able to answer the following questions:\n",
    "\n",
    "1. How to visualize the relationship between two variables?  \n",
    "2. What is Pearson's correlation? How to compute it?\n",
    "3. What is Spearman's rank correlation? How to compute it?\n",
    "4. What's the difference between Pearson's correlation and Spearman's rank correlation? \n",
    "5. How to estimate a population parameter based on a sample?\n",
    "6. How to use the bootstrap to quantify the uncertainty of an estimated value?\n",
    "\n",
    "**Requirements:**\n",
    "* Use [pandas](https://pandas.pydata.org/) to manipulate data.\n",
    "* Use [matplotlib](https://matplotlib.org/) or [seaborn](https://seaborn.pydata.org) to make plots.\n",
    "* Please pay attention to visualization principles. \n",
    "\n",
    "\n",
    "The data can be downloaded from [A4-data.zip](A4-data.zip).\n"
   ]
  },
  {
   "cell_type": "markdown",
   "metadata": {},
   "source": [
    "## Part 1. Correlation Analysis"
   ]
  },
  {
   "cell_type": "markdown",
   "metadata": {},
   "source": [
    "As a data scientist, you often face this kind of question: \"Are A and B correlated?\" For example, \n",
    "\n",
    "* Do Canadian Currency and Oil Price move together?\n",
    "* Do Vancouver Housing Price and US Stock Market have any correlation?\n",
    "* Are GPA and Gender independent? \n",
    "\n",
    "To answer these questions, you need to conduct a correlation analysis. \n",
    "\n",
    "Imagine you are a data scientist working at a real-estate company. You download a property_tax_report from this [webpage](https://opendata.vancouver.ca/explore/dataset/property-tax-report/table/?refine.report_year=2021). The dataset contains information on properties from BC Assessment (BCA) and City sources in 2021.  \n",
    "\n",
    "You may think that for a newly built house, it tends to have a higher price than the ones built decades ago. In this assignment, your first job is to figure out whether YEAR_BUILT and HOUSE_PRICE are correlated. "
   ]
  },
  {
   "cell_type": "markdown",
   "metadata": {},
   "source": [
    "We first load the data as a DataFrame. "
   ]
  },
  {
   "cell_type": "code",
   "execution_count": 63,
   "metadata": {},
   "outputs": [],
   "source": [
    "import pandas as pd\n",
    "\n",
    "df = pd.read_csv(\"property-tax-report_2021.csv\", sep=';')\n",
    "\n",
    "\n",
    "df['HOUSE_PRICE'] = df.apply(lambda x: (x['CURRENT_LAND_VALUE'] \\\n",
    "                                        +x['CURRENT_IMPROVEMENT_VALUE'])/1000000.0, axis = 1)"
   ]
  },
  {
   "cell_type": "code",
   "execution_count": 65,
   "metadata": {},
   "outputs": [
    {
     "data": {
      "text/html": [
       "<div>\n",
       "<style scoped>\n",
       "    .dataframe tbody tr th:only-of-type {\n",
       "        vertical-align: middle;\n",
       "    }\n",
       "\n",
       "    .dataframe tbody tr th {\n",
       "        vertical-align: top;\n",
       "    }\n",
       "\n",
       "    .dataframe thead th {\n",
       "        text-align: right;\n",
       "    }\n",
       "</style>\n",
       "<table border=\"1\" class=\"dataframe\">\n",
       "  <thead>\n",
       "    <tr style=\"text-align: right;\">\n",
       "      <th></th>\n",
       "      <th>PID</th>\n",
       "      <th>LEGAL_TYPE</th>\n",
       "      <th>FOLIO</th>\n",
       "      <th>LAND_COORDINATE</th>\n",
       "      <th>ZONING_DISTRICT</th>\n",
       "      <th>ZONING_CLASSIFICATION</th>\n",
       "      <th>LOT</th>\n",
       "      <th>PLAN</th>\n",
       "      <th>BLOCK</th>\n",
       "      <th>DISTRICT_LOT</th>\n",
       "      <th>...</th>\n",
       "      <th>CURRENT_IMPROVEMENT_VALUE</th>\n",
       "      <th>TAX_ASSESSMENT_YEAR</th>\n",
       "      <th>PREVIOUS_LAND_VALUE</th>\n",
       "      <th>PREVIOUS_IMPROVEMENT_VALUE</th>\n",
       "      <th>YEAR_BUILT</th>\n",
       "      <th>BIG_IMPROVEMENT_YEAR</th>\n",
       "      <th>TAX_LEVY</th>\n",
       "      <th>NEIGHBOURHOOD_CODE</th>\n",
       "      <th>REPORT_YEAR</th>\n",
       "      <th>HOUSE_PRICE</th>\n",
       "    </tr>\n",
       "  </thead>\n",
       "  <tbody>\n",
       "    <tr>\n",
       "      <th>0</th>\n",
       "      <td>006-871-534</td>\n",
       "      <td>LAND</td>\n",
       "      <td>698277050000</td>\n",
       "      <td>69827705</td>\n",
       "      <td>RS-1</td>\n",
       "      <td>One-Family Dwelling</td>\n",
       "      <td>31</td>\n",
       "      <td>VAP11660</td>\n",
       "      <td>J</td>\n",
       "      <td>THSL</td>\n",
       "      <td>...</td>\n",
       "      <td>31600.0</td>\n",
       "      <td>2021.0</td>\n",
       "      <td>1101000.0</td>\n",
       "      <td>31000.0</td>\n",
       "      <td>1957.0</td>\n",
       "      <td>1957.0</td>\n",
       "      <td>5320.96</td>\n",
       "      <td>22</td>\n",
       "      <td>2021</td>\n",
       "      <td>1.2366</td>\n",
       "    </tr>\n",
       "    <tr>\n",
       "      <th>1</th>\n",
       "      <td>006-853-994</td>\n",
       "      <td>LAND</td>\n",
       "      <td>692274370000</td>\n",
       "      <td>69227437</td>\n",
       "      <td>RS-1</td>\n",
       "      <td>One-Family Dwelling</td>\n",
       "      <td>5</td>\n",
       "      <td>VAP11660</td>\n",
       "      <td>B</td>\n",
       "      <td>THSL</td>\n",
       "      <td>...</td>\n",
       "      <td>163000.0</td>\n",
       "      <td>2021.0</td>\n",
       "      <td>1071000.0</td>\n",
       "      <td>164000.0</td>\n",
       "      <td>1937.0</td>\n",
       "      <td>1995.0</td>\n",
       "      <td>5651.54</td>\n",
       "      <td>22</td>\n",
       "      <td>2021</td>\n",
       "      <td>1.3350</td>\n",
       "    </tr>\n",
       "    <tr>\n",
       "      <th>2</th>\n",
       "      <td>007-259-395</td>\n",
       "      <td>LAND</td>\n",
       "      <td>300726590000</td>\n",
       "      <td>30072659</td>\n",
       "      <td>RS-1</td>\n",
       "      <td>One-Family Dwelling</td>\n",
       "      <td>C</td>\n",
       "      <td>VAP3885</td>\n",
       "      <td>12</td>\n",
       "      <td>37</td>\n",
       "      <td>...</td>\n",
       "      <td>879000.0</td>\n",
       "      <td>2021.0</td>\n",
       "      <td>1266000.0</td>\n",
       "      <td>889000.0</td>\n",
       "      <td>2018.0</td>\n",
       "      <td>2018.0</td>\n",
       "      <td>7162.97</td>\n",
       "      <td>23</td>\n",
       "      <td>2021</td>\n",
       "      <td>2.3100</td>\n",
       "    </tr>\n",
       "    <tr>\n",
       "      <th>3</th>\n",
       "      <td>013-319-311</td>\n",
       "      <td>LAND</td>\n",
       "      <td>282715230000</td>\n",
       "      <td>28271523</td>\n",
       "      <td>RS-1</td>\n",
       "      <td>One-Family Dwelling</td>\n",
       "      <td>5</td>\n",
       "      <td>VAP2928</td>\n",
       "      <td>124</td>\n",
       "      <td>36</td>\n",
       "      <td>...</td>\n",
       "      <td>62100.0</td>\n",
       "      <td>2021.0</td>\n",
       "      <td>1128000.0</td>\n",
       "      <td>64500.0</td>\n",
       "      <td>1912.0</td>\n",
       "      <td>1975.0</td>\n",
       "      <td>5552.33</td>\n",
       "      <td>23</td>\n",
       "      <td>2021</td>\n",
       "      <td>1.2771</td>\n",
       "    </tr>\n",
       "    <tr>\n",
       "      <th>4</th>\n",
       "      <td>009-020-969</td>\n",
       "      <td>LAND</td>\n",
       "      <td>300722220000</td>\n",
       "      <td>30072222</td>\n",
       "      <td>RS-1</td>\n",
       "      <td>One-Family Dwelling</td>\n",
       "      <td>C</td>\n",
       "      <td>VAP11737</td>\n",
       "      <td>91</td>\n",
       "      <td>37</td>\n",
       "      <td>...</td>\n",
       "      <td>1146000.0</td>\n",
       "      <td>2021.0</td>\n",
       "      <td>1137000.0</td>\n",
       "      <td>1148000.0</td>\n",
       "      <td>2015.0</td>\n",
       "      <td>2015.0</td>\n",
       "      <td>7527.83</td>\n",
       "      <td>23</td>\n",
       "      <td>2021</td>\n",
       "      <td>2.4410</td>\n",
       "    </tr>\n",
       "    <tr>\n",
       "      <th>...</th>\n",
       "      <td>...</td>\n",
       "      <td>...</td>\n",
       "      <td>...</td>\n",
       "      <td>...</td>\n",
       "      <td>...</td>\n",
       "      <td>...</td>\n",
       "      <td>...</td>\n",
       "      <td>...</td>\n",
       "      <td>...</td>\n",
       "      <td>...</td>\n",
       "      <td>...</td>\n",
       "      <td>...</td>\n",
       "      <td>...</td>\n",
       "      <td>...</td>\n",
       "      <td>...</td>\n",
       "      <td>...</td>\n",
       "      <td>...</td>\n",
       "      <td>...</td>\n",
       "      <td>...</td>\n",
       "      <td>...</td>\n",
       "      <td>...</td>\n",
       "    </tr>\n",
       "    <tr>\n",
       "      <th>217797</th>\n",
       "      <td>011-105-607</td>\n",
       "      <td>LAND</td>\n",
       "      <td>121802630000</td>\n",
       "      <td>12180263</td>\n",
       "      <td>RS-6</td>\n",
       "      <td>One-Family Dwelling</td>\n",
       "      <td>8</td>\n",
       "      <td>VAP5614</td>\n",
       "      <td>11</td>\n",
       "      <td>526</td>\n",
       "      <td>...</td>\n",
       "      <td>40300.0</td>\n",
       "      <td>2021.0</td>\n",
       "      <td>3006000.0</td>\n",
       "      <td>39500.0</td>\n",
       "      <td>1945.0</td>\n",
       "      <td>1950.0</td>\n",
       "      <td>10299.10</td>\n",
       "      <td>10</td>\n",
       "      <td>2021</td>\n",
       "      <td>2.9133</td>\n",
       "    </tr>\n",
       "    <tr>\n",
       "      <th>217798</th>\n",
       "      <td>014-665-077</td>\n",
       "      <td>LAND</td>\n",
       "      <td>648275490000</td>\n",
       "      <td>64827549</td>\n",
       "      <td>RS-1</td>\n",
       "      <td>One-Family Dwelling</td>\n",
       "      <td>25</td>\n",
       "      <td>VAP1314</td>\n",
       "      <td>15</td>\n",
       "      <td>NaN</td>\n",
       "      <td>...</td>\n",
       "      <td>514000.0</td>\n",
       "      <td>2021.0</td>\n",
       "      <td>1155000.0</td>\n",
       "      <td>516000.0</td>\n",
       "      <td>2006.0</td>\n",
       "      <td>2006.0</td>\n",
       "      <td>5552.59</td>\n",
       "      <td>21</td>\n",
       "      <td>2021</td>\n",
       "      <td>1.7860</td>\n",
       "    </tr>\n",
       "    <tr>\n",
       "      <th>217799</th>\n",
       "      <td>014-571-862</td>\n",
       "      <td>LAND</td>\n",
       "      <td>702277820000</td>\n",
       "      <td>70227782</td>\n",
       "      <td>RS-1</td>\n",
       "      <td>One-Family Dwelling</td>\n",
       "      <td>20</td>\n",
       "      <td>VAP1535</td>\n",
       "      <td>3</td>\n",
       "      <td>THSL</td>\n",
       "      <td>...</td>\n",
       "      <td>144000.0</td>\n",
       "      <td>2021.0</td>\n",
       "      <td>1163000.0</td>\n",
       "      <td>78900.0</td>\n",
       "      <td>1976.0</td>\n",
       "      <td>1976.0</td>\n",
       "      <td>5762.67</td>\n",
       "      <td>22</td>\n",
       "      <td>2021</td>\n",
       "      <td>1.3850</td>\n",
       "    </tr>\n",
       "    <tr>\n",
       "      <th>217800</th>\n",
       "      <td>026-588-111</td>\n",
       "      <td>STRATA</td>\n",
       "      <td>316718080156</td>\n",
       "      <td>31671808</td>\n",
       "      <td>CD-1 (314)</td>\n",
       "      <td>Comprehensive Development</td>\n",
       "      <td>156</td>\n",
       "      <td>BCS1721</td>\n",
       "      <td>NaN</td>\n",
       "      <td>36</td>\n",
       "      <td>...</td>\n",
       "      <td>159000.0</td>\n",
       "      <td>2021.0</td>\n",
       "      <td>327000.0</td>\n",
       "      <td>157000.0</td>\n",
       "      <td>2005.0</td>\n",
       "      <td>2005.0</td>\n",
       "      <td>1525.54</td>\n",
       "      <td>23</td>\n",
       "      <td>2021</td>\n",
       "      <td>0.5220</td>\n",
       "    </tr>\n",
       "    <tr>\n",
       "      <th>217801</th>\n",
       "      <td>006-723-837</td>\n",
       "      <td>LAND</td>\n",
       "      <td>217727200000</td>\n",
       "      <td>21772720</td>\n",
       "      <td>RS-1</td>\n",
       "      <td>One-Family Dwelling</td>\n",
       "      <td>10</td>\n",
       "      <td>VAP1635</td>\n",
       "      <td>4</td>\n",
       "      <td>391</td>\n",
       "      <td>...</td>\n",
       "      <td>52500.0</td>\n",
       "      <td>2021.0</td>\n",
       "      <td>1266000.0</td>\n",
       "      <td>54000.0</td>\n",
       "      <td>1961.0</td>\n",
       "      <td>1970.0</td>\n",
       "      <td>5791.19</td>\n",
       "      <td>16</td>\n",
       "      <td>2021</td>\n",
       "      <td>1.3975</td>\n",
       "    </tr>\n",
       "  </tbody>\n",
       "</table>\n",
       "<p>217802 rows × 30 columns</p>\n",
       "</div>"
      ],
      "text/plain": [
       "                PID LEGAL_TYPE         FOLIO  LAND_COORDINATE ZONING_DISTRICT  \\\n",
       "0       006-871-534       LAND  698277050000         69827705            RS-1   \n",
       "1       006-853-994       LAND  692274370000         69227437            RS-1   \n",
       "2       007-259-395       LAND  300726590000         30072659            RS-1   \n",
       "3       013-319-311       LAND  282715230000         28271523            RS-1   \n",
       "4       009-020-969       LAND  300722220000         30072222            RS-1   \n",
       "...             ...        ...           ...              ...             ...   \n",
       "217797  011-105-607       LAND  121802630000         12180263            RS-6   \n",
       "217798  014-665-077       LAND  648275490000         64827549            RS-1   \n",
       "217799  014-571-862       LAND  702277820000         70227782            RS-1   \n",
       "217800  026-588-111     STRATA  316718080156         31671808      CD-1 (314)   \n",
       "217801  006-723-837       LAND  217727200000         21772720            RS-1   \n",
       "\n",
       "            ZONING_CLASSIFICATION  LOT      PLAN BLOCK DISTRICT_LOT  ...  \\\n",
       "0             One-Family Dwelling   31  VAP11660     J         THSL  ...   \n",
       "1             One-Family Dwelling    5  VAP11660     B         THSL  ...   \n",
       "2             One-Family Dwelling    C   VAP3885    12           37  ...   \n",
       "3             One-Family Dwelling    5   VAP2928   124           36  ...   \n",
       "4             One-Family Dwelling    C  VAP11737    91           37  ...   \n",
       "...                           ...  ...       ...   ...          ...  ...   \n",
       "217797        One-Family Dwelling    8   VAP5614    11          526  ...   \n",
       "217798        One-Family Dwelling   25   VAP1314    15          NaN  ...   \n",
       "217799        One-Family Dwelling   20   VAP1535     3         THSL  ...   \n",
       "217800  Comprehensive Development  156   BCS1721   NaN           36  ...   \n",
       "217801        One-Family Dwelling   10   VAP1635     4          391  ...   \n",
       "\n",
       "       CURRENT_IMPROVEMENT_VALUE  TAX_ASSESSMENT_YEAR PREVIOUS_LAND_VALUE  \\\n",
       "0                        31600.0               2021.0           1101000.0   \n",
       "1                       163000.0               2021.0           1071000.0   \n",
       "2                       879000.0               2021.0           1266000.0   \n",
       "3                        62100.0               2021.0           1128000.0   \n",
       "4                      1146000.0               2021.0           1137000.0   \n",
       "...                          ...                  ...                 ...   \n",
       "217797                   40300.0               2021.0           3006000.0   \n",
       "217798                  514000.0               2021.0           1155000.0   \n",
       "217799                  144000.0               2021.0           1163000.0   \n",
       "217800                  159000.0               2021.0            327000.0   \n",
       "217801                   52500.0               2021.0           1266000.0   \n",
       "\n",
       "       PREVIOUS_IMPROVEMENT_VALUE YEAR_BUILT BIG_IMPROVEMENT_YEAR  TAX_LEVY  \\\n",
       "0                         31000.0     1957.0               1957.0   5320.96   \n",
       "1                        164000.0     1937.0               1995.0   5651.54   \n",
       "2                        889000.0     2018.0               2018.0   7162.97   \n",
       "3                         64500.0     1912.0               1975.0   5552.33   \n",
       "4                       1148000.0     2015.0               2015.0   7527.83   \n",
       "...                           ...        ...                  ...       ...   \n",
       "217797                    39500.0     1945.0               1950.0  10299.10   \n",
       "217798                   516000.0     2006.0               2006.0   5552.59   \n",
       "217799                    78900.0     1976.0               1976.0   5762.67   \n",
       "217800                   157000.0     2005.0               2005.0   1525.54   \n",
       "217801                    54000.0     1961.0               1970.0   5791.19   \n",
       "\n",
       "       NEIGHBOURHOOD_CODE REPORT_YEAR  HOUSE_PRICE  \n",
       "0                      22        2021       1.2366  \n",
       "1                      22        2021       1.3350  \n",
       "2                      23        2021       2.3100  \n",
       "3                      23        2021       1.2771  \n",
       "4                      23        2021       2.4410  \n",
       "...                   ...         ...          ...  \n",
       "217797                 10        2021       2.9133  \n",
       "217798                 21        2021       1.7860  \n",
       "217799                 22        2021       1.3850  \n",
       "217800                 23        2021       0.5220  \n",
       "217801                 16        2021       1.3975  \n",
       "\n",
       "[217802 rows x 30 columns]"
      ]
     },
     "execution_count": 65,
     "metadata": {},
     "output_type": "execute_result"
    }
   ],
   "source": [
    "df"
   ]
  },
  {
   "cell_type": "markdown",
   "metadata": {},
   "source": [
    "### Task A. Visualizations"
   ]
  },
  {
   "cell_type": "markdown",
   "metadata": {},
   "source": [
    "Since the housing price varies a lot by locations, we will only consider the houses whose postcode starts with 'V6A'. Furthermore, we remove the houses that were built before 1900."
   ]
  },
  {
   "cell_type": "markdown",
   "metadata": {},
   "source": [
    "<img src=\"img/v6a.png\" width=\"400\">"
   ]
  },
  {
   "cell_type": "markdown",
   "metadata": {},
   "source": [
    "In the following, please make two subplots in one row. For the left subplot, it is a scatter plot with X = `YEAR_BUILT` and Y = `HOUSE_PRICE`; for the right subplot, it is a hexbin plot (gridsize = 20) with X = `YEAR_BUILT` and Y = `HOUSE_PRICE`."
   ]
  },
  {
   "cell_type": "code",
   "execution_count": 66,
   "metadata": {},
   "outputs": [
    {
     "data": {
      "text/plain": [
       "<matplotlib.collections.PolyCollection at 0x2974bcd30>"
      ]
     },
     "execution_count": 66,
     "metadata": {},
     "output_type": "execute_result"
    },
    {
     "data": {
      "image/png": "[encoded data removed]",
      "text/plain": [
       "<Figure size 640x480 with 2 Axes>"
      ]
     },
     "metadata": {},
     "output_type": "display_data"
    }
   ],
   "source": [
    "#<-- Write Your Code -->\n",
    "import matplotlib.pyplot as plt\n",
    "\n",
    "df['post_code_stripped'] = df['PROPERTY_POSTAL_CODE'].astype(str).map(lambda code: code.split()[0].upper())\n",
    "v6a_df = df[(df['post_code_stripped']=='V6A') & (df['YEAR_BUILT']>1900)]\n",
    "\n",
    "fig, (ax1, ax2) = plt.subplots(1, 2)\n",
    "ax1.scatter(v6a_df['YEAR_BUILT'], v6a_df['HOUSE_PRICE'])\n",
    "ax2.hexbin(v6a_df['YEAR_BUILT'], v6a_df['HOUSE_PRICE'], gridsize=(20,20), cmap='GnBu')"
   ]
  },
  {
   "cell_type": "markdown",
   "metadata": {},
   "source": [
    "Please write down the **two** most interesting findings that you draw from the plot.\n",
    "\n",
    "**Findings**\n",
    "1. [ADD TEXT]\n",
    "2. [ADD TEXT]"
   ]
  },
  {
   "cell_type": "markdown",
   "metadata": {},
   "source": [
    "The above plots provide a general impression of the relationship between variables. There are some other visualizations that can provide more insights. One option is to bin one variable and plot percentiles of the other. \n",
    "\n",
    "\n",
    "In the following, please make three subplots in a row, where each subplot is a scatter plot with X = YEAR_BUILT and Y = HOUSE_PRICE. \n",
    "* The first subplot shows how the 25th percentile of `HOUSE_PRICE` changes over years (X = `YEAR_BUILT`, Y = `25TH_HOUSE_PRICE`); \n",
    "* The second subplot shows how the 50th percentile of `HOUSE_PRICE` changes over years (X = `YEAR_BUILT`, Y = `50TH_HOUSE_PRICE`); \n",
    "* The third subplot shows how the 75th percentile of `HOUSE_PRICE` changes over years (X = `YEAR_BUILT`, Y = `75TH_HOUSE_PRICE`);  \n"
   ]
  },
  {
   "cell_type": "code",
   "execution_count": 67,
   "metadata": {},
   "outputs": [
    {
     "data": {
      "text/plain": [
       "<matplotlib.collections.PathCollection at 0x2979af9a0>"
      ]
     },
     "execution_count": 67,
     "metadata": {},
     "output_type": "execute_result"
    },
    {
     "data": {
      "image/png": "[encoded data removed]",
      "text/plain": [
       "<Figure size 640x480 with 3 Axes>"
      ]
     },
     "metadata": {},
     "output_type": "display_data"
    }
   ],
   "source": [
    "#<-- Write Your Code -->\n",
    "import numpy as np\n",
    "\n",
    "dfcor = v6a_df[['YEAR_BUILT', 'HOUSE_PRICE']].groupby(by='YEAR_BUILT') \\\n",
    "\t.agg(\n",
    "\t\tHOUSE_PRICE_25 =('HOUSE_PRICE', lambda x: np.percentile(x, 25)),\n",
    "\t\tHOUSE_PRICE_50 =('HOUSE_PRICE', lambda x: np.percentile(x, 50)),\n",
    "\t\tHOUSE_PRICE_75 =('HOUSE_PRICE', lambda x: np.percentile(x, 75))\n",
    "\t).rename(\n",
    "\t\tcolumns={\n",
    "\t\t\t'HOUSE_PRICE_25' : '25TH_HOUSE_PRICE',\n",
    "\t\t\t'HOUSE_PRICE_50' : '50TH_HOUSE_PRICE',\n",
    "\t\t\t'HOUSE_PRICE_75' : '75TH_HOUSE_PRICE'\n",
    "\t\t}\n",
    "\t)\n",
    "\n",
    "dfcor = dfcor.reset_index()\n",
    "dfcor\n",
    "\n",
    "fig, (ax1, ax2, ax3) = plt.subplots(1, 3)\n",
    "ax1.scatter(dfcor['YEAR_BUILT'], dfcor['25TH_HOUSE_PRICE'])\n",
    "ax2.scatter(dfcor['YEAR_BUILT'], dfcor['50TH_HOUSE_PRICE'])\n",
    "ax3.scatter(dfcor['YEAR_BUILT'], dfcor['75TH_HOUSE_PRICE'])"
   ]
  },
  {
   "cell_type": "markdown",
   "metadata": {},
   "source": [
    "Please write down the **two** most interesting findings that you draw from the plot.\n",
    "\n",
    "**Findings**\n",
    "1. [ADD TEXT]\n",
    "2. [ADD TEXT]"
   ]
  },
  {
   "cell_type": "markdown",
   "metadata": {},
   "source": [
    "### Task B. Correlation Coefficient"
   ]
  },
  {
   "cell_type": "markdown",
   "metadata": {},
   "source": [
    "A correlation coefficient is a numerical measure of some type of correlation, meaning a statistical relationship between a pair of variables. \n",
    "\n",
    "In the following, please implement `calc_pearson()` and `calc_spearman()`, respectively. Note that you are *NOT* allowed to use [corr](https://pandas.pydata.org/pandas-docs/stable/generated/pandas.DataFrame.corr.html) from Pandas or [pearsonr](https://docs.scipy.org/doc/scipy/reference/generated/scipy.stats.pearsonr.html#scipy.stats.pearsonr)/[spearmanr](https://docs.scipy.org/doc/scipy/reference/generated/scipy.stats.spearmanr.html#scipy.stats.spearmanr) from scipy.stats to do this task. In other words, you need to implement the actual algorithms for pearson and spearman."
   ]
  },
  {
   "cell_type": "code",
   "execution_count": 68,
   "metadata": {},
   "outputs": [],
   "source": [
    "def calc_pearson(df, x, y):\n",
    "    #<-- Write Your Code -->   \n",
    "    matrix = df\n",
    "    matrix['xy'] = matrix[x] * matrix[y]\n",
    "    mean_xy = matrix['xy'].mean()\n",
    "    mean_x = matrix[x].mean()\n",
    "    mean_y = matrix[y].mean()\n",
    "    cov_xy = mean_xy - (mean_x * mean_y)\n",
    "\n",
    "    std_x = matrix[x].std()\n",
    "    std_y = matrix[y].std()\n",
    "\n",
    "    return (cov_xy / (std_x * std_y))\n",
    "\n",
    "    \n",
    "\n",
    "def calc_spearman(df, x, y):\n",
    "    #<-- Write Your Code -->\n",
    "    matrix = df\n",
    "    matrix['rank_x'] = df[x].rank()\n",
    "    matrix['rank_y'] = df[y].rank()\n",
    "\n",
    "    matrix['rank_x_rank_y'] = matrix['rank_x'] * matrix['rank_y']\n",
    "    mean_rank_x_rank_y = matrix['rank_x_rank_y'].mean()\n",
    "    mean_rank_x = matrix['rank_x'].mean()\n",
    "    mean_rank_y = matrix['rank_y'].mean()\n",
    "    cov_rank_x_rank_y = mean_rank_x_rank_y - (mean_rank_x * mean_rank_y)\n",
    "\n",
    "    std_rank_x = matrix['rank_x'].std()\n",
    "    std_rank_y = matrix['rank_y'].std()\n",
    "\n",
    "    return (cov_rank_x_rank_y / (std_rank_x * std_rank_y))\n",
    "    \n"
   ]
  },
  {
   "cell_type": "markdown",
   "metadata": {},
   "source": [
    "Then, you can use these two functions to compute the Pearson's correlation as well as Spearman's rank correlation for three pairs of variables: <`25TH_HOUSE_PRICE`, `YEAR_BUILT`>, <`50TH_HOUSE_PRICE`, `YEAR_BUILT`>, and <`75TH_HOUSE_PRICE`, `YEAR_BUILT`>. "
   ]
  },
  {
   "cell_type": "code",
   "execution_count": 69,
   "metadata": {
    "scrolled": true
   },
   "outputs": [
    {
     "name": "stdout",
     "output_type": "stream",
     "text": [
      "   YEAR_BUILT  25TH_HOUSE_PRICE  50TH_HOUSE_PRICE  75TH_HOUSE_PRICE\n",
      "0      1901.0               NaN               NaN               NaN\n",
      "1      1902.0         13.056000           13.0560         13.056000\n",
      "2      1903.0          1.382600            1.4757          1.610300\n",
      "3      1904.0          1.204300            1.4040          1.701000\n",
      "4      1905.0               NaN               NaN               NaN\n",
      "5      1906.0               NaN               NaN               NaN\n",
      "6      1907.0          1.570100            1.8400          2.136000\n",
      "7      1908.0          1.409300            1.5915          1.859000\n",
      "8      1909.0          1.271175            1.6615          6.102225\n",
      "9      1910.0               NaN               NaN               NaN\n",
      "\n",
      "25TH_HOUSE_PRICE\t pearson=-0.237284\t spearman=-0.559590\n",
      "50TH_HOUSE_PRICE\t pearson=-0.251737\t spearman=-0.531490\n",
      "75TH_HOUSE_PRICE\t pearson=-0.187023\t spearman=-0.436214\n"
     ]
    }
   ],
   "source": [
    "print(dfcor.head(10))\n",
    "print()\n",
    "\n",
    "for TH in [\"25TH\", \"50TH\", \"75TH\"]:\n",
    "    print(TH+\"_HOUSE_PRICE\\t pearson=%f\\t spearman=%f\"  \\\n",
    "          %(calc_pearson(dfcor, \"YEAR_BUILT\", TH+\"_HOUSE_PRICE\"), \\\n",
    "            calc_spearman(dfcor, \"YEAR_BUILT\", TH+\"_HOUSE_PRICE\")))"
   ]
  },
  {
   "cell_type": "markdown",
   "metadata": {},
   "source": [
    "Please write down the **two** most interesting findings that you draw from the result."
   ]
  },
  {
   "cell_type": "markdown",
   "metadata": {},
   "source": [
    " \n",
    "\n",
    "**Findings**\n",
    "1. [ADD TEXT]\n",
    "2. [ADD TEXT]"
   ]
  },
  {
   "cell_type": "markdown",
   "metadata": {},
   "source": [
    "## Part 2. Bootstrapping"
   ]
  },
  {
   "cell_type": "markdown",
   "metadata": {},
   "source": [
    "In reality, it is more often than not that you can only collect a sample of the data. Whenever you derive a conclusion from a sample (e.g., Vancouver's housing price has increased by 10% since last year), you should ALWAYS ask yourself: **\"CAN I TRUST IT?\"**. In other words, you want to know that if the same analysis was conducted on the full data, would the same conclusion be derived? In Part 2, you will learn how to use bootstrapping to answer this question. "
   ]
  },
  {
   "cell_type": "code",
   "execution_count": 61,
   "metadata": {},
   "outputs": [
    {
     "ename": "FileNotFoundError",
     "evalue": "[Errno 2] No such file or directory: 'property-tax-report_2021_sample.csv'",
     "output_type": "error",
     "traceback": [
      "\u001b[0;31m---------------------------------------------------------------------------\u001b[0m",
      "\u001b[0;31mFileNotFoundError\u001b[0m                         Traceback (most recent call last)",
      "Cell \u001b[0;32mIn[61], line 1\u001b[0m\n\u001b[0;32m----> 1\u001b[0m df_sample \u001b[38;5;241m=\u001b[39m \u001b[43mpd\u001b[49m\u001b[38;5;241;43m.\u001b[39;49m\u001b[43mread_csv\u001b[49m\u001b[43m(\u001b[49m\u001b[38;5;124;43m\"\u001b[39;49m\u001b[38;5;124;43mproperty-tax-report_2021_sample.csv\u001b[39;49m\u001b[38;5;124;43m\"\u001b[39;49m\u001b[43m)\u001b[49m\n\u001b[1;32m      3\u001b[0m df_sample[\u001b[38;5;124m'\u001b[39m\u001b[38;5;124mCURRENT_PRICE\u001b[39m\u001b[38;5;124m'\u001b[39m] \u001b[38;5;241m=\u001b[39m df_sample\u001b[38;5;241m.\u001b[39mapply(\u001b[38;5;28;01mlambda\u001b[39;00m x: x[\u001b[38;5;124m'\u001b[39m\u001b[38;5;124mCURRENT_LAND_VALUE\u001b[39m\u001b[38;5;124m'\u001b[39m] \\\n\u001b[1;32m      4\u001b[0m                                              \u001b[38;5;241m+\u001b[39mx[\u001b[38;5;124m'\u001b[39m\u001b[38;5;124mCURRENT_IMPROVEMENT_VALUE\u001b[39m\u001b[38;5;124m'\u001b[39m], axis \u001b[38;5;241m=\u001b[39m \u001b[38;5;241m1\u001b[39m)\n\u001b[1;32m      6\u001b[0m df_sample[\u001b[38;5;124m'\u001b[39m\u001b[38;5;124mPREVIOUS_PRICE\u001b[39m\u001b[38;5;124m'\u001b[39m] \u001b[38;5;241m=\u001b[39m df_sample\u001b[38;5;241m.\u001b[39mapply(\u001b[38;5;28;01mlambda\u001b[39;00m x: x[\u001b[38;5;124m'\u001b[39m\u001b[38;5;124mPREVIOUS_LAND_VALUE\u001b[39m\u001b[38;5;124m'\u001b[39m] \\\n\u001b[1;32m      7\u001b[0m                                               \u001b[38;5;241m+\u001b[39mx[\u001b[38;5;124m'\u001b[39m\u001b[38;5;124mPREVIOUS_IMPROVEMENT_VALUE\u001b[39m\u001b[38;5;124m'\u001b[39m], axis \u001b[38;5;241m=\u001b[39m \u001b[38;5;241m1\u001b[39m)\n",
      "File \u001b[0;32m~/Documents/SFU/venv/lib/python3.10/site-packages/pandas/util/_decorators.py:211\u001b[0m, in \u001b[0;36mdeprecate_kwarg.<locals>._deprecate_kwarg.<locals>.wrapper\u001b[0;34m(*args, **kwargs)\u001b[0m\n\u001b[1;32m    209\u001b[0m     \u001b[39melse\u001b[39;00m:\n\u001b[1;32m    210\u001b[0m         kwargs[new_arg_name] \u001b[39m=\u001b[39m new_arg_value\n\u001b[0;32m--> 211\u001b[0m \u001b[39mreturn\u001b[39;00m func(\u001b[39m*\u001b[39;49margs, \u001b[39m*\u001b[39;49m\u001b[39m*\u001b[39;49mkwargs)\n",
      "File \u001b[0;32m~/Documents/SFU/venv/lib/python3.10/site-packages/pandas/util/_decorators.py:331\u001b[0m, in \u001b[0;36mdeprecate_nonkeyword_arguments.<locals>.decorate.<locals>.wrapper\u001b[0;34m(*args, **kwargs)\u001b[0m\n\u001b[1;32m    325\u001b[0m \u001b[39mif\u001b[39;00m \u001b[39mlen\u001b[39m(args) \u001b[39m>\u001b[39m num_allow_args:\n\u001b[1;32m    326\u001b[0m     warnings\u001b[39m.\u001b[39mwarn(\n\u001b[1;32m    327\u001b[0m         msg\u001b[39m.\u001b[39mformat(arguments\u001b[39m=\u001b[39m_format_argument_list(allow_args)),\n\u001b[1;32m    328\u001b[0m         \u001b[39mFutureWarning\u001b[39;00m,\n\u001b[1;32m    329\u001b[0m         stacklevel\u001b[39m=\u001b[39mfind_stack_level(),\n\u001b[1;32m    330\u001b[0m     )\n\u001b[0;32m--> 331\u001b[0m \u001b[39mreturn\u001b[39;00m func(\u001b[39m*\u001b[39;49margs, \u001b[39m*\u001b[39;49m\u001b[39m*\u001b[39;49mkwargs)\n",
      "File \u001b[0;32m~/Documents/SFU/venv/lib/python3.10/site-packages/pandas/io/parsers/readers.py:950\u001b[0m, in \u001b[0;36mread_csv\u001b[0;34m(filepath_or_buffer, sep, delimiter, header, names, index_col, usecols, squeeze, prefix, mangle_dupe_cols, dtype, engine, converters, true_values, false_values, skipinitialspace, skiprows, skipfooter, nrows, na_values, keep_default_na, na_filter, verbose, skip_blank_lines, parse_dates, infer_datetime_format, keep_date_col, date_parser, dayfirst, cache_dates, iterator, chunksize, compression, thousands, decimal, lineterminator, quotechar, quoting, doublequote, escapechar, comment, encoding, encoding_errors, dialect, error_bad_lines, warn_bad_lines, on_bad_lines, delim_whitespace, low_memory, memory_map, float_precision, storage_options)\u001b[0m\n\u001b[1;32m    935\u001b[0m kwds_defaults \u001b[39m=\u001b[39m _refine_defaults_read(\n\u001b[1;32m    936\u001b[0m     dialect,\n\u001b[1;32m    937\u001b[0m     delimiter,\n\u001b[0;32m   (...)\u001b[0m\n\u001b[1;32m    946\u001b[0m     defaults\u001b[39m=\u001b[39m{\u001b[39m\"\u001b[39m\u001b[39mdelimiter\u001b[39m\u001b[39m\"\u001b[39m: \u001b[39m\"\u001b[39m\u001b[39m,\u001b[39m\u001b[39m\"\u001b[39m},\n\u001b[1;32m    947\u001b[0m )\n\u001b[1;32m    948\u001b[0m kwds\u001b[39m.\u001b[39mupdate(kwds_defaults)\n\u001b[0;32m--> 950\u001b[0m \u001b[39mreturn\u001b[39;00m _read(filepath_or_buffer, kwds)\n",
      "File \u001b[0;32m~/Documents/SFU/venv/lib/python3.10/site-packages/pandas/io/parsers/readers.py:605\u001b[0m, in \u001b[0;36m_read\u001b[0;34m(filepath_or_buffer, kwds)\u001b[0m\n\u001b[1;32m    602\u001b[0m _validate_names(kwds\u001b[39m.\u001b[39mget(\u001b[39m\"\u001b[39m\u001b[39mnames\u001b[39m\u001b[39m\"\u001b[39m, \u001b[39mNone\u001b[39;00m))\n\u001b[1;32m    604\u001b[0m \u001b[39m# Create the parser.\u001b[39;00m\n\u001b[0;32m--> 605\u001b[0m parser \u001b[39m=\u001b[39m TextFileReader(filepath_or_buffer, \u001b[39m*\u001b[39;49m\u001b[39m*\u001b[39;49mkwds)\n\u001b[1;32m    607\u001b[0m \u001b[39mif\u001b[39;00m chunksize \u001b[39mor\u001b[39;00m iterator:\n\u001b[1;32m    608\u001b[0m     \u001b[39mreturn\u001b[39;00m parser\n",
      "File \u001b[0;32m~/Documents/SFU/venv/lib/python3.10/site-packages/pandas/io/parsers/readers.py:1442\u001b[0m, in \u001b[0;36mTextFileReader.__init__\u001b[0;34m(self, f, engine, **kwds)\u001b[0m\n\u001b[1;32m   1439\u001b[0m     \u001b[39mself\u001b[39m\u001b[39m.\u001b[39moptions[\u001b[39m\"\u001b[39m\u001b[39mhas_index_names\u001b[39m\u001b[39m\"\u001b[39m] \u001b[39m=\u001b[39m kwds[\u001b[39m\"\u001b[39m\u001b[39mhas_index_names\u001b[39m\u001b[39m\"\u001b[39m]\n\u001b[1;32m   1441\u001b[0m \u001b[39mself\u001b[39m\u001b[39m.\u001b[39mhandles: IOHandles \u001b[39m|\u001b[39m \u001b[39mNone\u001b[39;00m \u001b[39m=\u001b[39m \u001b[39mNone\u001b[39;00m\n\u001b[0;32m-> 1442\u001b[0m \u001b[39mself\u001b[39m\u001b[39m.\u001b[39m_engine \u001b[39m=\u001b[39m \u001b[39mself\u001b[39;49m\u001b[39m.\u001b[39;49m_make_engine(f, \u001b[39mself\u001b[39;49m\u001b[39m.\u001b[39;49mengine)\n",
      "File \u001b[0;32m~/Documents/SFU/venv/lib/python3.10/site-packages/pandas/io/parsers/readers.py:1735\u001b[0m, in \u001b[0;36mTextFileReader._make_engine\u001b[0;34m(self, f, engine)\u001b[0m\n\u001b[1;32m   1733\u001b[0m     \u001b[39mif\u001b[39;00m \u001b[39m\"\u001b[39m\u001b[39mb\u001b[39m\u001b[39m\"\u001b[39m \u001b[39mnot\u001b[39;00m \u001b[39min\u001b[39;00m mode:\n\u001b[1;32m   1734\u001b[0m         mode \u001b[39m+\u001b[39m\u001b[39m=\u001b[39m \u001b[39m\"\u001b[39m\u001b[39mb\u001b[39m\u001b[39m\"\u001b[39m\n\u001b[0;32m-> 1735\u001b[0m \u001b[39mself\u001b[39m\u001b[39m.\u001b[39mhandles \u001b[39m=\u001b[39m get_handle(\n\u001b[1;32m   1736\u001b[0m     f,\n\u001b[1;32m   1737\u001b[0m     mode,\n\u001b[1;32m   1738\u001b[0m     encoding\u001b[39m=\u001b[39;49m\u001b[39mself\u001b[39;49m\u001b[39m.\u001b[39;49moptions\u001b[39m.\u001b[39;49mget(\u001b[39m\"\u001b[39;49m\u001b[39mencoding\u001b[39;49m\u001b[39m\"\u001b[39;49m, \u001b[39mNone\u001b[39;49;00m),\n\u001b[1;32m   1739\u001b[0m     compression\u001b[39m=\u001b[39;49m\u001b[39mself\u001b[39;49m\u001b[39m.\u001b[39;49moptions\u001b[39m.\u001b[39;49mget(\u001b[39m\"\u001b[39;49m\u001b[39mcompression\u001b[39;49m\u001b[39m\"\u001b[39;49m, \u001b[39mNone\u001b[39;49;00m),\n\u001b[1;32m   1740\u001b[0m     memory_map\u001b[39m=\u001b[39;49m\u001b[39mself\u001b[39;49m\u001b[39m.\u001b[39;49moptions\u001b[39m.\u001b[39;49mget(\u001b[39m\"\u001b[39;49m\u001b[39mmemory_map\u001b[39;49m\u001b[39m\"\u001b[39;49m, \u001b[39mFalse\u001b[39;49;00m),\n\u001b[1;32m   1741\u001b[0m     is_text\u001b[39m=\u001b[39;49mis_text,\n\u001b[1;32m   1742\u001b[0m     errors\u001b[39m=\u001b[39;49m\u001b[39mself\u001b[39;49m\u001b[39m.\u001b[39;49moptions\u001b[39m.\u001b[39;49mget(\u001b[39m\"\u001b[39;49m\u001b[39mencoding_errors\u001b[39;49m\u001b[39m\"\u001b[39;49m, \u001b[39m\"\u001b[39;49m\u001b[39mstrict\u001b[39;49m\u001b[39m\"\u001b[39;49m),\n\u001b[1;32m   1743\u001b[0m     storage_options\u001b[39m=\u001b[39;49m\u001b[39mself\u001b[39;49m\u001b[39m.\u001b[39;49moptions\u001b[39m.\u001b[39;49mget(\u001b[39m\"\u001b[39;49m\u001b[39mstorage_options\u001b[39;49m\u001b[39m\"\u001b[39;49m, \u001b[39mNone\u001b[39;49;00m),\n\u001b[1;32m   1744\u001b[0m )\n\u001b[1;32m   1745\u001b[0m \u001b[39massert\u001b[39;00m \u001b[39mself\u001b[39m\u001b[39m.\u001b[39mhandles \u001b[39mis\u001b[39;00m \u001b[39mnot\u001b[39;00m \u001b[39mNone\u001b[39;00m\n\u001b[1;32m   1746\u001b[0m f \u001b[39m=\u001b[39m \u001b[39mself\u001b[39m\u001b[39m.\u001b[39mhandles\u001b[39m.\u001b[39mhandle\n",
      "File \u001b[0;32m~/Documents/SFU/venv/lib/python3.10/site-packages/pandas/io/common.py:856\u001b[0m, in \u001b[0;36mget_handle\u001b[0;34m(path_or_buf, mode, encoding, compression, memory_map, is_text, errors, storage_options)\u001b[0m\n\u001b[1;32m    851\u001b[0m \u001b[39melif\u001b[39;00m \u001b[39misinstance\u001b[39m(handle, \u001b[39mstr\u001b[39m):\n\u001b[1;32m    852\u001b[0m     \u001b[39m# Check whether the filename is to be opened in binary mode.\u001b[39;00m\n\u001b[1;32m    853\u001b[0m     \u001b[39m# Binary mode does not support 'encoding' and 'newline'.\u001b[39;00m\n\u001b[1;32m    854\u001b[0m     \u001b[39mif\u001b[39;00m ioargs\u001b[39m.\u001b[39mencoding \u001b[39mand\u001b[39;00m \u001b[39m\"\u001b[39m\u001b[39mb\u001b[39m\u001b[39m\"\u001b[39m \u001b[39mnot\u001b[39;00m \u001b[39min\u001b[39;00m ioargs\u001b[39m.\u001b[39mmode:\n\u001b[1;32m    855\u001b[0m         \u001b[39m# Encoding\u001b[39;00m\n\u001b[0;32m--> 856\u001b[0m         handle \u001b[39m=\u001b[39m \u001b[39mopen\u001b[39;49m(\n\u001b[1;32m    857\u001b[0m             handle,\n\u001b[1;32m    858\u001b[0m             ioargs\u001b[39m.\u001b[39;49mmode,\n\u001b[1;32m    859\u001b[0m             encoding\u001b[39m=\u001b[39;49mioargs\u001b[39m.\u001b[39;49mencoding,\n\u001b[1;32m    860\u001b[0m             errors\u001b[39m=\u001b[39;49merrors,\n\u001b[1;32m    861\u001b[0m             newline\u001b[39m=\u001b[39;49m\u001b[39m\"\u001b[39;49m\u001b[39m\"\u001b[39;49m,\n\u001b[1;32m    862\u001b[0m         )\n\u001b[1;32m    863\u001b[0m     \u001b[39melse\u001b[39;00m:\n\u001b[1;32m    864\u001b[0m         \u001b[39m# Binary mode\u001b[39;00m\n\u001b[1;32m    865\u001b[0m         handle \u001b[39m=\u001b[39m \u001b[39mopen\u001b[39m(handle, ioargs\u001b[39m.\u001b[39mmode)\n",
      "\u001b[0;31mFileNotFoundError\u001b[0m: [Errno 2] No such file or directory: 'property-tax-report_2021_sample.csv'"
     ]
    }
   ],
   "source": [
    "df_sample = pd.read_csv(\"property-tax-report_2021_sample.csv\")\n",
    "\n",
    "df_sample['CURRENT_PRICE'] = df_sample.apply(lambda x: x['CURRENT_LAND_VALUE'] \\\n",
    "                                             +x['CURRENT_IMPROVEMENT_VALUE'], axis = 1)\n",
    "\n",
    "df_sample['PREVIOUS_PRICE'] = df_sample.apply(lambda x: x['PREVIOUS_LAND_VALUE'] \\\n",
    "                                              +x['PREVIOUS_IMPROVEMENT_VALUE'], axis = 1)\n",
    "\n",
    "df_sample = df_sample[df_sample['LEGAL_TYPE'] == 'STRATA']"
   ]
  },
  {
   "cell_type": "markdown",
   "metadata": {},
   "source": [
    "### Task 1. Analysis Result Without Bootstrapping"
   ]
  },
  {
   "cell_type": "markdown",
   "metadata": {},
   "source": [
    "Please compute the median of PREVIOUS_PRICE and CURRENT_PRICE, respectively, and compare them in a bar chart."
   ]
  },
  {
   "cell_type": "code",
   "execution_count": null,
   "metadata": {},
   "outputs": [],
   "source": [
    "# --- Write your code below ---\n"
   ]
  },
  {
   "cell_type": "markdown",
   "metadata": {},
   "source": [
    "### Task 2. Analysis Result With Bootstrapping"
   ]
  },
  {
   "cell_type": "markdown",
   "metadata": {},
   "source": [
    "From the above chart, we find that the median of PREVIOUS_PRICE is about 0.77 M, and the median of CURRENT_PRICE is about 0.72 M. Since the numbers were obtained from the sample, **\"CAN WE TRUST THESE NUMBERS?\"**\n",
    "\n",
    "In the following, please implement the bootstrap by yourself, compute a 95%-confidence interval for each number, and add the confidence intervals to the above bar chart. [This document](./MIT18_05S14_Reading24.pdf) gives a good tutorial about the bootstrap. You can find the description of the algorithm in Section 7."
   ]
  },
  {
   "cell_type": "code",
   "execution_count": null,
   "metadata": {
    "scrolled": true
   },
   "outputs": [],
   "source": [
    "# --- Write your code below ---\n"
   ]
  },
  {
   "cell_type": "markdown",
   "metadata": {},
   "source": [
    "## Submission"
   ]
  },
  {
   "cell_type": "markdown",
   "metadata": {},
   "source": [
    "Complete the code in this notebook, and submit it to the CourSys activity Assignment 4."
   ]
  }
 ],
 "metadata": {
  "kernelspec": {
   "display_name": "Python 3.10.8 ('venv')",
   "language": "python",
   "name": "python3"
  },
  "language_info": {
   "codemirror_mode": {
    "name": "ipython",
    "version": 3
   },
   "file_extension": ".py",
   "mimetype": "text/x-python",
   "name": "python",
   "nbconvert_exporter": "python",
   "pygments_lexer": "ipython3",
   "version": "3.10.8"
  },
  "vscode": {
   "interpreter": {
    "hash": "b684eb12aa6d446f879365b768eb607e34a2c9ea6897d9b98415aa93875ae3b6"
   }
  }
 },
 "nbformat": 4,
 "nbformat_minor": 2
}
